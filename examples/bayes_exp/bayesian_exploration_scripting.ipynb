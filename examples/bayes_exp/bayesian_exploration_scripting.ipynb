{
 "cells": [
  {
   "cell_type": "markdown",
   "id": "9e1b3d38-fe20-4a94-9901-9fe80e3fb1d8",
   "metadata": {},
   "source": [
    "# Bayesian exploration using script"
   ]
  },
  {
   "cell_type": "code",
   "execution_count": 1,
   "id": "4a9be9bf-b3c5-468d-84f6-c7b8cf25806e",
   "metadata": {},
   "outputs": [],
   "source": [
    "# main function\n",
    "import numpy as np\n",
    "import torch\n",
    "import matplotlib.pyplot as plt\n",
    "%matplotlib inline\n",
    "\n",
    "import os\n",
    "SMOKE_TEST = os.environ.get('SMOKE_TEST')\n",
    "\n",
    "from xopt.algorithms.functional import run_algortihm\n",
    "from xopt.generators.bayesian.generator import BayesianExploration\n",
    "\n",
    "# test function\n",
    "from xopt.tests.test_functions import TNK"
   ]
  },
  {
   "cell_type": "code",
   "execution_count": 2,
   "id": "1d46c3b6-89a1-494e-b612-f94b836e0ad3",
   "metadata": {},
   "outputs": [],
   "source": [
    "# To see log messages\n",
    "from xopt import output_notebook\n",
    "output_notebook()"
   ]
  },
  {
   "cell_type": "code",
   "execution_count": 3,
   "id": "c408bff1-fd32-4b08-a6f2-779cce3fed7c",
   "metadata": {},
   "outputs": [
    {
     "name": "stdout",
     "output_type": "stream",
     "text": [
      "{'name': 'TNK_test', 'description': 'Constrainted test function TNK. See Table V in https://www.iitk.ac.in/kangal/Deb_NSGA-II.pdf', 'simulation': 'test_TNK', 'variables': {'x1': [0, 3.14159], 'x2': [0, 3.14159]}, 'objectives': {'y1': 'MINIMIZE', 'y2': 'MINIMIZE'}, 'constraints': {'c1': ['GREATER_THAN', 0], 'c2': ['LESS_THAN', 0.5]}, 'constants': {'a': 'dummy_constant'}}\n",
      "Generating and submitting initial samples\n",
      "generating samples\n",
      "collecting results\n",
      "generating samples\n",
      "collecting results\n",
      "generating samples\n",
      "collecting results\n",
      "generating samples\n",
      "collecting results\n",
      "generating samples\n",
      "collecting results\n",
      "generating samples\n",
      "collecting results\n",
      "generating samples\n",
      "collecting results\n",
      "generating samples\n",
      "collecting results\n",
      "generating samples\n",
      "collecting results\n",
      "generating samples\n",
      "collecting results\n",
      "generating samples\n",
      "collecting results\n",
      "generating samples\n",
      "collecting results\n",
      "generating samples\n",
      "collecting results\n",
      "generating samples\n",
      "collecting results\n",
      "generating samples\n",
      "collecting results\n",
      "generating samples\n",
      "collecting results\n",
      "generating samples\n",
      "collecting results\n",
      "generating samples\n",
      "collecting results\n",
      "generating samples\n",
      "collecting results\n",
      "generating samples\n",
      "collecting results\n",
      "generating samples\n",
      "collecting results\n",
      "generating samples\n",
      "collecting results\n",
      "generating samples\n",
      "collecting results\n",
      "generating samples\n",
      "collecting results\n",
      "generating samples\n",
      "collecting results\n",
      "generating samples\n",
      "collecting results\n",
      "generating samples\n",
      "collecting results\n",
      "generating samples\n",
      "collecting results\n",
      "generating samples\n",
      "collecting results\n",
      "generating samples\n",
      "collecting results\n"
     ]
    }
   ],
   "source": [
    "# Get VOCS\n",
    "vocs = TNK.VOCS\n",
    "print(vocs)\n",
    "\n",
    "# technically this is not necessary, but its good to be explict\n",
    "vocs['objectives'] = {'y1' : None}\n",
    "\n",
    "# Get evaluate function\n",
    "EVALUATE = TNK.evaluate_TNK\n",
    "\n",
    "n_steps = 30\n",
    "\n",
    "\n",
    "if SMOKE_TEST:\n",
    "    generator_options = {'batch_size': 1,\n",
    "                           'num_restarts': 2,\n",
    "                           'raw_samples': 2}\n",
    "    n_steps = 3\n",
    "\n",
    "# create generator object\n",
    "generator = BayesianExploration(vocs, n_steps)\n",
    "\n",
    "# Run - see comments for example options\n",
    "alg = run_algortihm(vocs, generator, function=EVALUATE,\n",
    "                    n_initial_samples=5)"
   ]
  },
  {
   "cell_type": "code",
   "execution_count": 8,
   "id": "7d7b9312-17fe-438c-8120-c0fc458b6a3c",
   "metadata": {},
   "outputs": [
    {
     "name": "stdout",
     "output_type": "stream",
     "text": [
      "Index(['x1', 'x2', 'a', 'y1', 'y2', 'c1', 'c2', 'some_array', 'status', 'x1_t',\n",
      "       'x2_t', 'y1_t', 'c1_t', 'c2_t', 'c1_f', 'c2_f', 'feasibility'],\n",
      "      dtype='object')\n",
      "          x1        x2\n",
      "0   1.858958  0.786257\n",
      "1   0.564454  0.528056\n",
      "2   3.075988  0.168020\n",
      "3   0.983823  1.500813\n",
      "4   2.479897  1.248416\n",
      "5   0.000000  1.839951\n",
      "6   1.135871  0.000000\n",
      "7   0.963906  1.091141\n",
      "8   0.599314  0.624540\n",
      "9   0.819403  0.891652\n",
      "10  0.839831  0.920995\n",
      "11  0.520434  0.381564\n",
      "12  0.906055  0.869391\n",
      "13  0.969210  0.807849\n",
      "14  1.050571  0.629710\n",
      "15  1.061515  0.441121\n",
      "16  1.083695  0.398855\n",
      "17  0.682236  0.971404\n",
      "18  0.511833  0.932977\n",
      "19  0.410542  0.988943\n",
      "20  0.372252  1.058540\n",
      "21  0.311404  1.064783\n",
      "22  1.180090  0.660748\n",
      "23  0.612417  1.146427\n",
      "24  0.249505  1.056937\n",
      "25  0.105477  0.993381\n",
      "26  1.099218  0.325520\n",
      "27  1.110041  0.825021\n",
      "28  0.607960  1.162401\n",
      "29  0.000000  0.000000\n",
      "30  1.072558  0.236048\n",
      "31  0.134369  1.031119\n",
      "32  1.032803  0.175289\n",
      "33  1.192287  0.491383\n",
      "34  1.005334  0.139095\n"
     ]
    },
    {
     "data": {
      "text/plain": "Text(0, 0.5, '$x_2$')"
     },
     "execution_count": 8,
     "metadata": {},
     "output_type": "execute_result"
    },
    {
     "data": {
      "text/plain": "<Figure size 432x288 with 1 Axes>",
      "image/png": "[encoded data removed]"
     },
     "metadata": {
      "needs_background": "light"
     },
     "output_type": "display_data"
    }
   ],
   "source": [
    "# plot exploration results and path - exploration should explore the feasible region of the TNK problem - See Table V in https://www.iitk.ac.in/kangal/Deb_NSGA-II.pdf\n",
    "fig, ax = plt.subplots()\n",
    "results = alg.data\n",
    "print(results.keys())\n",
    "variables = results[vocs['variables']]\n",
    "print(variables)\n",
    "valid = results[vocs['variables']][results['feasibility']]\n",
    "ax.plot(variables['x1'], variables['x2'], '-o')\n",
    "ax.plot(valid['x1'], valid['x2'], 'o')\n",
    "ax.set_xlabel('$x_1$')\n",
    "ax.set_ylabel('$x_2$')"
   ]
  },
  {
   "cell_type": "markdown",
   "id": "6f8e7e01-3e2b-4297-bec7-84440e185b71",
   "metadata": {},
   "source": [
    "### Bayesian exploration with proximal biasing\n",
    "- should result in a smoother path through input space"
   ]
  },
  {
   "cell_type": "code",
   "execution_count": 9,
   "id": "f89ac46e-5fc5-40fb-8f45-b524a312884b",
   "metadata": {},
   "outputs": [
    {
     "name": "stdout",
     "output_type": "stream",
     "text": [
      "Generating and submitting initial samples\n",
      "generating samples\n",
      "collecting results\n",
      "generating samples\n",
      "collecting results\n",
      "generating samples\n",
      "collecting results\n",
      "generating samples\n",
      "collecting results\n",
      "generating samples\n",
      "collecting results\n",
      "generating samples\n",
      "collecting results\n",
      "generating samples\n",
      "collecting results\n",
      "generating samples\n",
      "collecting results\n",
      "generating samples\n",
      "collecting results\n",
      "generating samples\n",
      "collecting results\n",
      "generating samples\n",
      "collecting results\n",
      "generating samples\n",
      "collecting results\n",
      "generating samples\n",
      "collecting results\n",
      "generating samples\n",
      "collecting results\n",
      "generating samples\n",
      "collecting results\n",
      "generating samples\n",
      "collecting results\n",
      "generating samples\n",
      "collecting results\n",
      "generating samples\n",
      "collecting results\n",
      "generating samples\n",
      "collecting results\n",
      "generating samples\n",
      "collecting results\n",
      "generating samples\n",
      "collecting results\n",
      "generating samples\n",
      "collecting results\n",
      "generating samples\n",
      "collecting results\n",
      "generating samples\n",
      "collecting results\n",
      "generating samples\n",
      "collecting results\n",
      "generating samples\n",
      "collecting results\n",
      "generating samples\n",
      "collecting results\n",
      "generating samples\n",
      "collecting results\n",
      "generating samples\n",
      "collecting results\n",
      "generating samples\n",
      "collecting results\n"
     ]
    }
   ],
   "source": [
    "# create generator object\n",
    "generator = BayesianExploration(vocs, n_steps, sigma=[0.1, 0.1])\n",
    "\n",
    "# Run - see comments for example options\n",
    "alg = run_algortihm(vocs, generator, function=EVALUATE,\n",
    "                    n_initial_samples=5)"
   ]
  },
  {
   "cell_type": "code",
   "execution_count": 10,
   "id": "388eff19-8ac4-4055-badf-de9544036836",
   "metadata": {},
   "outputs": [
    {
     "name": "stdout",
     "output_type": "stream",
     "text": [
      "Index(['x1', 'x2', 'a', 'y1', 'y2', 'c1', 'c2', 'some_array', 'status', 'x1_t',\n",
      "       'x2_t', 'y1_t', 'c1_t', 'c2_t', 'c1_f', 'c2_f', 'feasibility'],\n",
      "      dtype='object')\n",
      "          x1        x2\n",
      "0   1.055823  2.598387\n",
      "1   0.599241  1.252639\n",
      "2   1.275252  2.917935\n",
      "3   0.070104  1.652696\n",
      "4   2.999007  0.859547\n",
      "5   2.248996  0.689060\n",
      "6   1.451573  0.558582\n",
      "7   1.178130  0.391125\n",
      "8   0.952549  0.334234\n",
      "9   1.071197  0.132286\n",
      "10  1.019724  0.048558\n",
      "11  1.030460  0.553639\n",
      "12  1.059675  0.820899\n",
      "13  0.847310  0.862617\n",
      "14  0.909903  1.040543\n",
      "15  0.756253  1.124773\n",
      "16  0.631808  1.067415\n",
      "17  0.564858  0.980735\n",
      "18  0.522637  0.880578\n",
      "19  0.549902  0.822094\n",
      "20  0.649682  0.709035\n",
      "21  0.845927  0.691626\n",
      "22  0.969586  0.474693\n",
      "23  1.140843  0.262078\n",
      "24  1.183753  0.566412\n",
      "25  1.160146  0.698599\n",
      "26  1.056126  0.914889\n",
      "27  0.783638  0.974663\n",
      "28  0.547037  1.172411\n",
      "29  0.374393  1.121991\n",
      "30  0.217668  1.040532\n",
      "31  0.082837  0.939602\n",
      "32  0.231509  1.168812\n",
      "33  0.141539  1.088261\n",
      "34  0.132792  0.999677\n"
     ]
    },
    {
     "data": {
      "text/plain": "Text(0, 0.5, '$x_2$')"
     },
     "execution_count": 10,
     "metadata": {},
     "output_type": "execute_result"
    },
    {
     "data": {
      "text/plain": "<Figure size 432x288 with 1 Axes>",
      "image/png": "[encoded data removed]"
     },
     "metadata": {
      "needs_background": "light"
     },
     "output_type": "display_data"
    }
   ],
   "source": [
    "# plot exploration results and path - exploration should explore the feasible region of the TNK problem - See Table V in https://www.iitk.ac.in/kangal/Deb_NSGA-II.pdf\n",
    "fig, ax = plt.subplots()\n",
    "results = alg.data\n",
    "print(results.keys())\n",
    "variables = results[vocs['variables']]\n",
    "print(variables)\n",
    "valid = results[vocs['variables']][results['feasibility']]\n",
    "ax.plot(variables['x1'], variables['x2'], '-o')\n",
    "ax.plot(valid['x1'], valid['x2'], 'o')\n",
    "ax.set_xlabel('$x_1$')\n",
    "ax.set_ylabel('$x_2$')"
   ]
  },
  {
   "cell_type": "code",
   "execution_count": null,
   "outputs": [],
   "source": [],
   "metadata": {
    "collapsed": false,
    "pycharm": {
     "name": "#%%\n"
    }
   }
  }
 ],
 "metadata": {
  "kernelspec": {
   "name": "xopt",
   "language": "python",
   "display_name": "xopt"
  },
  "language_info": {
   "codemirror_mode": {
    "name": "ipython",
    "version": 3
   },
   "file_extension": ".py",
   "mimetype": "text/x-python",
   "name": "python",
   "nbconvert_exporter": "python",
   "pygments_lexer": "ipython3",
   "version": "3.9.7"
  }
 },
 "nbformat": 4,
 "nbformat_minor": 5
}