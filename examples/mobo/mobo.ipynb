{
 "cells": [
  {
   "cell_type": "markdown",
   "metadata": {},
   "source": [
    "# Xopt class, TNK test function\n",
    "\n",
    "This is the class method for running Xopt.\n",
    "\n",
    "TNK function\n",
    "$n=2$ variables:\n",
    "$x_i \\in [0, \\pi], i=1,2$\n",
    "\n",
    "Objectives:\n",
    "- $f_i(x) = x_i$\n",
    "\n",
    "Constraints:\n",
    "- $g_1(x) = -x_1^2 -x_2^2 + 1 + 0.1 \\cos\\left(16 \\arctan \\frac{x_1}{x_2}\\right) \\le 0$\n",
    "- $g_2(x) = (x_1 - 1/2)^2 + (x_2-1/2)^2 \\le 0.5$"
   ]
  },
  {
   "cell_type": "code",
   "execution_count": 59,
   "metadata": {},
   "outputs": [],
   "source": [
    "from xopt import Xopt\n",
    "\n",
    "import matplotlib.pyplot as plt\n",
    "from botorch.utils.multi_objective.pareto import is_non_dominated\n",
    "%matplotlib inline\n",
    "\n",
    "import os\n",
    "SMOKE_TEST = os.environ.get('SMOKE_TEST')\n"
   ]
  },
  {
   "cell_type": "code",
   "execution_count": 60,
   "metadata": {},
   "outputs": [],
   "source": [
    "# To see log messages\n",
    "import logging\n",
    "from xopt import output_notebook\n",
    "output_notebook('DEBUG')"
   ]
  },
  {
   "cell_type": "markdown",
   "metadata": {},
   "source": [
    "The `Xopt` object can be instantiated from a JSON or YAML file, or a dict, with the proper structure.\n",
    "\n",
    "Here we will make one"
   ]
  },
  {
   "cell_type": "code",
   "execution_count": 61,
   "metadata": {},
   "outputs": [],
   "source": [
    "import yaml\n",
    "# Make a proper input file. \n",
    "YAML=\"\"\"\n",
    "xopt: {output_path: null}\n",
    "\n",
    "algorithm:\n",
    "  name:  expected_hypervolume_improvement\n",
    "  options: \n",
    "    ref: {'y1':1.4, 'y2':1.4}\n",
    "    n_initial_samples: 10\n",
    "    n_steps: 30\n",
    "    batch_size: 1\n",
    "  \n",
    "evaluate:\n",
    "  name: test_TNK\n",
    "  function: xopt.tests.test_functions.TNK.evaluate_TNK\n",
    "  \n",
    "vocs:\n",
    "  name: TNK_test\n",
    "  variables:\n",
    "    x1: [0, 3.14159]\n",
    "    x2: [0, 3.14159]\n",
    "  objectives: {y1: MINIMIZE, y2: MINIMIZE}\n",
    "  constraints:\n",
    "    c1: [GREATER_THAN, 0]\n",
    "    c2: [LESS_THAN, 0.5]\n",
    "  linked_variables: {}\n",
    "  constants: {a: dummy_constant}\n",
    "\n",
    "\"\"\"\n",
    "config = yaml.safe_load(YAML)"
   ]
  },
  {
   "cell_type": "code",
   "execution_count": 62,
   "metadata": {},
   "outputs": [
    {
     "name": "stdout",
     "output_type": "stream",
     "text": [
      "Loading config from dict.\n",
      "`name` keyword no longer allowed in vocs config, removing\n",
      "Loading config from dict.\n",
      "Loading config from dict.\n",
      "Loading config from dict.\n",
      "Loading config from dict.\n",
      "Warning: No path set for key xopt : output_path\n"
     ]
    },
    {
     "data": {
      "text/plain": "\n            Xopt \n________________________________           \nVersion: 0.5.0+9.gb90b083.dirty\nConfigured: True\nConfig as YAML:\nxopt: {output_path: null}\nalgorithm:\n  name: expected_hypervolume_improvement\n  options:\n    ref: {y1: -1.4, y2: -1.4}\n    n_initial_samples: 10\n    n_steps: 30\n    batch_size: 1\n    output_path: .\n    sigma: null\n    mc_samples: 1024\n  type: batched\n  function: null\nevaluate:\n  name: test_TNK\n  function: xopt.tests.test_functions.TNK.evaluate_TNK\n  executor: null\n  options: {extra_option: abc}\nvocs:\n  variables:\n    x1: [0, 3.14159]\n    x2: [0, 3.14159]\n  objectives: {y1: MINIMIZE, y2: MINIMIZE}\n  constraints:\n    c1: [GREATER_THAN, 0]\n    c2: [LESS_THAN, 0.5]\n  linked_variables: {}\n  constants: {a: dummy_constant}"
     },
     "execution_count": 62,
     "metadata": {},
     "output_type": "execute_result"
    }
   ],
   "source": [
    "# Optional: Connect the function directly\n",
    "#from xopt.evaluators.test_TNK import evaluate_TNK \n",
    "#config['simulation']['evaluate'] = evaluate_TNK \n",
    "if SMOKE_TEST:\n",
    "    config['algorithm']['options']['n_steps'] = 3\n",
    "    config['algorithm']['options']['generator_options']['num_restarts'] = 2\n",
    "    config['algorithm']['options']['generator_options']['raw_samples'] = 2\n",
    "\n",
    "\n",
    "X = Xopt(config)\n",
    "X"
   ]
  },
  {
   "cell_type": "markdown",
   "metadata": {},
   "source": [
    "# Run MOBO\n",
    "\n",
    "MOBO is designed to run in serial or parallel"
   ]
  },
  {
   "cell_type": "code",
   "execution_count": 63,
   "metadata": {},
   "outputs": [],
   "source": [
    "# Pick one of these\n",
    "from concurrent.futures import ThreadPoolExecutor as PoolExecutor\n",
    "#from concurrent.futures import ProcessPoolExecutor as PoolExecutor\n",
    "\n",
    "executor = PoolExecutor()\n",
    "# This will also work. \n",
    "#executor=None"
   ]
  },
  {
   "cell_type": "code",
   "execution_count": 64,
   "metadata": {},
   "outputs": [
    {
     "name": "stdout",
     "output_type": "stream",
     "text": [
      "Starting at time 2021-10-15T15:42:51-05:00\n",
      "Generating and submitting initial samples\n",
      "generating samples\n",
      "generated 1 samples\n",
      "collecting results\n",
      "saving data to file\n",
      "generating samples\n",
      "generated 1 samples\n",
      "collecting results\n",
      "saving data to file\n",
      "generating samples\n",
      "generated 1 samples\n",
      "collecting results\n",
      "saving data to file\n",
      "generating samples\n",
      "generated 1 samples\n",
      "collecting results\n",
      "saving data to file\n",
      "generating samples\n",
      "generated 1 samples\n",
      "collecting results\n",
      "saving data to file\n",
      "generating samples\n",
      "generated 1 samples\n",
      "collecting results\n",
      "saving data to file\n",
      "generating samples\n",
      "generated 1 samples\n",
      "collecting results\n",
      "saving data to file\n",
      "generating samples\n",
      "generated 1 samples\n",
      "collecting results\n",
      "saving data to file\n",
      "generating samples\n",
      "generated 1 samples\n",
      "collecting results\n",
      "saving data to file\n",
      "generating samples\n",
      "generated 1 samples\n",
      "collecting results\n",
      "saving data to file\n",
      "generating samples\n",
      "generated 1 samples\n",
      "collecting results\n",
      "saving data to file\n",
      "generating samples\n",
      "generated 1 samples\n",
      "collecting results\n",
      "saving data to file\n",
      "generating samples\n",
      "generated 1 samples\n",
      "collecting results\n",
      "saving data to file\n",
      "generating samples\n",
      "generated 1 samples\n",
      "collecting results\n",
      "saving data to file\n",
      "generating samples\n",
      "generated 1 samples\n",
      "collecting results\n",
      "saving data to file\n",
      "generating samples\n",
      "generated 1 samples\n",
      "collecting results\n",
      "saving data to file\n",
      "generating samples\n",
      "generated 1 samples\n",
      "collecting results\n",
      "saving data to file\n",
      "generating samples\n",
      "generated 1 samples\n",
      "collecting results\n",
      "saving data to file\n",
      "generating samples\n",
      "generated 1 samples\n",
      "collecting results\n",
      "saving data to file\n",
      "generating samples\n",
      "generated 1 samples\n",
      "collecting results\n",
      "saving data to file\n",
      "generating samples\n",
      "generated 1 samples\n",
      "collecting results\n",
      "saving data to file\n",
      "generating samples\n",
      "generated 1 samples\n",
      "collecting results\n",
      "saving data to file\n",
      "generating samples\n",
      "generated 1 samples\n",
      "collecting results\n",
      "saving data to file\n",
      "generating samples\n",
      "generated 1 samples\n",
      "collecting results\n",
      "saving data to file\n",
      "generating samples\n",
      "generated 1 samples\n",
      "collecting results\n",
      "saving data to file\n",
      "generating samples\n",
      "generated 1 samples\n",
      "collecting results\n",
      "saving data to file\n",
      "generating samples\n",
      "generated 1 samples\n",
      "collecting results\n",
      "saving data to file\n",
      "generating samples\n",
      "generated 1 samples\n",
      "collecting results\n",
      "saving data to file\n",
      "generating samples\n",
      "generated 1 samples\n",
      "collecting results\n",
      "saving data to file\n",
      "generating samples\n",
      "generated 1 samples\n",
      "collecting results\n",
      "saving data to file\n",
      "Wall time: 1min 31s\n"
     ]
    }
   ],
   "source": [
    "%%time\n",
    "results = X.run()"
   ]
  },
  {
   "cell_type": "markdown",
   "metadata": {},
   "source": [
    "# Plot"
   ]
  },
  {
   "cell_type": "code",
   "execution_count": 65,
   "metadata": {},
   "outputs": [
    {
     "data": {
      "text/plain": "<Figure size 432x288 with 1 Axes>",
      "image/png": "[encoded data removed]"
     },
     "metadata": {
      "needs_background": "light"
     },
     "output_type": "display_data"
    }
   ],
   "source": [
    "import torch\n",
    "import numpy as np\n",
    "fig, ax = plt.subplots()\n",
    "\n",
    "# get results and get valid observations\n",
    "train_y = results[config['vocs']['objectives']].to_numpy()\n",
    "valid_y = torch.tensor(train_y[results['feas']])\n",
    "\n",
    "# plot results\n",
    "ax.plot(train_y[:, 0], train_y[:, 1], '.')\n",
    "ax.set_ylabel('$f_2$')\n",
    "ax.set_xlabel('$f_1$')\n",
    "\n",
    "# highlight Pareto front, ONLY using valid observations (note botorch assumes maximization when determing dominant points)\n",
    "non_dom = is_non_dominated(-valid_y)\n",
    "ax.plot(valid_y[:,0],valid_y[:,1],'C2+')\n",
    "ax.plot(valid_y[:,0][non_dom],valid_y[:,1][non_dom],'C1o')\n",
    "\n",
    "# plot valid region\n",
    "theta = np.linspace(0,np.pi/2)\n",
    "r = np.sqrt(1 + 0.1*np.cos(16*theta))\n",
    "x_1 = r*np.sin(theta)\n",
    "x_2_lower = r*np.cos(theta)\n",
    "x_2_upper = (0.5 - (x_1 - 0.5)**2)**0.5 + 0.5\n",
    "\n",
    "z = np.zeros_like(x_1)\n",
    "\n",
    "#ax2.plot(x_1, x_2_lower,'r')\n",
    "ax.fill_between(x_1, z, x_2_lower, fc='white')\n",
    "circle = plt.Circle((0.5, 0.5), 0.5**0.5,\n",
    "                    color='r', alpha=0.25, zorder=0,\n",
    "                    label='Valid Region')\n",
    "ax.add_patch(circle)\n",
    "ax.set_xlim(0,np.pi)\n",
    "ax.set_ylim(0,np.pi)\n",
    "ax.set_aspect('equal')\n",
    "\n",
    "plt.show()"
   ]
  },
  {
   "cell_type": "code",
   "execution_count": 66,
   "metadata": {},
   "outputs": [
    {
     "data": {
      "text/plain": "          x1        x2               a        y1        y2         c1  \\\n0   1.071803  2.924726  dummy_constant  1.071803  2.924726   8.623968   \n1   2.454632  1.347063  dummy_constant  2.454632  1.347063   6.857362   \n2   2.653769  2.655079  dummy_constant  2.653769  2.655079  12.991936   \n3   1.453451  2.300894  dummy_constant  1.453451  2.300894   6.498324   \n4   2.620757  3.040318  dummy_constant  2.620757  3.040318  15.074147   \n5   1.735377  2.144827  dummy_constant  1.735377  2.144827   6.622927   \n6   1.141198  1.270689  dummy_constant  1.141198  1.270689   1.851605   \n7   1.228154  2.656277  dummy_constant  1.228154  2.656277   7.484329   \n8   2.934762  2.650307  dummy_constant  2.934762  2.650307  14.568312   \n9   2.406107  3.128716  dummy_constant  2.406107  3.128716  14.626713   \n10  0.780869  0.950868  dummy_constant  0.780869  0.950868   0.513393   \n11  0.017567  0.250394  dummy_constant  0.017567  0.250394  -0.980503   \n12  0.487112  0.683470  dummy_constant  0.487112  0.683470  -0.207005   \n13  0.610057  0.783033  dummy_constant  0.610057  0.783033   0.024783   \n14  0.902214  0.013595  dummy_constant  0.902214  0.013595  -0.282933   \n15  1.082735  0.301581  dummy_constant  1.082735  0.301581   0.299052   \n16  0.096305  1.141755  dummy_constant  0.096305  1.141755   0.290625   \n17  0.125901  1.042653  dummy_constant  0.125901  1.042653   0.137446   \n18  1.059645  0.110950  dummy_constant  1.059645  0.110950   0.144982   \n19  0.033835  0.993958  dummy_constant  0.033835  0.993958  -0.096445   \n20  0.049497  1.030158  dummy_constant  0.049497  1.030158  -0.008241   \n21  0.894028  0.458827  dummy_constant  0.894028  0.458827  -0.016613   \n22  1.028654  0.046928  dummy_constant  1.028654  0.046928  -0.014225   \n23  0.057330  1.039258  dummy_constant  0.057330  1.039258   0.019762   \n24  1.033742  0.057675  dummy_constant  1.033742  0.057675   0.009145   \n25  0.942042  0.271924  dummy_constant  0.942042  0.271924  -0.017168   \n26  0.282729  0.908706  dummy_constant  0.282729  0.908706  -0.105677   \n27  0.917410  0.448656  dummy_constant  0.917410  0.448656  -0.011571   \n28  0.940375  0.402534  dummy_constant  0.940375  0.402534  -0.051896   \n29  0.940658  0.436534  dummy_constant  0.940658  0.436534  -0.003061   \n30  0.952105  0.406446  dummy_constant  0.952105  0.406446  -0.026816   \n31  0.957547  0.401348  dummy_constant  0.957547  0.401348  -0.021799   \n32  0.963585  0.387958  dummy_constant  0.963585  0.387958  -0.019731   \n33  0.796229  0.553581  dummy_constant  0.796229  0.553581   0.036090   \n34  0.397898  0.914783  dummy_constant  0.397898  0.914783  -0.100919   \n35  0.191704  0.972646  dummy_constant  0.191704  0.972646   0.082752   \n36  0.961943  0.224149  dummy_constant  0.961943  0.224149   0.062293   \n37  0.031282  1.021665  dummy_constant  0.031282  1.021665  -0.043467   \n38  1.022885  0.031037  dummy_constant  1.022885  0.031037  -0.041196   \n39  0.001563  0.000000  dummy_constant  0.001563  0.000000  -1.099998   \n\n           c2 some_array status      x1_t      x2_t      y1_t      y2_t  \\\n0    6.206257  [1, 2, 3]   done  0.341166  0.930970  0.765574  2.089090   \n1    4.538102  [1, 2, 3]   done  0.781334  0.428784  1.753309  0.962188   \n2    9.283087  [1, 2, 3]   done  0.844722  0.845138  1.895550  1.896485   \n3    4.152286  [1, 2, 3]   done  0.462648  0.732398  1.038179  1.643495   \n4   10.950827  [1, 2, 3]   done  0.834214  0.967764  1.871970  2.171656   \n5    4.231612  [1, 2, 3]   done  0.552388  0.682720  1.239555  1.532019   \n6    1.005097  [1, 2, 3]   done  0.363255  0.404473  0.815141  0.907635   \n7    5.179739  [1, 2, 3]   done  0.390934  0.845520  0.877253  1.897341   \n8   10.551888  [1, 2, 3]   done  0.934165  0.843620  2.096259  1.893076   \n9   10.543390  [1, 2, 3]   done  0.765888  0.995902  1.718648  2.234797   \n10   0.282170  [1, 2, 3]   done  0.248559  0.302671  0.557764  0.679192   \n11   0.295045  [1, 2, 3]   done  0.005592  0.079703  0.012548  0.178853   \n12   0.033827  [1, 2, 3]   done  0.155053  0.217555  0.347937  0.488193   \n13   0.092221  [1, 2, 3]   done  0.194187  0.249248  0.435755  0.559310   \n14   0.398366  [1, 2, 3]   done  0.287184  0.004328  0.644439  0.009711   \n15   0.378950  [1, 2, 3]   done  0.344646  0.095996  0.773382  0.215415   \n16   0.574819  [1, 2, 3]   done  0.030655  0.363432  0.068789  0.815539   \n17   0.434423  [1, 2, 3]   done  0.040076  0.331887  0.089929  0.744752   \n18   0.464562  [1, 2, 3]   done  0.337296  0.035317  0.756889  0.079250   \n19   0.461304  [1, 2, 3]   done  0.010770  0.316387  0.024168  0.709970   \n20   0.484020  [1, 2, 3]   done  0.015756  0.327910  0.035355  0.735827   \n21   0.156954  [1, 2, 3]   done  0.284578  0.146049  0.638592  0.327733   \n22   0.484749  [1, 2, 3]   done  0.327431  0.014938  0.734753  0.033520   \n23   0.486756  [1, 2, 3]   done  0.018249  0.330806  0.040950  0.742327   \n24   0.480533  [1, 2, 3]   done  0.329051  0.018358  0.738387  0.041196   \n25   0.247420  [1, 2, 3]   done  0.299862  0.086556  0.672887  0.194232   \n26   0.214247  [1, 2, 3]   done  0.089996  0.289250  0.201950  0.649076   \n27   0.176867  [1, 2, 3]   done  0.292021  0.142812  0.655293  0.320469   \n28   0.203430  [1, 2, 3]   done  0.299331  0.128131  0.671697  0.287525   \n29   0.198208  [1, 2, 3]   done  0.299421  0.138953  0.671899  0.311810   \n30   0.213151  [1, 2, 3]   done  0.303065  0.129376  0.680075  0.290319   \n31   0.219081  [1, 2, 3]   done  0.304797  0.127753  0.683962  0.286677   \n32   0.227465  [1, 2, 3]   done  0.306719  0.123491  0.688275  0.277113   \n33   0.090622  [1, 2, 3]   done  0.253448  0.176211  0.568735  0.395415   \n34   0.182469  [1, 2, 3]   done  0.126655  0.291185  0.284213  0.653416   \n35   0.318441  [1, 2, 3]   done  0.061021  0.309603  0.136932  0.694747   \n36   0.289485  [1, 2, 3]   done  0.306196  0.071349  0.687102  0.160106   \n37   0.491831  [1, 2, 3]   done  0.009958  0.325206  0.022345  0.729761   \n38   0.493334  [1, 2, 3]   done  0.325595  0.009879  0.730632  0.022169   \n39   0.498440  [1, 2, 3]   done  0.000497  0.000000  0.001116  0.000000   \n\n        c1_t      c2_t   c1_f   c2_f   feas  \n0  -1.913389  1.658174   True  False  False  \n1  -1.521434  1.173427   True  False  False  \n2  -2.882505  2.552266   True  False  False  \n3  -1.441775  1.061313   True  False  False  \n4  -3.344482  3.036893   True  False  False  \n5  -1.469421  1.084365   True  False  False  \n6  -0.410813  0.146776   True  False  False  \n7  -1.660539  1.359880   True  False  False  \n8  -3.232253  2.920966   True  False  False  \n9  -3.245211  2.918497   True  False  False  \n10 -0.513393 -0.217830   True   True   True  \n11  0.980503 -0.204955  False   True  False  \n12  0.207005 -0.466173  False   True  False  \n13 -0.024783 -0.407779   True   True   True  \n14  0.282933 -0.101634  False   True  False  \n15 -0.299052 -0.121050   True   True   True  \n16 -0.290625  0.074819   True  False  False  \n17 -0.137446 -0.065577   True   True   True  \n18 -0.144982 -0.035438   True   True   True  \n19  0.096445 -0.038696  False   True  False  \n20  0.008241 -0.015980  False   True  False  \n21  0.016613 -0.343046  False   True  False  \n22  0.014225 -0.015251  False   True  False  \n23 -0.019762 -0.013244   True   True   True  \n24 -0.009145 -0.019467   True   True   True  \n25  0.017168 -0.252580  False   True  False  \n26  0.105677 -0.285753  False   True  False  \n27  0.011571 -0.323133  False   True  False  \n28  0.051896 -0.296570  False   True  False  \n29  0.003061 -0.301792  False   True  False  \n30  0.026816 -0.286849  False   True  False  \n31  0.021799 -0.280919  False   True  False  \n32  0.019731 -0.272535  False   True  False  \n33 -0.036090 -0.409378   True   True   True  \n34  0.100919 -0.317531  False   True  False  \n35 -0.082752 -0.181559   True   True   True  \n36 -0.062293 -0.210515   True   True   True  \n37  0.043467 -0.008169  False   True  False  \n38  0.041196 -0.006666  False   True  False  \n39  1.099998 -0.001560  False   True  False  ",
      "text/html": "<div>\n<style scoped>\n    .dataframe tbody tr th:only-of-type {\n        vertical-align: middle;\n    }\n\n    .dataframe tbody tr th {\n        vertical-align: top;\n    }\n\n    .dataframe thead th {\n        text-align: right;\n    }\n</style>\n<table border=\"1\" class=\"dataframe\">\n  <thead>\n    <tr style=\"text-align: right;\">\n      <th></th>\n      <th>x1</th>\n      <th>x2</th>\n      <th>a</th>\n      <th>y1</th>\n      <th>y2</th>\n      <th>c1</th>\n      <th>c2</th>\n      <th>some_array</th>\n      <th>status</th>\n      <th>x1_t</th>\n      <th>x2_t</th>\n      <th>y1_t</th>\n      <th>y2_t</th>\n      <th>c1_t</th>\n      <th>c2_t</th>\n      <th>c1_f</th>\n      <th>c2_f</th>\n      <th>feas</th>\n    </tr>\n  </thead>\n  <tbody>\n    <tr>\n      <th>0</th>\n      <td>1.071803</td>\n      <td>2.924726</td>\n      <td>dummy_constant</td>\n      <td>1.071803</td>\n      <td>2.924726</td>\n      <td>8.623968</td>\n      <td>6.206257</td>\n      <td>[1, 2, 3]</td>\n      <td>done</td>\n      <td>0.341166</td>\n      <td>0.930970</td>\n      <td>0.765574</td>\n      <td>2.089090</td>\n      <td>-1.913389</td>\n      <td>1.658174</td>\n      <td>True</td>\n      <td>False</td>\n      <td>False</td>\n    </tr>\n    <tr>\n      <th>1</th>\n      <td>2.454632</td>\n      <td>1.347063</td>\n      <td>dummy_constant</td>\n      <td>2.454632</td>\n      <td>1.347063</td>\n      <td>6.857362</td>\n      <td>4.538102</td>\n      <td>[1, 2, 3]</td>\n      <td>done</td>\n      <td>0.781334</td>\n      <td>0.428784</td>\n      <td>1.753309</td>\n      <td>0.962188</td>\n      <td>-1.521434</td>\n      <td>1.173427</td>\n      <td>True</td>\n      <td>False</td>\n      <td>False</td>\n    </tr>\n    <tr>\n      <th>2</th>\n      <td>2.653769</td>\n      <td>2.655079</td>\n      <td>dummy_constant</td>\n      <td>2.653769</td>\n      <td>2.655079</td>\n      <td>12.991936</td>\n      <td>9.283087</td>\n      <td>[1, 2, 3]</td>\n      <td>done</td>\n      <td>0.844722</td>\n      <td>0.845138</td>\n      <td>1.895550</td>\n      <td>1.896485</td>\n      <td>-2.882505</td>\n      <td>2.552266</td>\n      <td>True</td>\n      <td>False</td>\n      <td>False</td>\n    </tr>\n    <tr>\n      <th>3</th>\n      <td>1.453451</td>\n      <td>2.300894</td>\n      <td>dummy_constant</td>\n      <td>1.453451</td>\n      <td>2.300894</td>\n      <td>6.498324</td>\n      <td>4.152286</td>\n      <td>[1, 2, 3]</td>\n      <td>done</td>\n      <td>0.462648</td>\n      <td>0.732398</td>\n      <td>1.038179</td>\n      <td>1.643495</td>\n      <td>-1.441775</td>\n      <td>1.061313</td>\n      <td>True</td>\n      <td>False</td>\n      <td>False</td>\n    </tr>\n    <tr>\n      <th>4</th>\n      <td>2.620757</td>\n      <td>3.040318</td>\n      <td>dummy_constant</td>\n      <td>2.620757</td>\n      <td>3.040318</td>\n      <td>15.074147</td>\n      <td>10.950827</td>\n      <td>[1, 2, 3]</td>\n      <td>done</td>\n      <td>0.834214</td>\n      <td>0.967764</td>\n      <td>1.871970</td>\n      <td>2.171656</td>\n      <td>-3.344482</td>\n      <td>3.036893</td>\n      <td>True</td>\n      <td>False</td>\n      <td>False</td>\n    </tr>\n    <tr>\n      <th>5</th>\n      <td>1.735377</td>\n      <td>2.144827</td>\n      <td>dummy_constant</td>\n      <td>1.735377</td>\n      <td>2.144827</td>\n      <td>6.622927</td>\n      <td>4.231612</td>\n      <td>[1, 2, 3]</td>\n      <td>done</td>\n      <td>0.552388</td>\n      <td>0.682720</td>\n      <td>1.239555</td>\n      <td>1.532019</td>\n      <td>-1.469421</td>\n      <td>1.084365</td>\n      <td>True</td>\n      <td>False</td>\n      <td>False</td>\n    </tr>\n    <tr>\n      <th>6</th>\n      <td>1.141198</td>\n      <td>1.270689</td>\n      <td>dummy_constant</td>\n      <td>1.141198</td>\n      <td>1.270689</td>\n      <td>1.851605</td>\n      <td>1.005097</td>\n      <td>[1, 2, 3]</td>\n      <td>done</td>\n      <td>0.363255</td>\n      <td>0.404473</td>\n      <td>0.815141</td>\n      <td>0.907635</td>\n      <td>-0.410813</td>\n      <td>0.146776</td>\n      <td>True</td>\n      <td>False</td>\n      <td>False</td>\n    </tr>\n    <tr>\n      <th>7</th>\n      <td>1.228154</td>\n      <td>2.656277</td>\n      <td>dummy_constant</td>\n      <td>1.228154</td>\n      <td>2.656277</td>\n      <td>7.484329</td>\n      <td>5.179739</td>\n      <td>[1, 2, 3]</td>\n      <td>done</td>\n      <td>0.390934</td>\n      <td>0.845520</td>\n      <td>0.877253</td>\n      <td>1.897341</td>\n      <td>-1.660539</td>\n      <td>1.359880</td>\n      <td>True</td>\n      <td>False</td>\n      <td>False</td>\n    </tr>\n    <tr>\n      <th>8</th>\n      <td>2.934762</td>\n      <td>2.650307</td>\n      <td>dummy_constant</td>\n      <td>2.934762</td>\n      <td>2.650307</td>\n      <td>14.568312</td>\n      <td>10.551888</td>\n      <td>[1, 2, 3]</td>\n      <td>done</td>\n      <td>0.934165</td>\n      <td>0.843620</td>\n      <td>2.096259</td>\n      <td>1.893076</td>\n      <td>-3.232253</td>\n      <td>2.920966</td>\n      <td>True</td>\n      <td>False</td>\n      <td>False</td>\n    </tr>\n    <tr>\n      <th>9</th>\n      <td>2.406107</td>\n      <td>3.128716</td>\n      <td>dummy_constant</td>\n      <td>2.406107</td>\n      <td>3.128716</td>\n      <td>14.626713</td>\n      <td>10.543390</td>\n      <td>[1, 2, 3]</td>\n      <td>done</td>\n      <td>0.765888</td>\n      <td>0.995902</td>\n      <td>1.718648</td>\n      <td>2.234797</td>\n      <td>-3.245211</td>\n      <td>2.918497</td>\n      <td>True</td>\n      <td>False</td>\n      <td>False</td>\n    </tr>\n    <tr>\n      <th>10</th>\n      <td>0.780869</td>\n      <td>0.950868</td>\n      <td>dummy_constant</td>\n      <td>0.780869</td>\n      <td>0.950868</td>\n      <td>0.513393</td>\n      <td>0.282170</td>\n      <td>[1, 2, 3]</td>\n      <td>done</td>\n      <td>0.248559</td>\n      <td>0.302671</td>\n      <td>0.557764</td>\n      <td>0.679192</td>\n      <td>-0.513393</td>\n      <td>-0.217830</td>\n      <td>True</td>\n      <td>True</td>\n      <td>True</td>\n    </tr>\n    <tr>\n      <th>11</th>\n      <td>0.017567</td>\n      <td>0.250394</td>\n      <td>dummy_constant</td>\n      <td>0.017567</td>\n      <td>0.250394</td>\n      <td>-0.980503</td>\n      <td>0.295045</td>\n      <td>[1, 2, 3]</td>\n      <td>done</td>\n      <td>0.005592</td>\n      <td>0.079703</td>\n      <td>0.012548</td>\n      <td>0.178853</td>\n      <td>0.980503</td>\n      <td>-0.204955</td>\n      <td>False</td>\n      <td>True</td>\n      <td>False</td>\n    </tr>\n    <tr>\n      <th>12</th>\n      <td>0.487112</td>\n      <td>0.683470</td>\n      <td>dummy_constant</td>\n      <td>0.487112</td>\n      <td>0.683470</td>\n      <td>-0.207005</td>\n      <td>0.033827</td>\n      <td>[1, 2, 3]</td>\n      <td>done</td>\n      <td>0.155053</td>\n      <td>0.217555</td>\n      <td>0.347937</td>\n      <td>0.488193</td>\n      <td>0.207005</td>\n      <td>-0.466173</td>\n      <td>False</td>\n      <td>True</td>\n      <td>False</td>\n    </tr>\n    <tr>\n      <th>13</th>\n      <td>0.610057</td>\n      <td>0.783033</td>\n      <td>dummy_constant</td>\n      <td>0.610057</td>\n      <td>0.783033</td>\n      <td>0.024783</td>\n      <td>0.092221</td>\n      <td>[1, 2, 3]</td>\n      <td>done</td>\n      <td>0.194187</td>\n      <td>0.249248</td>\n      <td>0.435755</td>\n      <td>0.559310</td>\n      <td>-0.024783</td>\n      <td>-0.407779</td>\n      <td>True</td>\n      <td>True</td>\n      <td>True</td>\n    </tr>\n    <tr>\n      <th>14</th>\n      <td>0.902214</td>\n      <td>0.013595</td>\n      <td>dummy_constant</td>\n      <td>0.902214</td>\n      <td>0.013595</td>\n      <td>-0.282933</td>\n      <td>0.398366</td>\n      <td>[1, 2, 3]</td>\n      <td>done</td>\n      <td>0.287184</td>\n      <td>0.004328</td>\n      <td>0.644439</td>\n      <td>0.009711</td>\n      <td>0.282933</td>\n      <td>-0.101634</td>\n      <td>False</td>\n      <td>True</td>\n      <td>False</td>\n    </tr>\n    <tr>\n      <th>15</th>\n      <td>1.082735</td>\n      <td>0.301581</td>\n      <td>dummy_constant</td>\n      <td>1.082735</td>\n      <td>0.301581</td>\n      <td>0.299052</td>\n      <td>0.378950</td>\n      <td>[1, 2, 3]</td>\n      <td>done</td>\n      <td>0.344646</td>\n      <td>0.095996</td>\n      <td>0.773382</td>\n      <td>0.215415</td>\n      <td>-0.299052</td>\n      <td>-0.121050</td>\n      <td>True</td>\n      <td>True</td>\n      <td>True</td>\n    </tr>\n    <tr>\n      <th>16</th>\n      <td>0.096305</td>\n      <td>1.141755</td>\n      <td>dummy_constant</td>\n      <td>0.096305</td>\n      <td>1.141755</td>\n      <td>0.290625</td>\n      <td>0.574819</td>\n      <td>[1, 2, 3]</td>\n      <td>done</td>\n      <td>0.030655</td>\n      <td>0.363432</td>\n      <td>0.068789</td>\n      <td>0.815539</td>\n      <td>-0.290625</td>\n      <td>0.074819</td>\n      <td>True</td>\n      <td>False</td>\n      <td>False</td>\n    </tr>\n    <tr>\n      <th>17</th>\n      <td>0.125901</td>\n      <td>1.042653</td>\n      <td>dummy_constant</td>\n      <td>0.125901</td>\n      <td>1.042653</td>\n      <td>0.137446</td>\n      <td>0.434423</td>\n      <td>[1, 2, 3]</td>\n      <td>done</td>\n      <td>0.040076</td>\n      <td>0.331887</td>\n      <td>0.089929</td>\n      <td>0.744752</td>\n      <td>-0.137446</td>\n      <td>-0.065577</td>\n      <td>True</td>\n      <td>True</td>\n      <td>True</td>\n    </tr>\n    <tr>\n      <th>18</th>\n      <td>1.059645</td>\n      <td>0.110950</td>\n      <td>dummy_constant</td>\n      <td>1.059645</td>\n      <td>0.110950</td>\n      <td>0.144982</td>\n      <td>0.464562</td>\n      <td>[1, 2, 3]</td>\n      <td>done</td>\n      <td>0.337296</td>\n      <td>0.035317</td>\n      <td>0.756889</td>\n      <td>0.079250</td>\n      <td>-0.144982</td>\n      <td>-0.035438</td>\n      <td>True</td>\n      <td>True</td>\n      <td>True</td>\n    </tr>\n    <tr>\n      <th>19</th>\n      <td>0.033835</td>\n      <td>0.993958</td>\n      <td>dummy_constant</td>\n      <td>0.033835</td>\n      <td>0.993958</td>\n      <td>-0.096445</td>\n      <td>0.461304</td>\n      <td>[1, 2, 3]</td>\n      <td>done</td>\n      <td>0.010770</td>\n      <td>0.316387</td>\n      <td>0.024168</td>\n      <td>0.709970</td>\n      <td>0.096445</td>\n      <td>-0.038696</td>\n      <td>False</td>\n      <td>True</td>\n      <td>False</td>\n    </tr>\n    <tr>\n      <th>20</th>\n      <td>0.049497</td>\n      <td>1.030158</td>\n      <td>dummy_constant</td>\n      <td>0.049497</td>\n      <td>1.030158</td>\n      <td>-0.008241</td>\n      <td>0.484020</td>\n      <td>[1, 2, 3]</td>\n      <td>done</td>\n      <td>0.015756</td>\n      <td>0.327910</td>\n      <td>0.035355</td>\n      <td>0.735827</td>\n      <td>0.008241</td>\n      <td>-0.015980</td>\n      <td>False</td>\n      <td>True</td>\n      <td>False</td>\n    </tr>\n    <tr>\n      <th>21</th>\n      <td>0.894028</td>\n      <td>0.458827</td>\n      <td>dummy_constant</td>\n      <td>0.894028</td>\n      <td>0.458827</td>\n      <td>-0.016613</td>\n      <td>0.156954</td>\n      <td>[1, 2, 3]</td>\n      <td>done</td>\n      <td>0.284578</td>\n      <td>0.146049</td>\n      <td>0.638592</td>\n      <td>0.327733</td>\n      <td>0.016613</td>\n      <td>-0.343046</td>\n      <td>False</td>\n      <td>True</td>\n      <td>False</td>\n    </tr>\n    <tr>\n      <th>22</th>\n      <td>1.028654</td>\n      <td>0.046928</td>\n      <td>dummy_constant</td>\n      <td>1.028654</td>\n      <td>0.046928</td>\n      <td>-0.014225</td>\n      <td>0.484749</td>\n      <td>[1, 2, 3]</td>\n      <td>done</td>\n      <td>0.327431</td>\n      <td>0.014938</td>\n      <td>0.734753</td>\n      <td>0.033520</td>\n      <td>0.014225</td>\n      <td>-0.015251</td>\n      <td>False</td>\n      <td>True</td>\n      <td>False</td>\n    </tr>\n    <tr>\n      <th>23</th>\n      <td>0.057330</td>\n      <td>1.039258</td>\n      <td>dummy_constant</td>\n      <td>0.057330</td>\n      <td>1.039258</td>\n      <td>0.019762</td>\n      <td>0.486756</td>\n      <td>[1, 2, 3]</td>\n      <td>done</td>\n      <td>0.018249</td>\n      <td>0.330806</td>\n      <td>0.040950</td>\n      <td>0.742327</td>\n      <td>-0.019762</td>\n      <td>-0.013244</td>\n      <td>True</td>\n      <td>True</td>\n      <td>True</td>\n    </tr>\n    <tr>\n      <th>24</th>\n      <td>1.033742</td>\n      <td>0.057675</td>\n      <td>dummy_constant</td>\n      <td>1.033742</td>\n      <td>0.057675</td>\n      <td>0.009145</td>\n      <td>0.480533</td>\n      <td>[1, 2, 3]</td>\n      <td>done</td>\n      <td>0.329051</td>\n      <td>0.018358</td>\n      <td>0.738387</td>\n      <td>0.041196</td>\n      <td>-0.009145</td>\n      <td>-0.019467</td>\n      <td>True</td>\n      <td>True</td>\n      <td>True</td>\n    </tr>\n    <tr>\n      <th>25</th>\n      <td>0.942042</td>\n      <td>0.271924</td>\n      <td>dummy_constant</td>\n      <td>0.942042</td>\n      <td>0.271924</td>\n      <td>-0.017168</td>\n      <td>0.247420</td>\n      <td>[1, 2, 3]</td>\n      <td>done</td>\n      <td>0.299862</td>\n      <td>0.086556</td>\n      <td>0.672887</td>\n      <td>0.194232</td>\n      <td>0.017168</td>\n      <td>-0.252580</td>\n      <td>False</td>\n      <td>True</td>\n      <td>False</td>\n    </tr>\n    <tr>\n      <th>26</th>\n      <td>0.282729</td>\n      <td>0.908706</td>\n      <td>dummy_constant</td>\n      <td>0.282729</td>\n      <td>0.908706</td>\n      <td>-0.105677</td>\n      <td>0.214247</td>\n      <td>[1, 2, 3]</td>\n      <td>done</td>\n      <td>0.089996</td>\n      <td>0.289250</td>\n      <td>0.201950</td>\n      <td>0.649076</td>\n      <td>0.105677</td>\n      <td>-0.285753</td>\n      <td>False</td>\n      <td>True</td>\n      <td>False</td>\n    </tr>\n    <tr>\n      <th>27</th>\n      <td>0.917410</td>\n      <td>0.448656</td>\n      <td>dummy_constant</td>\n      <td>0.917410</td>\n      <td>0.448656</td>\n      <td>-0.011571</td>\n      <td>0.176867</td>\n      <td>[1, 2, 3]</td>\n      <td>done</td>\n      <td>0.292021</td>\n      <td>0.142812</td>\n      <td>0.655293</td>\n      <td>0.320469</td>\n      <td>0.011571</td>\n      <td>-0.323133</td>\n      <td>False</td>\n      <td>True</td>\n      <td>False</td>\n    </tr>\n    <tr>\n      <th>28</th>\n      <td>0.940375</td>\n      <td>0.402534</td>\n      <td>dummy_constant</td>\n      <td>0.940375</td>\n      <td>0.402534</td>\n      <td>-0.051896</td>\n      <td>0.203430</td>\n      <td>[1, 2, 3]</td>\n      <td>done</td>\n      <td>0.299331</td>\n      <td>0.128131</td>\n      <td>0.671697</td>\n      <td>0.287525</td>\n      <td>0.051896</td>\n      <td>-0.296570</td>\n      <td>False</td>\n      <td>True</td>\n      <td>False</td>\n    </tr>\n    <tr>\n      <th>29</th>\n      <td>0.940658</td>\n      <td>0.436534</td>\n      <td>dummy_constant</td>\n      <td>0.940658</td>\n      <td>0.436534</td>\n      <td>-0.003061</td>\n      <td>0.198208</td>\n      <td>[1, 2, 3]</td>\n      <td>done</td>\n      <td>0.299421</td>\n      <td>0.138953</td>\n      <td>0.671899</td>\n      <td>0.311810</td>\n      <td>0.003061</td>\n      <td>-0.301792</td>\n      <td>False</td>\n      <td>True</td>\n      <td>False</td>\n    </tr>\n    <tr>\n      <th>30</th>\n      <td>0.952105</td>\n      <td>0.406446</td>\n      <td>dummy_constant</td>\n      <td>0.952105</td>\n      <td>0.406446</td>\n      <td>-0.026816</td>\n      <td>0.213151</td>\n      <td>[1, 2, 3]</td>\n      <td>done</td>\n      <td>0.303065</td>\n      <td>0.129376</td>\n      <td>0.680075</td>\n      <td>0.290319</td>\n      <td>0.026816</td>\n      <td>-0.286849</td>\n      <td>False</td>\n      <td>True</td>\n      <td>False</td>\n    </tr>\n    <tr>\n      <th>31</th>\n      <td>0.957547</td>\n      <td>0.401348</td>\n      <td>dummy_constant</td>\n      <td>0.957547</td>\n      <td>0.401348</td>\n      <td>-0.021799</td>\n      <td>0.219081</td>\n      <td>[1, 2, 3]</td>\n      <td>done</td>\n      <td>0.304797</td>\n      <td>0.127753</td>\n      <td>0.683962</td>\n      <td>0.286677</td>\n      <td>0.021799</td>\n      <td>-0.280919</td>\n      <td>False</td>\n      <td>True</td>\n      <td>False</td>\n    </tr>\n    <tr>\n      <th>32</th>\n      <td>0.963585</td>\n      <td>0.387958</td>\n      <td>dummy_constant</td>\n      <td>0.963585</td>\n      <td>0.387958</td>\n      <td>-0.019731</td>\n      <td>0.227465</td>\n      <td>[1, 2, 3]</td>\n      <td>done</td>\n      <td>0.306719</td>\n      <td>0.123491</td>\n      <td>0.688275</td>\n      <td>0.277113</td>\n      <td>0.019731</td>\n      <td>-0.272535</td>\n      <td>False</td>\n      <td>True</td>\n      <td>False</td>\n    </tr>\n    <tr>\n      <th>33</th>\n      <td>0.796229</td>\n      <td>0.553581</td>\n      <td>dummy_constant</td>\n      <td>0.796229</td>\n      <td>0.553581</td>\n      <td>0.036090</td>\n      <td>0.090622</td>\n      <td>[1, 2, 3]</td>\n      <td>done</td>\n      <td>0.253448</td>\n      <td>0.176211</td>\n      <td>0.568735</td>\n      <td>0.395415</td>\n      <td>-0.036090</td>\n      <td>-0.409378</td>\n      <td>True</td>\n      <td>True</td>\n      <td>True</td>\n    </tr>\n    <tr>\n      <th>34</th>\n      <td>0.397898</td>\n      <td>0.914783</td>\n      <td>dummy_constant</td>\n      <td>0.397898</td>\n      <td>0.914783</td>\n      <td>-0.100919</td>\n      <td>0.182469</td>\n      <td>[1, 2, 3]</td>\n      <td>done</td>\n      <td>0.126655</td>\n      <td>0.291185</td>\n      <td>0.284213</td>\n      <td>0.653416</td>\n      <td>0.100919</td>\n      <td>-0.317531</td>\n      <td>False</td>\n      <td>True</td>\n      <td>False</td>\n    </tr>\n    <tr>\n      <th>35</th>\n      <td>0.191704</td>\n      <td>0.972646</td>\n      <td>dummy_constant</td>\n      <td>0.191704</td>\n      <td>0.972646</td>\n      <td>0.082752</td>\n      <td>0.318441</td>\n      <td>[1, 2, 3]</td>\n      <td>done</td>\n      <td>0.061021</td>\n      <td>0.309603</td>\n      <td>0.136932</td>\n      <td>0.694747</td>\n      <td>-0.082752</td>\n      <td>-0.181559</td>\n      <td>True</td>\n      <td>True</td>\n      <td>True</td>\n    </tr>\n    <tr>\n      <th>36</th>\n      <td>0.961943</td>\n      <td>0.224149</td>\n      <td>dummy_constant</td>\n      <td>0.961943</td>\n      <td>0.224149</td>\n      <td>0.062293</td>\n      <td>0.289485</td>\n      <td>[1, 2, 3]</td>\n      <td>done</td>\n      <td>0.306196</td>\n      <td>0.071349</td>\n      <td>0.687102</td>\n      <td>0.160106</td>\n      <td>-0.062293</td>\n      <td>-0.210515</td>\n      <td>True</td>\n      <td>True</td>\n      <td>True</td>\n    </tr>\n    <tr>\n      <th>37</th>\n      <td>0.031282</td>\n      <td>1.021665</td>\n      <td>dummy_constant</td>\n      <td>0.031282</td>\n      <td>1.021665</td>\n      <td>-0.043467</td>\n      <td>0.491831</td>\n      <td>[1, 2, 3]</td>\n      <td>done</td>\n      <td>0.009958</td>\n      <td>0.325206</td>\n      <td>0.022345</td>\n      <td>0.729761</td>\n      <td>0.043467</td>\n      <td>-0.008169</td>\n      <td>False</td>\n      <td>True</td>\n      <td>False</td>\n    </tr>\n    <tr>\n      <th>38</th>\n      <td>1.022885</td>\n      <td>0.031037</td>\n      <td>dummy_constant</td>\n      <td>1.022885</td>\n      <td>0.031037</td>\n      <td>-0.041196</td>\n      <td>0.493334</td>\n      <td>[1, 2, 3]</td>\n      <td>done</td>\n      <td>0.325595</td>\n      <td>0.009879</td>\n      <td>0.730632</td>\n      <td>0.022169</td>\n      <td>0.041196</td>\n      <td>-0.006666</td>\n      <td>False</td>\n      <td>True</td>\n      <td>False</td>\n    </tr>\n    <tr>\n      <th>39</th>\n      <td>0.001563</td>\n      <td>0.000000</td>\n      <td>dummy_constant</td>\n      <td>0.001563</td>\n      <td>0.000000</td>\n      <td>-1.099998</td>\n      <td>0.498440</td>\n      <td>[1, 2, 3]</td>\n      <td>done</td>\n      <td>0.000497</td>\n      <td>0.000000</td>\n      <td>0.001116</td>\n      <td>0.000000</td>\n      <td>1.099998</td>\n      <td>-0.001560</td>\n      <td>False</td>\n      <td>True</td>\n      <td>False</td>\n    </tr>\n  </tbody>\n</table>\n</div>"
     },
     "execution_count": 66,
     "metadata": {},
     "output_type": "execute_result"
    }
   ],
   "source": [
    "results"
   ]
  },
  {
   "cell_type": "code",
   "execution_count": 67,
   "outputs": [
    {
     "name": "stderr",
     "output_type": "stream",
     "text": [
      "C:\\Users\\RYANRO~1\\AppData\\Local\\Temp/ipykernel_1644/15519018.py:18: MatplotlibDeprecationWarning: shading='flat' when X and Y have the same dimensions as C is deprecated since 3.3.  Either specify the corners of the quadrilaterals with X and Y, or pass shading='auto', 'nearest' or 'gouraud', or set rcParams['pcolor.shading'].  This will become an error two minor releases later.\n",
      "  c = ax.pcolor(*xx, m[idx].reshape(n,n))\n",
      "C:\\Users\\RYANRO~1\\AppData\\Local\\Temp/ipykernel_1644/15519018.py:22: MatplotlibDeprecationWarning: shading='flat' when X and Y have the same dimensions as C is deprecated since 3.3.  Either specify the corners of the quadrilaterals with X and Y, or pass shading='auto', 'nearest' or 'gouraud', or set rcParams['pcolor.shading'].  This will become an error two minor releases later.\n",
      "  c = ax.pcolor(*xx, cdf.reshape(n,n))\n"
     ]
    },
    {
     "data": {
      "text/plain": "<matplotlib.colorbar.Colorbar at 0x20e61a5c4f0>"
     },
     "execution_count": 67,
     "metadata": {},
     "output_type": "execute_result"
    },
    {
     "data": {
      "text/plain": "<Figure size 432x288 with 2 Axes>",
      "image/png": "[encoded data removed]"
     },
     "metadata": {
      "needs_background": "light"
     },
     "output_type": "display_data"
    },
    {
     "data": {
      "text/plain": "<Figure size 432x288 with 2 Axes>",
      "image/png": "[encoded data removed]"
     },
     "metadata": {
      "needs_background": "light"
     },
     "output_type": "display_data"
    }
   ],
   "source": [
    "model = X.generator.model\n",
    "\n",
    "n = 50\n",
    "x = np.linspace(0,1,n)\n",
    "xx = np.meshgrid(x, x)\n",
    "pts = np.vstack([ele.ravel() for ele in xx]).T\n",
    "pts = torch.tensor(pts)\n",
    "\n",
    "with torch.no_grad():\n",
    "    post = model(pts)\n",
    "    m = post.mean\n",
    "    var = post.variance\n",
    "\n",
    "# plot model mean and valid probability for c1\n",
    "idx = 2\n",
    "cdf = 0.5*(1 + torch.erf((0 - m[idx])/(2*torch.sqrt(var[idx]))))\n",
    "fig, ax = plt.subplots()\n",
    "c = ax.pcolor(*xx, m[idx].reshape(n,n))\n",
    "fig.colorbar(c)\n",
    "\n",
    "fig, ax = plt.subplots()\n",
    "c = ax.pcolor(*xx, cdf.reshape(n,n))\n",
    "fig.colorbar(c)"
   ],
   "metadata": {
    "collapsed": false,
    "pycharm": {
     "name": "#%%\n"
    }
   }
  },
  {
   "cell_type": "code",
   "execution_count": 68,
   "outputs": [
    {
     "name": "stderr",
     "output_type": "stream",
     "text": [
      "C:\\Users\\RYANRO~1\\AppData\\Local\\Temp/ipykernel_1644/691892335.py:14: MatplotlibDeprecationWarning: shading='flat' when X and Y have the same dimensions as C is deprecated since 3.3.  Either specify the corners of the quadrilaterals with X and Y, or pass shading='auto', 'nearest' or 'gouraud', or set rcParams['pcolor.shading'].  This will become an error two minor releases later.\n",
      "  c = ax.pcolor(*xx, val.reshape(n,n))\n"
     ]
    },
    {
     "data": {
      "text/plain": "<matplotlib.colorbar.Colorbar at 0x20e0159e7f0>"
     },
     "execution_count": 68,
     "metadata": {},
     "output_type": "execute_result"
    },
    {
     "data": {
      "text/plain": "<Figure size 432x288 with 2 Axes>",
      "image/png": "[encoded data removed]"
     },
     "metadata": {
      "needs_background": "light"
     },
     "output_type": "display_data"
    }
   ],
   "source": [
    "# plot acquisition function\n",
    "acq = X.generator.acqisition_function(model, **X.generator.acqisition_function_options)\n",
    "\n",
    "n = 50\n",
    "x = np.linspace(0,1,n)\n",
    "xx = np.meshgrid(x, x)\n",
    "pts = np.vstack([ele.ravel() for ele in xx]).T\n",
    "pts = torch.tensor(pts)\n",
    "\n",
    "with torch.no_grad():\n",
    "    val = acq(pts.unsqueeze(1))\n",
    "\n",
    "fig, ax = plt.subplots()\n",
    "c = ax.pcolor(*xx, val.reshape(n,n))\n",
    "fig.colorbar(c)"
   ],
   "metadata": {
    "collapsed": false,
    "pycharm": {
     "name": "#%%\n"
    }
   }
  },
  {
   "cell_type": "code",
   "execution_count": 69,
   "outputs": [
    {
     "data": {
      "text/plain": "         x1        x2\n0  0.473182  0.880219",
      "text/html": "<div>\n<style scoped>\n    .dataframe tbody tr th:only-of-type {\n        vertical-align: middle;\n    }\n\n    .dataframe tbody tr th {\n        vertical-align: top;\n    }\n\n    .dataframe thead th {\n        text-align: right;\n    }\n</style>\n<table border=\"1\" class=\"dataframe\">\n  <thead>\n    <tr style=\"text-align: right;\">\n      <th></th>\n      <th>x1</th>\n      <th>x2</th>\n    </tr>\n  </thead>\n  <tbody>\n    <tr>\n      <th>0</th>\n      <td>0.473182</td>\n      <td>0.880219</td>\n    </tr>\n  </tbody>\n</table>\n</div>"
     },
     "execution_count": 69,
     "metadata": {},
     "output_type": "execute_result"
    }
   ],
   "source": [
    "#generate a point\n",
    "X.generator.generate(results)"
   ],
   "metadata": {
    "collapsed": false,
    "pycharm": {
     "name": "#%%\n"
    }
   }
  },
  {
   "cell_type": "code",
   "execution_count": 70,
   "outputs": [
    {
     "name": "stderr",
     "output_type": "stream",
     "text": [
      "'rm' is not recognized as an internal or external command,\n",
      "operable program or batch file.\n"
     ]
    }
   ],
   "source": [
    "# Cleanup\n",
    "!rm results.json"
   ],
   "metadata": {
    "collapsed": false,
    "pycharm": {
     "name": "#%%\n"
    }
   }
  }
 ],
 "metadata": {
  "kernelspec": {
   "name": "xopt",
   "language": "python",
   "display_name": "xopt"
  },
  "language_info": {
   "codemirror_mode": {
    "name": "ipython",
    "version": 3
   },
   "file_extension": ".py",
   "mimetype": "text/x-python",
   "name": "python",
   "nbconvert_exporter": "python",
   "pygments_lexer": "ipython3",
   "version": "3.9.7"
  }
 },
 "nbformat": 4,
 "nbformat_minor": 4
}