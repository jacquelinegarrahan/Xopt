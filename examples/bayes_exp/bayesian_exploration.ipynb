{
 "cells": [
  {
   "cell_type": "markdown",
   "metadata": {},
   "source": [
    "# Bayesian Exploration with Xopt"
   ]
  },
  {
   "cell_type": "markdown",
   "metadata": {},
   "source": [
    "## TNK test function\n",
    "\n",
    "This is the class method for running Xopt. Use Bayesian exploration to explore the input space.\n",
    "\n",
    "TNK function\n",
    "$n=2$ variables:\n",
    "$x_i \\in [0, \\pi], i=1,2$\n",
    "\n",
    "Objectives:\n",
    "- $f_i(x) = x_i$\n",
    "\n",
    "Constraints:\n",
    "- $g_1(x) = -x_1^2 -x_2^2 + 1 + 0.1 \\cos\\left(16 \\arctan \\frac{x_1}{x_2}\\right) \\le 0$\n",
    "- $g_2(x) = (x_1 - 1/2)^2 + (x_2-1/2)^2 \\le 0.5$"
   ]
  },
  {
   "cell_type": "code",
   "execution_count": 1,
   "metadata": {},
   "outputs": [],
   "source": [
    "# Import the class\n",
    "from xopt import Xopt\n",
    "\n",
    "import os\n",
    "SMOKE_TEST = os.environ.get('SMOKE_TEST')"
   ]
  },
  {
   "cell_type": "code",
   "execution_count": 2,
   "metadata": {},
   "outputs": [],
   "source": [
    "# To see log messages\n",
    "from xopt import output_notebook\n",
    "output_notebook()"
   ]
  },
  {
   "cell_type": "markdown",
   "metadata": {},
   "source": [
    "The `Xopt` object can be instantiated from a JSON or YAML file, or a dict, with the proper structure.\n",
    "\n",
    "Here we will make one"
   ]
  },
  {
   "cell_type": "code",
   "execution_count": 3,
   "metadata": {},
   "outputs": [],
   "source": [
    "import yaml\n",
    "# Make a proper input file. \n",
    "YAML=\"\"\"\n",
    "xopt: {output_path: null}\n",
    "\n",
    "algorithm:\n",
    "  name: bayesian_exploration\n",
    "  options:  \n",
    "      n_initial_samples: 5\n",
    "      n_steps: 25\n",
    "      #batch_size: 1                      ## batch size for parallelized optimization\n",
    "      sigma: [0.1, 0.1]                ## proximal biasing term\n",
    "\n",
    "  \n",
    "evaluate:\n",
    "  name: test_TNK\n",
    "  function: xopt.tests.test_functions.TNK.evaluate_TNK\n",
    "  \n",
    "vocs:\n",
    "  name: TNK_test\n",
    "  variables:\n",
    "    x1: [0, 3.14159]\n",
    "    x2: [0, 3.14159]\n",
    "  objectives: {y1: None}\n",
    "  constraints:\n",
    "    c1: [GREATER_THAN, 0]\n",
    "    c2: ['LESS_THAN', 0.5]\n",
    "  linked_variables: {}\n",
    "  constants: {a: dummy_constant}\n",
    "\n",
    "\"\"\"\n",
    "config = yaml.safe_load(YAML)\n",
    "\n",
    "if SMOKE_TEST:\n",
    "    config['algorithm']['options']['n_steps'] = 3\n",
    "    config['algorithm']['options']['generator_options']['num_restarts'] = 2\n",
    "    config['algorithm']['options']['generator_options']['raw_samples'] = 2"
   ]
  },
  {
   "cell_type": "code",
   "execution_count": 4,
   "metadata": {},
   "outputs": [
    {
     "name": "stdout",
     "output_type": "stream",
     "text": [
      "Loading config from dict.\n",
      "`name` keyword no longer allowed in vocs config, removing\n",
      "Loading config from dict.\n",
      "Loading config from dict.\n",
      "Loading config from dict.\n",
      "Loading config from dict.\n",
      "Warning: No path set for key xopt : output_path\n"
     ]
    },
    {
     "data": {
      "text/plain": "\n            Xopt \n________________________________           \nVersion: 0.5.0+23.gc7f0037.dirty\nConfigured: True\nConfig as YAML:\nxopt: {output_path: null}\nalgorithm:\n  name: bayesian_exploration\n  options:\n    n_initial_samples: 5\n    n_steps: 25\n    sigma: [0.1, 0.1]\n    output_path: .\n    restart_file: null\n    batch_size: 1\n    mc_samples: 1024\n  type: batched\n  function: null\nevaluate:\n  name: test_TNK\n  function: xopt.tests.test_functions.TNK.evaluate_TNK\n  executor: null\n  options: {extra_option: abc}\nvocs:\n  variables:\n    x1: [0, 3.14159]\n    x2: [0, 3.14159]\n  objectives: {y1: None}\n  constraints:\n    c1: [GREATER_THAN, 0]\n    c2: [LESS_THAN, 0.5]\n  linked_variables: {}\n  constants: {a: dummy_constant}"
     },
     "execution_count": 4,
     "metadata": {},
     "output_type": "execute_result"
    }
   ],
   "source": [
    "X = Xopt(config)\n",
    "X"
   ]
  },
  {
   "cell_type": "markdown",
   "metadata": {},
   "source": [
    "# Run BayesOpt"
   ]
  },
  {
   "cell_type": "code",
   "execution_count": 5,
   "metadata": {},
   "outputs": [],
   "source": [
    "# Pick one of these\n",
    "from concurrent.futures import ThreadPoolExecutor as PoolExecutor\n",
    "#from concurrent.futures import ProcessPoolExecutor as PoolExecutor\n",
    "\n",
    "executor = PoolExecutor()\n",
    "# This will also work. \n",
    "#executor=None"
   ]
  },
  {
   "cell_type": "code",
   "execution_count": 6,
   "metadata": {},
   "outputs": [
    {
     "name": "stdout",
     "output_type": "stream",
     "text": [
      "Starting at time 2021-10-27T13:32:36-05:00\n",
      "Generating and submitting initial samples\n",
      "generating samples\n",
      "collecting results\n",
      "generating samples\n",
      "collecting results\n",
      "generating samples\n",
      "collecting results\n",
      "generating samples\n",
      "collecting results\n",
      "generating samples\n",
      "collecting results\n",
      "generating samples\n",
      "collecting results\n",
      "generating samples\n",
      "collecting results\n",
      "generating samples\n",
      "collecting results\n",
      "generating samples\n",
      "collecting results\n",
      "generating samples\n",
      "collecting results\n",
      "generating samples\n",
      "collecting results\n",
      "generating samples\n",
      "collecting results\n",
      "generating samples\n",
      "collecting results\n",
      "generating samples\n",
      "collecting results\n",
      "generating samples\n",
      "collecting results\n",
      "generating samples\n",
      "collecting results\n",
      "generating samples\n",
      "collecting results\n",
      "generating samples\n",
      "collecting results\n",
      "generating samples\n",
      "collecting results\n",
      "generating samples\n",
      "collecting results\n",
      "generating samples\n",
      "collecting results\n",
      "generating samples\n",
      "collecting results\n",
      "generating samples\n",
      "collecting results\n",
      "generating samples\n",
      "collecting results\n",
      "generating samples\n",
      "collecting results\n"
     ]
    }
   ],
   "source": [
    "# Change max generations\n",
    "results = X.run()"
   ]
  },
  {
   "cell_type": "markdown",
   "metadata": {},
   "source": [
    "# Plot\n",
    "- plot input space samples -> yellow points satisfy constraints and purple points do not"
   ]
  },
  {
   "cell_type": "code",
   "execution_count": 8,
   "metadata": {},
   "outputs": [
    {
     "data": {
      "text/plain": "<Figure size 432x288 with 1 Axes>",
      "image/png": "[encoded data removed]"
     },
     "metadata": {
      "needs_background": "light"
     },
     "output_type": "display_data"
    }
   ],
   "source": [
    "import torch\n",
    "import numpy as np\n",
    "import matplotlib.pyplot as plt\n",
    "fig, ax = plt.subplots()\n",
    "\n",
    "# get results and get valid observations\n",
    "train_x = results[config['vocs']['variables']].to_numpy()\n",
    "valid_x = results[config['vocs']['variables']].loc[results['feasibility']].to_numpy()\n",
    "\n",
    "# plot results\n",
    "ax.plot(train_x[:, 0], train_x[:, 1], 'o-')\n",
    "ax.set_ylabel('$f_2$')\n",
    "ax.set_xlabel('$f_1$')\n",
    "\n",
    "ax.plot(valid_x[:,0], valid_x[:,1],'C1o')\n",
    "\n",
    "# plot valid region\n",
    "theta = np.linspace(0,np.pi/2)\n",
    "r = np.sqrt(1 + 0.1*np.cos(16*theta))\n",
    "x_1 = r*np.sin(theta)\n",
    "x_2_lower = r*np.cos(theta)\n",
    "x_2_upper = (0.5 - (x_1 - 0.5)**2)**0.5 + 0.5\n",
    "\n",
    "z = np.zeros_like(x_1)\n",
    "\n",
    "#ax2.plot(x_1, x_2_lower,'r')\n",
    "ax.fill_between(x_1, z, x_2_lower, fc='white')\n",
    "circle = plt.Circle((0.5, 0.5), 0.5**0.5,\n",
    "                    color='r', alpha=0.25, zorder=0,\n",
    "                    label='Valid Region')\n",
    "ax.add_patch(circle)\n",
    "ax.set_xlim(0,np.pi)\n",
    "ax.set_ylim(0,np.pi)\n",
    "ax.set_aspect('equal')\n",
    "\n",
    "plt.show()"
   ]
  },
  {
   "cell_type": "code",
   "execution_count": null,
   "outputs": [],
   "source": [
    "results\n"
   ],
   "metadata": {
    "collapsed": false,
    "pycharm": {
     "name": "#%%\n"
    }
   }
  },
  {
   "cell_type": "code",
   "execution_count": null,
   "outputs": [],
   "source": [],
   "metadata": {
    "collapsed": false,
    "pycharm": {
     "name": "#%%\n"
    }
   }
  }
 ],
 "metadata": {
  "kernelspec": {
   "name": "xopt",
   "language": "python",
   "display_name": "xopt"
  },
  "language_info": {
   "codemirror_mode": {
    "name": "ipython",
    "version": 3
   },
   "file_extension": ".py",
   "mimetype": "text/x-python",
   "name": "python",
   "nbconvert_exporter": "python",
   "pygments_lexer": "ipython3",
   "version": "3.9.7"
  }
 },
 "nbformat": 4,
 "nbformat_minor": 4
}