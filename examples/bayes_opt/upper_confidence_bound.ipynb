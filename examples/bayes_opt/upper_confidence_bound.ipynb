{
 "cells": [
  {
   "cell_type": "markdown",
   "metadata": {},
   "source": [
    "# Bayesian Optimization\n"
   ]
  },
  {
   "cell_type": "code",
   "execution_count": 1,
   "metadata": {},
   "outputs": [],
   "source": [
    "# Import the class\n",
    "import torch\n",
    "\n",
    "from xopt import Xopt\n",
    "from botorch.test_functions.multi_fidelity import AugmentedHartmann"
   ]
  },
  {
   "cell_type": "code",
   "execution_count": 2,
   "metadata": {},
   "outputs": [],
   "source": [
    "# To see log messages\n",
    "from xopt import output_notebook\n",
    "output_notebook()"
   ]
  },
  {
   "cell_type": "markdown",
   "metadata": {},
   "source": [
    "The `Xopt` object can be instantiated from a JSON or YAML file, or a dict, with the proper structure.\n",
    "\n",
    "Here we will make one"
   ]
  },
  {
   "cell_type": "code",
   "execution_count": 3,
   "metadata": {},
   "outputs": [],
   "source": [
    "# Make a proper input file. \n",
    "YAML = \"\"\"\n",
    "xopt: \n",
    "    output_path: null\n",
    "\n",
    "algorithm:\n",
    "  name: upper_confidence_bound\n",
    "  options:  \n",
    "      n_initial_samples: 16\n",
    "      n_steps: 60\n",
    "\n",
    "simulation: \n",
    "  name: test\n",
    "  evaluate: xopt.tests.test_functions.quad_3d.evaluate\n",
    "\n",
    "vocs:\n",
    "  name: test\n",
    "  variables:\n",
    "    x1: [0, 1.0]\n",
    "    x2: [0, 1.0]\n",
    "    x3: [0, 1.0]\n",
    "  objectives:\n",
    "    y1: 'MINIMIZE'\n",
    "  linked_variables: {}\n",
    "  constants: {a: dummy_constant}\n",
    "\n",
    "\"\"\"\n",
    "config = YAML"
   ]
  },
  {
   "cell_type": "code",
   "execution_count": 4,
   "metadata": {},
   "outputs": [
    {
     "name": "stdout",
     "output_type": "stream",
     "text": [
      "Loading config from text\n",
      "`name` keyword no longer allowed in vocs config, removing\n",
      "`evaluate key in evaluate no longer allowed, replacing with `function` keyword\n",
      "Loading config from dict.\n",
      "Loading config from dict.\n",
      "Loading config from dict.\n",
      "Loading config from dict.\n",
      "Warning: No path set for key xopt : output_path\n"
     ]
    },
    {
     "name": "stderr",
     "output_type": "stream",
     "text": [
      "C:\\Users\\Ryan Roussel\\Documents\\GitHub\\Xopt\\xopt\\legacy.py:40: UserWarning: `simulation` keyword no longer allowed in evaluate config, moving to `evaluate`\n",
      "  warnings.warn(\n"
     ]
    }
   ],
   "source": [
    "X = Xopt(config)"
   ]
  },
  {
   "cell_type": "markdown",
   "metadata": {},
   "source": [
    "# Run BayesOpt"
   ]
  },
  {
   "cell_type": "code",
   "execution_count": 5,
   "metadata": {},
   "outputs": [],
   "source": [
    "# Pick one of these\n",
    "from concurrent.futures import ThreadPoolExecutor as PoolExecutor\n",
    "#from concurrent.futures import ProcessPoolExecutor as PoolExecutor\n",
    "\n",
    "executor = PoolExecutor()\n",
    "# This will also work. \n",
    "#executor=None"
   ]
  },
  {
   "cell_type": "code",
   "execution_count": 6,
   "metadata": {
    "pycharm": {
     "name": "#%%\n"
    }
   },
   "outputs": [
    {
     "name": "stdout",
     "output_type": "stream",
     "text": [
      "Starting at time 2021-10-25T14:04:40-05:00\n",
      "Generating and submitting initial samples\n",
      "Exception caught in xopt.evaluators.evaluator\n",
      "Exception caught in xopt.evaluators.evaluator\n",
      "Exception caught in xopt.evaluators.evaluator\n",
      "Exception caught in xopt.evaluators.evaluator\n",
      "Exception caught in xopt.evaluators.evaluator\n",
      "Exception caught in xopt.evaluators.evaluator\n",
      "Exception caught in xopt.evaluators.evaluator\n",
      "Exception caught in xopt.evaluators.evaluator\n",
      "Exception caught in xopt.evaluators.evaluator\n",
      "generating samples\n",
      "collecting results\n",
      "generating samples\n",
      "collecting results\n",
      "generating samples\n",
      "Exception caught in xopt.evaluators.evaluator\n",
      "collecting results\n",
      "generating samples\n",
      "Exception caught in xopt.evaluators.evaluator\n",
      "collecting results\n",
      "generating samples\n",
      "Exception caught in xopt.evaluators.evaluator\n",
      "collecting results\n",
      "generating samples\n",
      "Exception caught in xopt.evaluators.evaluator\n",
      "collecting results\n",
      "generating samples\n",
      "collecting results\n",
      "generating samples\n",
      "collecting results\n",
      "generating samples\n",
      "Exception caught in xopt.evaluators.evaluator\n",
      "collecting results\n",
      "generating samples\n",
      "collecting results\n",
      "generating samples\n",
      "collecting results\n",
      "generating samples\n",
      "Exception caught in xopt.evaluators.evaluator\n",
      "collecting results\n",
      "generating samples\n",
      "collecting results\n",
      "generating samples\n",
      "Exception caught in xopt.evaluators.evaluator\n",
      "collecting results\n",
      "generating samples\n",
      "Exception caught in xopt.evaluators.evaluator\n",
      "collecting results\n",
      "generating samples\n",
      "Exception caught in xopt.evaluators.evaluator\n",
      "collecting results\n",
      "generating samples\n",
      "Exception caught in xopt.evaluators.evaluator\n",
      "collecting results\n",
      "generating samples\n",
      "collecting results\n",
      "generating samples\n",
      "collecting results\n",
      "generating samples\n",
      "collecting results\n",
      "generating samples\n",
      "collecting results\n",
      "generating samples\n",
      "collecting results\n",
      "generating samples\n",
      "collecting results\n",
      "generating samples\n",
      "Exception caught in xopt.evaluators.evaluator\n",
      "collecting results\n",
      "generating samples\n",
      "collecting results\n",
      "generating samples\n",
      "collecting results\n",
      "generating samples\n",
      "Exception caught in xopt.evaluators.evaluator\n",
      "collecting results\n",
      "generating samples\n",
      "collecting results\n",
      "generating samples\n",
      "collecting results\n",
      "generating samples\n",
      "Exception caught in xopt.evaluators.evaluator\n",
      "collecting results\n",
      "generating samples\n",
      "collecting results\n",
      "generating samples\n",
      "collecting results\n",
      "generating samples\n",
      "Exception caught in xopt.evaluators.evaluator\n",
      "collecting results\n",
      "generating samples\n",
      "collecting results\n",
      "generating samples\n",
      "collecting results\n",
      "generating samples\n",
      "collecting results\n",
      "generating samples\n",
      "collecting results\n",
      "generating samples\n",
      "Exception caught in xopt.evaluators.evaluator\n",
      "collecting results\n",
      "generating samples\n",
      "Exception caught in xopt.evaluators.evaluator\n",
      "collecting results\n",
      "generating samples\n",
      "Exception caught in xopt.evaluators.evaluator\n",
      "collecting results\n",
      "generating samples\n",
      "collecting results\n",
      "generating samples\n",
      "collecting results\n",
      "generating samples\n",
      "Exception caught in xopt.evaluators.evaluator\n",
      "collecting results\n",
      "generating samples\n",
      "Exception caught in xopt.evaluators.evaluator\n",
      "collecting results\n",
      "generating samples\n",
      "collecting results\n",
      "generating samples\n",
      "collecting results\n",
      "generating samples\n",
      "collecting results\n",
      "generating samples\n",
      "collecting results\n",
      "generating samples\n",
      "Exception caught in xopt.evaluators.evaluator\n",
      "collecting results\n",
      "generating samples\n",
      "collecting results\n",
      "generating samples\n",
      "Exception caught in xopt.evaluators.evaluator\n",
      "collecting results\n",
      "generating samples\n",
      "Exception caught in xopt.evaluators.evaluator\n",
      "collecting results\n",
      "generating samples\n",
      "Exception caught in xopt.evaluators.evaluator\n",
      "collecting results\n",
      "generating samples\n",
      "Exception caught in xopt.evaluators.evaluator\n",
      "collecting results\n",
      "generating samples\n",
      "Exception caught in xopt.evaluators.evaluator\n",
      "collecting results\n",
      "generating samples\n",
      "collecting results\n",
      "generating samples\n",
      "Exception caught in xopt.evaluators.evaluator\n",
      "collecting results\n",
      "generating samples\n",
      "collecting results\n",
      "generating samples\n",
      "collecting results\n",
      "generating samples\n",
      "collecting results\n"
     ]
    }
   ],
   "source": [
    "# Change max generations\n",
    "results = X.run()\n",
    "results = results.loc[results['status'] == 'done']"
   ]
  },
  {
   "cell_type": "code",
   "execution_count": 7,
   "metadata": {
    "collapsed": false,
    "jupyter": {
     "outputs_hidden": false
    },
    "pycharm": {
     "name": "#%%\n"
    }
   },
   "outputs": [
    {
     "name": "stdout",
     "output_type": "stream",
     "text": [
      "0.011751604192877978\n"
     ]
    },
    {
     "data": {
      "text/plain": "          x1        x2        x3\n47  0.604176  0.507108  0.529127",
      "text/html": "<div>\n<style scoped>\n    .dataframe tbody tr th:only-of-type {\n        vertical-align: middle;\n    }\n\n    .dataframe tbody tr th {\n        vertical-align: top;\n    }\n\n    .dataframe thead th {\n        text-align: right;\n    }\n</style>\n<table border=\"1\" class=\"dataframe\">\n  <thead>\n    <tr style=\"text-align: right;\">\n      <th></th>\n      <th>x1</th>\n      <th>x2</th>\n      <th>x3</th>\n    </tr>\n  </thead>\n  <tbody>\n    <tr>\n      <th>47</th>\n      <td>0.604176</td>\n      <td>0.507108</td>\n      <td>0.529127</td>\n    </tr>\n  </tbody>\n</table>\n</div>"
     },
     "execution_count": 7,
     "metadata": {},
     "output_type": "execute_result"
    }
   ],
   "source": [
    "# print out the best observed point -> minimum should be at [0.15, 0.15, 0.15]\n",
    "print(results['y1'].min())\n",
    "results[['x1','x2','x3']].loc[results['y1'].min() == results['y1']]\n",
    "\n"
   ]
  },
  {
   "cell_type": "code",
   "execution_count": 8,
   "metadata": {},
   "outputs": [
    {
     "data": {
      "text/plain": "              x1         x2         x3         y1       x1_t       x2_t  \\\ncount  41.000000  41.000000  41.000000  41.000000  41.000000  41.000000   \nmean    0.530514   0.374322   0.384963   0.167536   0.530514   0.374322   \nstd     0.258891   0.185053   0.199366   0.106391   0.258891   0.185053   \nmin     0.018810   0.000000   0.000000   0.011752   0.018810   0.000000   \n25%     0.335125   0.240082   0.234482   0.079362   0.335125   0.240082   \n50%     0.515397   0.391789   0.364993   0.140495   0.515397   0.391789   \n75%     0.735277   0.487275   0.524350   0.246761   0.735277   0.487275   \nmax     1.000000   0.828262   0.860614   0.407314   1.000000   0.828262   \n\n            x3_t       y1_t  \ncount  41.000000  41.000000  \nmean    0.384963   0.124354  \nstd     0.199366   0.403113  \nmin     0.000000  -1.332652  \n25%     0.234482   0.044162  \n50%     0.364993   0.122085  \n75%     0.524350   0.227862  \nmax     0.860614   1.402196  ",
      "text/html": "<div>\n<style scoped>\n    .dataframe tbody tr th:only-of-type {\n        vertical-align: middle;\n    }\n\n    .dataframe tbody tr th {\n        vertical-align: top;\n    }\n\n    .dataframe thead th {\n        text-align: right;\n    }\n</style>\n<table border=\"1\" class=\"dataframe\">\n  <thead>\n    <tr style=\"text-align: right;\">\n      <th></th>\n      <th>x1</th>\n      <th>x2</th>\n      <th>x3</th>\n      <th>y1</th>\n      <th>x1_t</th>\n      <th>x2_t</th>\n      <th>x3_t</th>\n      <th>y1_t</th>\n    </tr>\n  </thead>\n  <tbody>\n    <tr>\n      <th>count</th>\n      <td>41.000000</td>\n      <td>41.000000</td>\n      <td>41.000000</td>\n      <td>41.000000</td>\n      <td>41.000000</td>\n      <td>41.000000</td>\n      <td>41.000000</td>\n      <td>41.000000</td>\n    </tr>\n    <tr>\n      <th>mean</th>\n      <td>0.530514</td>\n      <td>0.374322</td>\n      <td>0.384963</td>\n      <td>0.167536</td>\n      <td>0.530514</td>\n      <td>0.374322</td>\n      <td>0.384963</td>\n      <td>0.124354</td>\n    </tr>\n    <tr>\n      <th>std</th>\n      <td>0.258891</td>\n      <td>0.185053</td>\n      <td>0.199366</td>\n      <td>0.106391</td>\n      <td>0.258891</td>\n      <td>0.185053</td>\n      <td>0.199366</td>\n      <td>0.403113</td>\n    </tr>\n    <tr>\n      <th>min</th>\n      <td>0.018810</td>\n      <td>0.000000</td>\n      <td>0.000000</td>\n      <td>0.011752</td>\n      <td>0.018810</td>\n      <td>0.000000</td>\n      <td>0.000000</td>\n      <td>-1.332652</td>\n    </tr>\n    <tr>\n      <th>25%</th>\n      <td>0.335125</td>\n      <td>0.240082</td>\n      <td>0.234482</td>\n      <td>0.079362</td>\n      <td>0.335125</td>\n      <td>0.240082</td>\n      <td>0.234482</td>\n      <td>0.044162</td>\n    </tr>\n    <tr>\n      <th>50%</th>\n      <td>0.515397</td>\n      <td>0.391789</td>\n      <td>0.364993</td>\n      <td>0.140495</td>\n      <td>0.515397</td>\n      <td>0.391789</td>\n      <td>0.364993</td>\n      <td>0.122085</td>\n    </tr>\n    <tr>\n      <th>75%</th>\n      <td>0.735277</td>\n      <td>0.487275</td>\n      <td>0.524350</td>\n      <td>0.246761</td>\n      <td>0.735277</td>\n      <td>0.487275</td>\n      <td>0.524350</td>\n      <td>0.227862</td>\n    </tr>\n    <tr>\n      <th>max</th>\n      <td>1.000000</td>\n      <td>0.828262</td>\n      <td>0.860614</td>\n      <td>0.407314</td>\n      <td>1.000000</td>\n      <td>0.828262</td>\n      <td>0.860614</td>\n      <td>1.402196</td>\n    </tr>\n  </tbody>\n</table>\n</div>"
     },
     "execution_count": 8,
     "metadata": {},
     "output_type": "execute_result"
    }
   ],
   "source": [
    "results.describe()"
   ]
  },
  {
   "cell_type": "code",
   "execution_count": 8,
   "outputs": [],
   "source": [],
   "metadata": {
    "collapsed": false,
    "pycharm": {
     "name": "#%%\n"
    }
   }
  }
 ],
 "metadata": {
  "kernelspec": {
   "name": "xopt",
   "language": "python",
   "display_name": "xopt"
  },
  "language_info": {
   "codemirror_mode": {
    "name": "ipython",
    "version": 3
   },
   "file_extension": ".py",
   "mimetype": "text/x-python",
   "name": "python",
   "nbconvert_exporter": "python",
   "pygments_lexer": "ipython3",
   "version": "3.9.7"
  }
 },
 "nbformat": 4,
 "nbformat_minor": 4
}