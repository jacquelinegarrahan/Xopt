{
 "cells": [
  {
   "cell_type": "markdown",
   "metadata": {},
   "source": [
    "# Bayesian Exploration with Xopt"
   ]
  },
  {
   "cell_type": "markdown",
   "metadata": {},
   "source": [
    "## TNK test function\n",
    "\n",
    "This is the class method for running Xopt. Use Bayesian exploration to explore the input space.\n",
    "\n",
    "TNK function\n",
    "$n=2$ variables:\n",
    "$x_i \\in [0, \\pi], i=1,2$\n",
    "\n",
    "Objectives:\n",
    "- $f_i(x) = x_i$\n",
    "\n",
    "Constraints:\n",
    "- $g_1(x) = -x_1^2 -x_2^2 + 1 + 0.1 \\cos\\left(16 \\arctan \\frac{x_1}{x_2}\\right) \\le 0$\n",
    "- $g_2(x) = (x_1 - 1/2)^2 + (x_2-1/2)^2 \\le 0.5$"
   ]
  },
  {
   "cell_type": "code",
   "execution_count": 31,
   "metadata": {},
   "outputs": [],
   "source": [
    "# Import the class\n",
    "from xopt import Xopt\n",
    "\n",
    "import os\n",
    "SMOKE_TEST = os.environ.get('SMOKE_TEST')"
   ]
  },
  {
   "cell_type": "code",
   "execution_count": 32,
   "metadata": {},
   "outputs": [],
   "source": [
    "# To see log messages\n",
    "from xopt import output_notebook\n",
    "output_notebook()"
   ]
  },
  {
   "cell_type": "markdown",
   "metadata": {},
   "source": [
    "The `Xopt` object can be instantiated from a JSON or YAML file, or a dict, with the proper structure.\n",
    "\n",
    "Here we will make one"
   ]
  },
  {
   "cell_type": "code",
   "execution_count": 33,
   "metadata": {},
   "outputs": [],
   "source": [
    "import yaml\n",
    "# Make a proper input file. \n",
    "YAML=\"\"\"\n",
    "xopt: {output_path: null}\n",
    "\n",
    "algorithm:\n",
    "  name: bayesian_exploration\n",
    "  options:  \n",
    "      n_initial_samples: 5\n",
    "      n_steps: 25\n",
    "      #batch_size: 1                      ## batch size for parallelized optimization\n",
    "      sigma: [0.1, 0.1]                ## proximal biasing term\n",
    "\n",
    "  \n",
    "evaluate:\n",
    "  name: test_TNK\n",
    "  function: xopt.tests.test_functions.TNK.evaluate_TNK\n",
    "  \n",
    "vocs:\n",
    "  name: TNK_test\n",
    "  variables:\n",
    "    x1: [0, 3.14159]\n",
    "    x2: [0, 3.14159]\n",
    "  objectives: {y1: None}\n",
    "  constraints:\n",
    "    c1: [GREATER_THAN, 0]\n",
    "    c2: ['LESS_THAN', 0.5]\n",
    "  linked_variables: {}\n",
    "  constants: {a: dummy_constant}\n",
    "\n",
    "\"\"\"\n",
    "config = yaml.safe_load(YAML)\n",
    "\n",
    "if SMOKE_TEST:\n",
    "    config['algorithm']['options']['n_steps'] = 3\n",
    "    config['algorithm']['options']['generator_options']['num_restarts'] = 2\n",
    "    config['algorithm']['options']['generator_options']['raw_samples'] = 2"
   ]
  },
  {
   "cell_type": "code",
   "execution_count": 34,
   "metadata": {},
   "outputs": [
    {
     "name": "stdout",
     "output_type": "stream",
     "text": [
      "Loading config from dict.\n",
      "`name` keyword no longer allowed in vocs config, removing\n",
      "Loading config from dict.\n",
      "Loading config from dict.\n",
      "Loading config from dict.\n",
      "Loading config from dict.\n",
      "Warning: No path set for key xopt : output_path\n"
     ]
    },
    {
     "data": {
      "text/plain": "\n            Xopt \n________________________________           \nVersion: 0.5.0+9.gb90b083.dirty\nConfigured: True\nConfig as YAML:\nxopt: {output_path: null}\nalgorithm:\n  name: bayesian_exploration\n  options:\n    n_initial_samples: 5\n    n_steps: 25\n    sigma: [0.1, 0.1]\n    output_path: .\n    batch_size: 1\n    mc_samples: 1024\n  type: batched\n  function: null\nevaluate:\n  name: test_TNK\n  function: xopt.tests.test_functions.TNK.evaluate_TNK\n  executor: null\n  options: {extra_option: abc}\nvocs:\n  variables:\n    x1: [0, 3.14159]\n    x2: [0, 3.14159]\n  objectives: {y1: None}\n  constraints:\n    c1: [GREATER_THAN, 0]\n    c2: [LESS_THAN, 0.5]\n  linked_variables: {}\n  constants: {a: dummy_constant}"
     },
     "execution_count": 34,
     "metadata": {},
     "output_type": "execute_result"
    }
   ],
   "source": [
    "X = Xopt(config)\n",
    "X"
   ]
  },
  {
   "cell_type": "markdown",
   "metadata": {},
   "source": [
    "# Run BayesOpt"
   ]
  },
  {
   "cell_type": "code",
   "execution_count": 35,
   "metadata": {},
   "outputs": [],
   "source": [
    "# Pick one of these\n",
    "from concurrent.futures import ThreadPoolExecutor as PoolExecutor\n",
    "#from concurrent.futures import ProcessPoolExecutor as PoolExecutor\n",
    "\n",
    "executor = PoolExecutor()\n",
    "# This will also work. \n",
    "#executor=None"
   ]
  },
  {
   "cell_type": "code",
   "execution_count": 36,
   "metadata": {},
   "outputs": [
    {
     "name": "stdout",
     "output_type": "stream",
     "text": [
      "Starting at time 2021-10-15T14:34:38-05:00\n",
      "Generating and submitting initial samples\n",
      "generating samples\n",
      "collecting results\n",
      "generating samples\n",
      "collecting results\n",
      "generating samples\n",
      "collecting results\n",
      "generating samples\n",
      "collecting results\n",
      "generating samples\n",
      "collecting results\n",
      "generating samples\n",
      "collecting results\n",
      "generating samples\n",
      "collecting results\n",
      "generating samples\n",
      "collecting results\n",
      "generating samples\n",
      "collecting results\n",
      "generating samples\n",
      "collecting results\n",
      "generating samples\n",
      "collecting results\n",
      "generating samples\n",
      "collecting results\n",
      "generating samples\n",
      "collecting results\n",
      "generating samples\n",
      "collecting results\n",
      "generating samples\n",
      "collecting results\n",
      "generating samples\n",
      "collecting results\n",
      "generating samples\n",
      "collecting results\n",
      "generating samples\n",
      "collecting results\n",
      "generating samples\n",
      "collecting results\n",
      "generating samples\n",
      "collecting results\n",
      "generating samples\n",
      "collecting results\n",
      "generating samples\n",
      "collecting results\n",
      "generating samples\n",
      "collecting results\n",
      "generating samples\n",
      "collecting results\n",
      "generating samples\n",
      "collecting results\n"
     ]
    }
   ],
   "source": [
    "# Change max generations\n",
    "results = X.run()"
   ]
  },
  {
   "cell_type": "markdown",
   "metadata": {},
   "source": [
    "# Plot\n",
    "- plot input space samples -> yellow points satisfy constraints and purple points do not"
   ]
  },
  {
   "cell_type": "code",
   "execution_count": 37,
   "metadata": {},
   "outputs": [
    {
     "data": {
      "text/plain": "<Figure size 432x288 with 1 Axes>",
      "image/png": "[encoded data removed]"
     },
     "metadata": {
      "needs_background": "light"
     },
     "output_type": "display_data"
    }
   ],
   "source": [
    "import torch\n",
    "import numpy as np\n",
    "import matplotlib.pyplot as plt\n",
    "fig, ax = plt.subplots()\n",
    "\n",
    "# get results and get valid observations\n",
    "train_x = results[config['vocs']['variables']].to_numpy()\n",
    "valid_x = results[config['vocs']['variables']].loc[results['feas']].to_numpy()\n",
    "\n",
    "# plot results\n",
    "ax.plot(train_x[:, 0], train_x[:, 1], 'o-')\n",
    "ax.set_ylabel('$f_2$')\n",
    "ax.set_xlabel('$f_1$')\n",
    "\n",
    "ax.plot(valid_x[:,0], valid_x[:,1],'C1o')\n",
    "\n",
    "# plot valid region\n",
    "theta = np.linspace(0,np.pi/2)\n",
    "r = np.sqrt(1 + 0.1*np.cos(16*theta))\n",
    "x_1 = r*np.sin(theta)\n",
    "x_2_lower = r*np.cos(theta)\n",
    "x_2_upper = (0.5 - (x_1 - 0.5)**2)**0.5 + 0.5\n",
    "\n",
    "z = np.zeros_like(x_1)\n",
    "\n",
    "#ax2.plot(x_1, x_2_lower,'r')\n",
    "ax.fill_between(x_1, z, x_2_lower, fc='white')\n",
    "circle = plt.Circle((0.5, 0.5), 0.5**0.5,\n",
    "                    color='r', alpha=0.25, zorder=0,\n",
    "                    label='Valid Region')\n",
    "ax.add_patch(circle)\n",
    "ax.set_xlim(0,np.pi)\n",
    "ax.set_ylim(0,np.pi)\n",
    "ax.set_aspect('equal')\n",
    "\n",
    "plt.show()"
   ]
  },
  {
   "cell_type": "code",
   "execution_count": 38,
   "outputs": [
    {
     "data": {
      "text/plain": "          x1        x2               a        y1        y2         c1  \\\n0   1.115365  1.098761  dummy_constant  1.115365  1.098761   1.352034   \n1   2.669188  2.089469  dummy_constant  2.669188  2.089469  10.526495   \n2   2.510419  1.370872  dummy_constant  2.510419  1.370872   7.195762   \n3   1.584007  2.105298  dummy_constant  1.584007  2.105298   6.003853   \n4   0.004071  0.505559  dummy_constant  0.004071  0.505559  -0.843565   \n5   0.225481  0.243014  dummy_constant  0.225481  0.243014  -0.972722   \n6   0.131020  0.673537  dummy_constant  0.131020  0.673537  -0.429410   \n7   0.065493  0.929001  dummy_constant  0.065493  0.929001  -0.175685   \n8   0.000000  0.996957  dummy_constant  0.000000  0.996957  -0.106077   \n9   0.234340  1.265093  dummy_constant  0.234340  1.265093   0.753157   \n10  0.270508  1.115892  dummy_constant  0.270508  1.115892   0.397166   \n11  0.366766  1.120713  dummy_constant  0.366766  1.120713   0.356410   \n12  0.490319  1.137066  dummy_constant  0.490319  1.137066   0.435982   \n13  0.629890  1.135131  dummy_constant  0.629890  1.135131   0.710184   \n14  0.740790  1.126635  dummy_constant  0.740790  1.126635   0.917377   \n15  0.834044  1.096867  dummy_constant  0.834044  1.096867   0.954692   \n16  0.839443  0.849848  dummy_constant  0.839443  0.849848   0.327390   \n17  0.987833  0.857309  dummy_constant  0.987833  0.857309   0.668121   \n18  1.097013  0.738105  dummy_constant  1.097013  0.738105   0.848105   \n19  1.033635  0.481780  dummy_constant  1.033635  0.481780   0.223736   \n20  1.160486  0.403941  dummy_constant  1.160486  0.403941   0.449616   \n21  1.082660  0.197492  dummy_constant  1.082660  0.197492   0.307930   \n22  0.925498  0.246112  dummy_constant  0.925498  0.246112  -0.030286   \n23  0.846715  0.503933  dummy_constant  0.846715  0.503933   0.037985   \n24  0.828207  0.658236  dummy_constant  0.828207  0.658236   0.144023   \n25  0.701450  0.909235  dummy_constant  0.701450  0.909235   0.365090   \n26  0.551996  0.910165  dummy_constant  0.551996  0.910165   0.209452   \n27  0.429176  0.950438  dummy_constant  0.429176  0.950438  -0.000082   \n28  0.602299  0.790000  dummy_constant  0.602299  0.790000   0.041105   \n29  0.722480  0.760302  dummy_constant  0.722480  0.760302   0.008247   \n\n          c2 some_array status      x1_t      x2_t      y1_t      c1_t  \\\n0   0.737189  [1, 2, 3]   done  0.355032  0.349747 -0.423205 -0.295550   \n1   7.231786  [1, 2, 3]   done  0.849630  0.665099  1.002470 -2.301059   \n2   4.800201  [1, 2, 3]   done  0.799092  0.436362  0.856795 -1.572971   \n3   3.752051  [1, 2, 3]   done  0.504205  0.670138  0.006787 -1.312424   \n4   0.245976  [1, 2, 3]   done  0.001296  0.160925 -1.442847  0.184401   \n5   0.141402  [1, 2, 3]   done  0.071773  0.077354  0.225481  0.972722   \n6   0.166261  [1, 2, 3]   done  0.041705  0.214394  0.131020  0.429410   \n7   0.372839  [1, 2, 3]   done  0.020847  0.295711  0.065493  0.175685   \n8   0.496966  [1, 2, 3]   done  0.000000  0.317342  0.000000  0.106077   \n9   0.655942  [1, 2, 3]   done  0.074593  0.402692  0.234340 -0.753157   \n10  0.431990  [1, 2, 3]   done  0.086105  0.355200  0.270508 -0.397166   \n11  0.403035  [1, 2, 3]   done  0.116745  0.356734  0.366766 -0.356410   \n12  0.405947  [1, 2, 3]   done  0.156073  0.361940  0.490319 -0.435982   \n13  0.420263  [1, 2, 3]   done  0.200500  0.361324  0.629890 -0.710184   \n14  0.450652  [1, 2, 3]   done  0.235801  0.358619  0.740790 -0.917377   \n15  0.467836  [1, 2, 3]   done  0.265485  0.349144  0.834044 -0.954692   \n16  0.237615  [1, 2, 3]   done  0.267203  0.270515  0.839443 -0.327390   \n17  0.365651  [1, 2, 3]   done  0.314437  0.272890  0.987833 -0.668121   \n18  0.413118  [1, 2, 3]   done  0.349190  0.234946  1.097013 -0.848105   \n19  0.285099  [1, 2, 3]   done  0.329017  0.153355  1.033635 -0.223736   \n20  0.445469  [1, 2, 3]   done  0.369395  0.128579  1.160486 -0.449616   \n21  0.431004  [1, 2, 3]   done  0.344622  0.062864  1.082660 -0.307930   \n22  0.245508  [1, 2, 3]   done  0.294595  0.078340  0.925498  0.030286   \n23  0.120227  [1, 2, 3]   done  0.269518  0.160407  0.846715 -0.037985   \n24  0.132758  [1, 2, 3]   done  0.263627  0.209523  0.828207 -0.144023   \n25  0.208056  [1, 2, 3]   done  0.223279  0.289419  0.701450 -0.365090   \n26  0.170939  [1, 2, 3]   done  0.175706  0.289715  0.551996 -0.209452   \n27  0.207910  [1, 2, 3]   done  0.136611  0.302534  0.429176  0.000082   \n28  0.094565  [1, 2, 3]   done  0.191718  0.251465  0.602299 -0.041105   \n29  0.117255  [1, 2, 3]   done  0.229973  0.242012  0.722480 -0.008247   \n\n        c2_t   c1_f   c2_f   feas  \n0   0.081602   True  False  False  \n1   2.315987   True  False  False  \n2   1.479431   True  False  False  \n3   1.118827   True  False  False  \n4  -0.087394  False   True  False  \n5  -0.358598  False   True  False  \n6  -0.333739  False   True  False  \n7  -0.127161  False   True  False  \n8  -0.003034  False   True  False  \n9   0.155942   True  False  False  \n10 -0.068010   True   True   True  \n11 -0.096965   True   True   True  \n12 -0.094053   True   True   True  \n13 -0.079737   True   True   True  \n14 -0.049348   True   True   True  \n15 -0.032164   True   True   True  \n16 -0.262385   True   True   True  \n17 -0.134349   True   True   True  \n18 -0.086882   True   True   True  \n19 -0.214901   True   True   True  \n20 -0.054531   True   True   True  \n21 -0.068996   True   True   True  \n22 -0.254492  False   True  False  \n23 -0.379773   True   True   True  \n24 -0.367242   True   True   True  \n25 -0.291944   True   True   True  \n26 -0.329061   True   True   True  \n27 -0.292090  False   True  False  \n28 -0.405435   True   True   True  \n29 -0.382745   True   True   True  ",
      "text/html": "<div>\n<style scoped>\n    .dataframe tbody tr th:only-of-type {\n        vertical-align: middle;\n    }\n\n    .dataframe tbody tr th {\n        vertical-align: top;\n    }\n\n    .dataframe thead th {\n        text-align: right;\n    }\n</style>\n<table border=\"1\" class=\"dataframe\">\n  <thead>\n    <tr style=\"text-align: right;\">\n      <th></th>\n      <th>x1</th>\n      <th>x2</th>\n      <th>a</th>\n      <th>y1</th>\n      <th>y2</th>\n      <th>c1</th>\n      <th>c2</th>\n      <th>some_array</th>\n      <th>status</th>\n      <th>x1_t</th>\n      <th>x2_t</th>\n      <th>y1_t</th>\n      <th>c1_t</th>\n      <th>c2_t</th>\n      <th>c1_f</th>\n      <th>c2_f</th>\n      <th>feas</th>\n    </tr>\n  </thead>\n  <tbody>\n    <tr>\n      <th>0</th>\n      <td>1.115365</td>\n      <td>1.098761</td>\n      <td>dummy_constant</td>\n      <td>1.115365</td>\n      <td>1.098761</td>\n      <td>1.352034</td>\n      <td>0.737189</td>\n      <td>[1, 2, 3]</td>\n      <td>done</td>\n      <td>0.355032</td>\n      <td>0.349747</td>\n      <td>-0.423205</td>\n      <td>-0.295550</td>\n      <td>0.081602</td>\n      <td>True</td>\n      <td>False</td>\n      <td>False</td>\n    </tr>\n    <tr>\n      <th>1</th>\n      <td>2.669188</td>\n      <td>2.089469</td>\n      <td>dummy_constant</td>\n      <td>2.669188</td>\n      <td>2.089469</td>\n      <td>10.526495</td>\n      <td>7.231786</td>\n      <td>[1, 2, 3]</td>\n      <td>done</td>\n      <td>0.849630</td>\n      <td>0.665099</td>\n      <td>1.002470</td>\n      <td>-2.301059</td>\n      <td>2.315987</td>\n      <td>True</td>\n      <td>False</td>\n      <td>False</td>\n    </tr>\n    <tr>\n      <th>2</th>\n      <td>2.510419</td>\n      <td>1.370872</td>\n      <td>dummy_constant</td>\n      <td>2.510419</td>\n      <td>1.370872</td>\n      <td>7.195762</td>\n      <td>4.800201</td>\n      <td>[1, 2, 3]</td>\n      <td>done</td>\n      <td>0.799092</td>\n      <td>0.436362</td>\n      <td>0.856795</td>\n      <td>-1.572971</td>\n      <td>1.479431</td>\n      <td>True</td>\n      <td>False</td>\n      <td>False</td>\n    </tr>\n    <tr>\n      <th>3</th>\n      <td>1.584007</td>\n      <td>2.105298</td>\n      <td>dummy_constant</td>\n      <td>1.584007</td>\n      <td>2.105298</td>\n      <td>6.003853</td>\n      <td>3.752051</td>\n      <td>[1, 2, 3]</td>\n      <td>done</td>\n      <td>0.504205</td>\n      <td>0.670138</td>\n      <td>0.006787</td>\n      <td>-1.312424</td>\n      <td>1.118827</td>\n      <td>True</td>\n      <td>False</td>\n      <td>False</td>\n    </tr>\n    <tr>\n      <th>4</th>\n      <td>0.004071</td>\n      <td>0.505559</td>\n      <td>dummy_constant</td>\n      <td>0.004071</td>\n      <td>0.505559</td>\n      <td>-0.843565</td>\n      <td>0.245976</td>\n      <td>[1, 2, 3]</td>\n      <td>done</td>\n      <td>0.001296</td>\n      <td>0.160925</td>\n      <td>-1.442847</td>\n      <td>0.184401</td>\n      <td>-0.087394</td>\n      <td>False</td>\n      <td>True</td>\n      <td>False</td>\n    </tr>\n    <tr>\n      <th>5</th>\n      <td>0.225481</td>\n      <td>0.243014</td>\n      <td>dummy_constant</td>\n      <td>0.225481</td>\n      <td>0.243014</td>\n      <td>-0.972722</td>\n      <td>0.141402</td>\n      <td>[1, 2, 3]</td>\n      <td>done</td>\n      <td>0.071773</td>\n      <td>0.077354</td>\n      <td>0.225481</td>\n      <td>0.972722</td>\n      <td>-0.358598</td>\n      <td>False</td>\n      <td>True</td>\n      <td>False</td>\n    </tr>\n    <tr>\n      <th>6</th>\n      <td>0.131020</td>\n      <td>0.673537</td>\n      <td>dummy_constant</td>\n      <td>0.131020</td>\n      <td>0.673537</td>\n      <td>-0.429410</td>\n      <td>0.166261</td>\n      <td>[1, 2, 3]</td>\n      <td>done</td>\n      <td>0.041705</td>\n      <td>0.214394</td>\n      <td>0.131020</td>\n      <td>0.429410</td>\n      <td>-0.333739</td>\n      <td>False</td>\n      <td>True</td>\n      <td>False</td>\n    </tr>\n    <tr>\n      <th>7</th>\n      <td>0.065493</td>\n      <td>0.929001</td>\n      <td>dummy_constant</td>\n      <td>0.065493</td>\n      <td>0.929001</td>\n      <td>-0.175685</td>\n      <td>0.372839</td>\n      <td>[1, 2, 3]</td>\n      <td>done</td>\n      <td>0.020847</td>\n      <td>0.295711</td>\n      <td>0.065493</td>\n      <td>0.175685</td>\n      <td>-0.127161</td>\n      <td>False</td>\n      <td>True</td>\n      <td>False</td>\n    </tr>\n    <tr>\n      <th>8</th>\n      <td>0.000000</td>\n      <td>0.996957</td>\n      <td>dummy_constant</td>\n      <td>0.000000</td>\n      <td>0.996957</td>\n      <td>-0.106077</td>\n      <td>0.496966</td>\n      <td>[1, 2, 3]</td>\n      <td>done</td>\n      <td>0.000000</td>\n      <td>0.317342</td>\n      <td>0.000000</td>\n      <td>0.106077</td>\n      <td>-0.003034</td>\n      <td>False</td>\n      <td>True</td>\n      <td>False</td>\n    </tr>\n    <tr>\n      <th>9</th>\n      <td>0.234340</td>\n      <td>1.265093</td>\n      <td>dummy_constant</td>\n      <td>0.234340</td>\n      <td>1.265093</td>\n      <td>0.753157</td>\n      <td>0.655942</td>\n      <td>[1, 2, 3]</td>\n      <td>done</td>\n      <td>0.074593</td>\n      <td>0.402692</td>\n      <td>0.234340</td>\n      <td>-0.753157</td>\n      <td>0.155942</td>\n      <td>True</td>\n      <td>False</td>\n      <td>False</td>\n    </tr>\n    <tr>\n      <th>10</th>\n      <td>0.270508</td>\n      <td>1.115892</td>\n      <td>dummy_constant</td>\n      <td>0.270508</td>\n      <td>1.115892</td>\n      <td>0.397166</td>\n      <td>0.431990</td>\n      <td>[1, 2, 3]</td>\n      <td>done</td>\n      <td>0.086105</td>\n      <td>0.355200</td>\n      <td>0.270508</td>\n      <td>-0.397166</td>\n      <td>-0.068010</td>\n      <td>True</td>\n      <td>True</td>\n      <td>True</td>\n    </tr>\n    <tr>\n      <th>11</th>\n      <td>0.366766</td>\n      <td>1.120713</td>\n      <td>dummy_constant</td>\n      <td>0.366766</td>\n      <td>1.120713</td>\n      <td>0.356410</td>\n      <td>0.403035</td>\n      <td>[1, 2, 3]</td>\n      <td>done</td>\n      <td>0.116745</td>\n      <td>0.356734</td>\n      <td>0.366766</td>\n      <td>-0.356410</td>\n      <td>-0.096965</td>\n      <td>True</td>\n      <td>True</td>\n      <td>True</td>\n    </tr>\n    <tr>\n      <th>12</th>\n      <td>0.490319</td>\n      <td>1.137066</td>\n      <td>dummy_constant</td>\n      <td>0.490319</td>\n      <td>1.137066</td>\n      <td>0.435982</td>\n      <td>0.405947</td>\n      <td>[1, 2, 3]</td>\n      <td>done</td>\n      <td>0.156073</td>\n      <td>0.361940</td>\n      <td>0.490319</td>\n      <td>-0.435982</td>\n      <td>-0.094053</td>\n      <td>True</td>\n      <td>True</td>\n      <td>True</td>\n    </tr>\n    <tr>\n      <th>13</th>\n      <td>0.629890</td>\n      <td>1.135131</td>\n      <td>dummy_constant</td>\n      <td>0.629890</td>\n      <td>1.135131</td>\n      <td>0.710184</td>\n      <td>0.420263</td>\n      <td>[1, 2, 3]</td>\n      <td>done</td>\n      <td>0.200500</td>\n      <td>0.361324</td>\n      <td>0.629890</td>\n      <td>-0.710184</td>\n      <td>-0.079737</td>\n      <td>True</td>\n      <td>True</td>\n      <td>True</td>\n    </tr>\n    <tr>\n      <th>14</th>\n      <td>0.740790</td>\n      <td>1.126635</td>\n      <td>dummy_constant</td>\n      <td>0.740790</td>\n      <td>1.126635</td>\n      <td>0.917377</td>\n      <td>0.450652</td>\n      <td>[1, 2, 3]</td>\n      <td>done</td>\n      <td>0.235801</td>\n      <td>0.358619</td>\n      <td>0.740790</td>\n      <td>-0.917377</td>\n      <td>-0.049348</td>\n      <td>True</td>\n      <td>True</td>\n      <td>True</td>\n    </tr>\n    <tr>\n      <th>15</th>\n      <td>0.834044</td>\n      <td>1.096867</td>\n      <td>dummy_constant</td>\n      <td>0.834044</td>\n      <td>1.096867</td>\n      <td>0.954692</td>\n      <td>0.467836</td>\n      <td>[1, 2, 3]</td>\n      <td>done</td>\n      <td>0.265485</td>\n      <td>0.349144</td>\n      <td>0.834044</td>\n      <td>-0.954692</td>\n      <td>-0.032164</td>\n      <td>True</td>\n      <td>True</td>\n      <td>True</td>\n    </tr>\n    <tr>\n      <th>16</th>\n      <td>0.839443</td>\n      <td>0.849848</td>\n      <td>dummy_constant</td>\n      <td>0.839443</td>\n      <td>0.849848</td>\n      <td>0.327390</td>\n      <td>0.237615</td>\n      <td>[1, 2, 3]</td>\n      <td>done</td>\n      <td>0.267203</td>\n      <td>0.270515</td>\n      <td>0.839443</td>\n      <td>-0.327390</td>\n      <td>-0.262385</td>\n      <td>True</td>\n      <td>True</td>\n      <td>True</td>\n    </tr>\n    <tr>\n      <th>17</th>\n      <td>0.987833</td>\n      <td>0.857309</td>\n      <td>dummy_constant</td>\n      <td>0.987833</td>\n      <td>0.857309</td>\n      <td>0.668121</td>\n      <td>0.365651</td>\n      <td>[1, 2, 3]</td>\n      <td>done</td>\n      <td>0.314437</td>\n      <td>0.272890</td>\n      <td>0.987833</td>\n      <td>-0.668121</td>\n      <td>-0.134349</td>\n      <td>True</td>\n      <td>True</td>\n      <td>True</td>\n    </tr>\n    <tr>\n      <th>18</th>\n      <td>1.097013</td>\n      <td>0.738105</td>\n      <td>dummy_constant</td>\n      <td>1.097013</td>\n      <td>0.738105</td>\n      <td>0.848105</td>\n      <td>0.413118</td>\n      <td>[1, 2, 3]</td>\n      <td>done</td>\n      <td>0.349190</td>\n      <td>0.234946</td>\n      <td>1.097013</td>\n      <td>-0.848105</td>\n      <td>-0.086882</td>\n      <td>True</td>\n      <td>True</td>\n      <td>True</td>\n    </tr>\n    <tr>\n      <th>19</th>\n      <td>1.033635</td>\n      <td>0.481780</td>\n      <td>dummy_constant</td>\n      <td>1.033635</td>\n      <td>0.481780</td>\n      <td>0.223736</td>\n      <td>0.285099</td>\n      <td>[1, 2, 3]</td>\n      <td>done</td>\n      <td>0.329017</td>\n      <td>0.153355</td>\n      <td>1.033635</td>\n      <td>-0.223736</td>\n      <td>-0.214901</td>\n      <td>True</td>\n      <td>True</td>\n      <td>True</td>\n    </tr>\n    <tr>\n      <th>20</th>\n      <td>1.160486</td>\n      <td>0.403941</td>\n      <td>dummy_constant</td>\n      <td>1.160486</td>\n      <td>0.403941</td>\n      <td>0.449616</td>\n      <td>0.445469</td>\n      <td>[1, 2, 3]</td>\n      <td>done</td>\n      <td>0.369395</td>\n      <td>0.128579</td>\n      <td>1.160486</td>\n      <td>-0.449616</td>\n      <td>-0.054531</td>\n      <td>True</td>\n      <td>True</td>\n      <td>True</td>\n    </tr>\n    <tr>\n      <th>21</th>\n      <td>1.082660</td>\n      <td>0.197492</td>\n      <td>dummy_constant</td>\n      <td>1.082660</td>\n      <td>0.197492</td>\n      <td>0.307930</td>\n      <td>0.431004</td>\n      <td>[1, 2, 3]</td>\n      <td>done</td>\n      <td>0.344622</td>\n      <td>0.062864</td>\n      <td>1.082660</td>\n      <td>-0.307930</td>\n      <td>-0.068996</td>\n      <td>True</td>\n      <td>True</td>\n      <td>True</td>\n    </tr>\n    <tr>\n      <th>22</th>\n      <td>0.925498</td>\n      <td>0.246112</td>\n      <td>dummy_constant</td>\n      <td>0.925498</td>\n      <td>0.246112</td>\n      <td>-0.030286</td>\n      <td>0.245508</td>\n      <td>[1, 2, 3]</td>\n      <td>done</td>\n      <td>0.294595</td>\n      <td>0.078340</td>\n      <td>0.925498</td>\n      <td>0.030286</td>\n      <td>-0.254492</td>\n      <td>False</td>\n      <td>True</td>\n      <td>False</td>\n    </tr>\n    <tr>\n      <th>23</th>\n      <td>0.846715</td>\n      <td>0.503933</td>\n      <td>dummy_constant</td>\n      <td>0.846715</td>\n      <td>0.503933</td>\n      <td>0.037985</td>\n      <td>0.120227</td>\n      <td>[1, 2, 3]</td>\n      <td>done</td>\n      <td>0.269518</td>\n      <td>0.160407</td>\n      <td>0.846715</td>\n      <td>-0.037985</td>\n      <td>-0.379773</td>\n      <td>True</td>\n      <td>True</td>\n      <td>True</td>\n    </tr>\n    <tr>\n      <th>24</th>\n      <td>0.828207</td>\n      <td>0.658236</td>\n      <td>dummy_constant</td>\n      <td>0.828207</td>\n      <td>0.658236</td>\n      <td>0.144023</td>\n      <td>0.132758</td>\n      <td>[1, 2, 3]</td>\n      <td>done</td>\n      <td>0.263627</td>\n      <td>0.209523</td>\n      <td>0.828207</td>\n      <td>-0.144023</td>\n      <td>-0.367242</td>\n      <td>True</td>\n      <td>True</td>\n      <td>True</td>\n    </tr>\n    <tr>\n      <th>25</th>\n      <td>0.701450</td>\n      <td>0.909235</td>\n      <td>dummy_constant</td>\n      <td>0.701450</td>\n      <td>0.909235</td>\n      <td>0.365090</td>\n      <td>0.208056</td>\n      <td>[1, 2, 3]</td>\n      <td>done</td>\n      <td>0.223279</td>\n      <td>0.289419</td>\n      <td>0.701450</td>\n      <td>-0.365090</td>\n      <td>-0.291944</td>\n      <td>True</td>\n      <td>True</td>\n      <td>True</td>\n    </tr>\n    <tr>\n      <th>26</th>\n      <td>0.551996</td>\n      <td>0.910165</td>\n      <td>dummy_constant</td>\n      <td>0.551996</td>\n      <td>0.910165</td>\n      <td>0.209452</td>\n      <td>0.170939</td>\n      <td>[1, 2, 3]</td>\n      <td>done</td>\n      <td>0.175706</td>\n      <td>0.289715</td>\n      <td>0.551996</td>\n      <td>-0.209452</td>\n      <td>-0.329061</td>\n      <td>True</td>\n      <td>True</td>\n      <td>True</td>\n    </tr>\n    <tr>\n      <th>27</th>\n      <td>0.429176</td>\n      <td>0.950438</td>\n      <td>dummy_constant</td>\n      <td>0.429176</td>\n      <td>0.950438</td>\n      <td>-0.000082</td>\n      <td>0.207910</td>\n      <td>[1, 2, 3]</td>\n      <td>done</td>\n      <td>0.136611</td>\n      <td>0.302534</td>\n      <td>0.429176</td>\n      <td>0.000082</td>\n      <td>-0.292090</td>\n      <td>False</td>\n      <td>True</td>\n      <td>False</td>\n    </tr>\n    <tr>\n      <th>28</th>\n      <td>0.602299</td>\n      <td>0.790000</td>\n      <td>dummy_constant</td>\n      <td>0.602299</td>\n      <td>0.790000</td>\n      <td>0.041105</td>\n      <td>0.094565</td>\n      <td>[1, 2, 3]</td>\n      <td>done</td>\n      <td>0.191718</td>\n      <td>0.251465</td>\n      <td>0.602299</td>\n      <td>-0.041105</td>\n      <td>-0.405435</td>\n      <td>True</td>\n      <td>True</td>\n      <td>True</td>\n    </tr>\n    <tr>\n      <th>29</th>\n      <td>0.722480</td>\n      <td>0.760302</td>\n      <td>dummy_constant</td>\n      <td>0.722480</td>\n      <td>0.760302</td>\n      <td>0.008247</td>\n      <td>0.117255</td>\n      <td>[1, 2, 3]</td>\n      <td>done</td>\n      <td>0.229973</td>\n      <td>0.242012</td>\n      <td>0.722480</td>\n      <td>-0.008247</td>\n      <td>-0.382745</td>\n      <td>True</td>\n      <td>True</td>\n      <td>True</td>\n    </tr>\n  </tbody>\n</table>\n</div>"
     },
     "execution_count": 38,
     "metadata": {},
     "output_type": "execute_result"
    }
   ],
   "source": [
    "results\n"
   ],
   "metadata": {
    "collapsed": false,
    "pycharm": {
     "name": "#%%\n"
    }
   }
  },
  {
   "cell_type": "code",
   "execution_count": 38,
   "outputs": [],
   "source": [],
   "metadata": {
    "collapsed": false,
    "pycharm": {
     "name": "#%%\n"
    }
   }
  }
 ],
 "metadata": {
  "kernelspec": {
   "name": "xopt",
   "language": "python",
   "display_name": "xopt"
  },
  "language_info": {
   "codemirror_mode": {
    "name": "ipython",
    "version": 3
   },
   "file_extension": ".py",
   "mimetype": "text/x-python",
   "name": "python",
   "nbconvert_exporter": "python",
   "pygments_lexer": "ipython3",
   "version": "3.9.7"
  }
 },
 "nbformat": 4,
 "nbformat_minor": 4
}