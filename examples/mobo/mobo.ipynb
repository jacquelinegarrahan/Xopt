{
 "cells": [
  {
   "cell_type": "markdown",
   "metadata": {},
   "source": [
    "# Xopt class, TNK test function\n",
    "\n",
    "This is the class method for running Xopt.\n",
    "\n",
    "TNK function\n",
    "$n=2$ variables:\n",
    "$x_i \\in [0, \\pi], i=1,2$\n",
    "\n",
    "Objectives:\n",
    "- $f_i(x) = x_i$\n",
    "\n",
    "Constraints:\n",
    "- $g_1(x) = -x_1^2 -x_2^2 + 1 + 0.1 \\cos\\left(16 \\arctan \\frac{x_1}{x_2}\\right) \\le 0$\n",
    "- $g_2(x) = (x_1 - 1/2)^2 + (x_2-1/2)^2 \\le 0.5$"
   ]
  },
  {
   "cell_type": "code",
   "execution_count": 1,
   "metadata": {},
   "outputs": [],
   "source": [
    "from xopt import Xopt\n",
    "\n",
    "import matplotlib.pyplot as plt\n",
    "from botorch.utils.multi_objective.pareto import is_non_dominated\n",
    "%matplotlib inline\n",
    "\n",
    "import os\n",
    "SMOKE_TEST = os.environ.get('SMOKE_TEST')\n"
   ]
  },
  {
   "cell_type": "code",
   "execution_count": 2,
   "metadata": {},
   "outputs": [],
   "source": [
    "# To see log messages\n",
    "import logging\n",
    "from xopt import output_notebook\n",
    "output_notebook('DEBUG')"
   ]
  },
  {
   "cell_type": "markdown",
   "metadata": {},
   "source": [
    "The `Xopt` object can be instantiated from a JSON or YAML file, or a dict, with the proper structure.\n",
    "\n",
    "Here we will make one"
   ]
  },
  {
   "cell_type": "code",
   "execution_count": 3,
   "metadata": {},
   "outputs": [],
   "source": [
    "import yaml\n",
    "# Make a proper input file. \n",
    "YAML=\"\"\"\n",
    "xopt: {output_path: null}\n",
    "\n",
    "algorithm:\n",
    "  name:  expected_hypervolume_improvement\n",
    "  options: \n",
    "    ref: {'y1':1.4, 'y2':1.4}\n",
    "    n_initial_samples: 10\n",
    "    n_steps: 30\n",
    "    batch_size: 1\n",
    "  \n",
    "evaluate:\n",
    "  name: test_TNK\n",
    "  function: xopt.tests.test_functions.TNK.evaluate_TNK\n",
    "  \n",
    "vocs:\n",
    "  name: TNK_test\n",
    "  variables:\n",
    "    x1: [0, 3.14159]\n",
    "    x2: [0, 3.14159]\n",
    "  objectives: {y1: MINIMIZE, y2: MINIMIZE}\n",
    "  constraints:\n",
    "    c1: [GREATER_THAN, 0]\n",
    "    c2: [LESS_THAN, 0.5]\n",
    "  linked_variables: {}\n",
    "  constants: {a: dummy_constant}\n",
    "\n",
    "\"\"\"\n",
    "config = yaml.safe_load(YAML)"
   ]
  },
  {
   "cell_type": "code",
   "execution_count": 4,
   "metadata": {},
   "outputs": [
    {
     "name": "stdout",
     "output_type": "stream",
     "text": [
      "Loading config from dict.\n",
      "`name` keyword no longer allowed in vocs config, removing\n",
      "Loading config from dict.\n",
      "Loading config from dict.\n",
      "Loading config from dict.\n",
      "Loading config from dict.\n",
      "Warning: No path set for key xopt : output_path\n"
     ]
    },
    {
     "data": {
      "text/plain": "\n            Xopt \n________________________________           \nVersion: 0.5.0+11.g9f5d950.dirty\nConfigured: True\nConfig as YAML:\nxopt: {output_path: null}\nalgorithm:\n  name: expected_hypervolume_improvement\n  options:\n    ref: {y1: -1.4, y2: -1.4}\n    n_initial_samples: 10\n    n_steps: 30\n    batch_size: 1\n    output_path: .\n    sigma: null\n    mc_samples: 1024\n  type: batched\n  function: null\nevaluate:\n  name: test_TNK\n  function: xopt.tests.test_functions.TNK.evaluate_TNK\n  executor: null\n  options: {extra_option: abc}\nvocs:\n  variables:\n    x1: [0, 3.14159]\n    x2: [0, 3.14159]\n  objectives: {y1: MINIMIZE, y2: MINIMIZE}\n  constraints:\n    c1: [GREATER_THAN, 0]\n    c2: [LESS_THAN, 0.5]\n  linked_variables: {}\n  constants: {a: dummy_constant}"
     },
     "execution_count": 4,
     "metadata": {},
     "output_type": "execute_result"
    }
   ],
   "source": [
    "# Optional: Connect the function directly\n",
    "#from xopt.evaluators.test_TNK import evaluate_TNK \n",
    "#config['simulation']['evaluate'] = evaluate_TNK \n",
    "if SMOKE_TEST:\n",
    "    config['algorithm']['options']['n_steps'] = 3\n",
    "    config['algorithm']['options']['generator_options']['num_restarts'] = 2\n",
    "    config['algorithm']['options']['generator_options']['raw_samples'] = 2\n",
    "\n",
    "\n",
    "X = Xopt(config)\n",
    "X"
   ]
  },
  {
   "cell_type": "markdown",
   "metadata": {},
   "source": [
    "# Run MOBO\n",
    "\n",
    "MOBO is designed to run in serial or parallel"
   ]
  },
  {
   "cell_type": "code",
   "execution_count": 5,
   "metadata": {},
   "outputs": [],
   "source": [
    "# Pick one of these\n",
    "from concurrent.futures import ThreadPoolExecutor as PoolExecutor\n",
    "#from concurrent.futures import ProcessPoolExecutor as PoolExecutor\n",
    "\n",
    "executor = PoolExecutor()\n",
    "# This will also work. \n",
    "#executor=None"
   ]
  },
  {
   "cell_type": "code",
   "execution_count": 6,
   "metadata": {},
   "outputs": [
    {
     "name": "stdout",
     "output_type": "stream",
     "text": [
      "Starting at time 2021-10-18T10:45:17-05:00\n",
      "Generating and submitting initial samples\n",
      "generating samples\n",
      "generated 1 samples in 3.723 seconds\n",
      "samples\n",
      "         x1        x2\n",
      "0  0.441754  1.083049\n",
      "collecting results\n",
      "saving data to file\n",
      "generating samples\n",
      "generated 1 samples in 3.388 seconds\n",
      "samples\n",
      "    x1        x2\n",
      "0  0.0  0.395852\n",
      "collecting results\n",
      "saving data to file\n",
      "generating samples\n",
      "generated 1 samples in 4.854 seconds\n",
      "samples\n",
      "        x1        x2\n",
      "0  0.09163  1.153923\n",
      "collecting results\n",
      "saving data to file\n",
      "generating samples\n",
      "generated 1 samples in 4.008 seconds\n",
      "samples\n",
      "         x1        x2\n",
      "0  0.073776  0.880839\n",
      "collecting results\n",
      "saving data to file\n",
      "generating samples\n",
      "generated 1 samples in 4.628 seconds\n",
      "samples\n",
      "         x1        x2\n",
      "0  0.121386  1.060678\n",
      "collecting results\n",
      "saving data to file\n",
      "generating samples\n",
      "generated 1 samples in 4.25 seconds\n",
      "samples\n",
      "         x1   x2\n",
      "0  1.061549  0.0\n",
      "collecting results\n",
      "saving data to file\n",
      "generating samples\n",
      "generated 1 samples in 3.787 seconds\n",
      "samples\n",
      "         x1        x2\n",
      "0  1.036004  0.316474\n",
      "collecting results\n",
      "saving data to file\n",
      "generating samples\n",
      "generated 1 samples in 3.271 seconds\n",
      "samples\n",
      "         x1       x2\n",
      "0  1.052663  0.12229\n",
      "collecting results\n",
      "saving data to file\n",
      "generating samples\n",
      "generated 1 samples in 3.888 seconds\n",
      "samples\n",
      "         x1        x2\n",
      "0  0.036635  1.017202\n",
      "collecting results\n",
      "saving data to file\n",
      "generating samples\n",
      "generated 1 samples in 3.542 seconds\n",
      "samples\n",
      "         x1        x2\n",
      "0  0.054813  1.028857\n",
      "collecting results\n",
      "saving data to file\n",
      "generating samples\n",
      "generated 1 samples in 4.464 seconds\n",
      "samples\n",
      "         x1        x2\n",
      "0  1.010998  0.065672\n",
      "collecting results\n",
      "saving data to file\n",
      "generating samples\n",
      "generated 1 samples in 4.185 seconds\n",
      "samples\n",
      "         x1        x2\n",
      "0  1.026598  0.054924\n",
      "collecting results\n",
      "saving data to file\n",
      "generating samples\n",
      "generated 1 samples in 4.106 seconds\n",
      "samples\n",
      "         x1        x2\n",
      "0  0.283274  0.914777\n",
      "collecting results\n",
      "saving data to file\n",
      "generating samples\n",
      "generated 1 samples in 3.682 seconds\n",
      "samples\n",
      "         x1        x2\n",
      "0  1.034208  0.052943\n",
      "collecting results\n",
      "saving data to file\n",
      "generating samples\n",
      "generated 1 samples in 3.655 seconds\n",
      "samples\n",
      "         x1        x2\n",
      "0  0.329789  0.971887\n",
      "collecting results\n",
      "saving data to file\n",
      "generating samples\n",
      "generated 1 samples in 3.435 seconds\n",
      "samples\n",
      "         x1        x2\n",
      "0  0.938036  0.320868\n",
      "collecting results\n",
      "saving data to file\n",
      "generating samples\n",
      "generated 1 samples in 3.142 seconds\n",
      "samples\n",
      "         x1        x2\n",
      "0  0.050548  1.032171\n",
      "collecting results\n",
      "saving data to file\n",
      "generating samples\n",
      "generated 1 samples in 3.102 seconds\n",
      "samples\n",
      "         x1        x2\n",
      "0  0.961347  0.369484\n",
      "collecting results\n",
      "saving data to file\n",
      "generating samples\n",
      "generated 1 samples in 3.421 seconds\n",
      "samples\n",
      "        x1        x2\n",
      "0  0.05127  1.034641\n",
      "collecting results\n",
      "saving data to file\n",
      "generating samples\n",
      "generated 1 samples in 3.706 seconds\n",
      "samples\n",
      "    x1   x2\n",
      "0  0.0  0.0\n",
      "collecting results\n",
      "saving data to file\n",
      "generating samples\n",
      "generated 1 samples in 3.57 seconds\n",
      "samples\n",
      "         x1        x2\n",
      "0  0.969947  0.384331\n",
      "collecting results\n",
      "saving data to file\n",
      "generating samples\n",
      "generated 1 samples in 3.302 seconds\n",
      "samples\n",
      "         x1        x2\n",
      "0  0.921314  0.632785\n",
      "collecting results\n",
      "saving data to file\n",
      "generating samples\n",
      "generated 1 samples in 3.937 seconds\n",
      "samples\n",
      "         x1        x2\n",
      "0  0.719274  0.745588\n",
      "collecting results\n",
      "saving data to file\n",
      "generating samples\n",
      "generated 1 samples in 3.082 seconds\n",
      "samples\n",
      "         x1        x2\n",
      "0  0.734877  0.750455\n",
      "collecting results\n",
      "saving data to file\n",
      "generating samples\n",
      "generated 1 samples in 3.007 seconds\n",
      "samples\n",
      "         x1        x2\n",
      "0  0.943524  0.417594\n",
      "collecting results\n",
      "saving data to file\n",
      "generating samples\n",
      "generated 1 samples in 3.411 seconds\n",
      "samples\n",
      "         x1        x2\n",
      "0  0.946449  0.425324\n",
      "collecting results\n",
      "saving data to file\n",
      "generating samples\n",
      "generated 1 samples in 3.893 seconds\n",
      "samples\n",
      "         x1        x2\n",
      "0  0.948255  0.430026\n",
      "collecting results\n",
      "saving data to file\n",
      "generating samples\n",
      "generated 1 samples in 3.384 seconds\n",
      "samples\n",
      "         x1        x2\n",
      "0  0.949353  0.433123\n",
      "collecting results\n",
      "saving data to file\n",
      "generating samples\n",
      "generated 1 samples in 3.495 seconds\n",
      "samples\n",
      "         x1        x2\n",
      "0  0.582521  0.886142\n",
      "collecting results\n",
      "saving data to file\n",
      "generating samples\n",
      "generated 1 samples in 3.498 seconds\n",
      "samples\n",
      "         x1        x2\n",
      "0  0.842519  0.606612\n",
      "collecting results\n",
      "saving data to file\n",
      "Wall time: 1min 51s\n"
     ]
    }
   ],
   "source": [
    "%%time\n",
    "results = X.run()"
   ]
  },
  {
   "cell_type": "markdown",
   "metadata": {},
   "source": [
    "# Plot"
   ]
  },
  {
   "cell_type": "code",
   "execution_count": 7,
   "metadata": {},
   "outputs": [
    {
     "data": {
      "text/plain": "<Figure size 432x288 with 1 Axes>",
      "image/png": "[encoded data removed]"
     },
     "metadata": {
      "needs_background": "light"
     },
     "output_type": "display_data"
    }
   ],
   "source": [
    "import torch\n",
    "import numpy as np\n",
    "fig, ax = plt.subplots()\n",
    "\n",
    "# get results and get valid observations\n",
    "train_y = results[config['vocs']['objectives']].to_numpy()\n",
    "valid_y = torch.tensor(train_y[results['feas']])\n",
    "\n",
    "# plot results\n",
    "ax.plot(train_y[:, 0], train_y[:, 1], '.')\n",
    "ax.set_ylabel('$f_2$')\n",
    "ax.set_xlabel('$f_1$')\n",
    "\n",
    "# highlight Pareto front, ONLY using valid observations (note botorch assumes maximization when determing dominant points)\n",
    "non_dom = is_non_dominated(-valid_y)\n",
    "ax.plot(valid_y[:,0],valid_y[:,1],'C2+')\n",
    "ax.plot(valid_y[:,0][non_dom],valid_y[:,1][non_dom],'C1o')\n",
    "\n",
    "# plot valid region\n",
    "theta = np.linspace(0,np.pi/2)\n",
    "r = np.sqrt(1 + 0.1*np.cos(16*theta))\n",
    "x_1 = r*np.sin(theta)\n",
    "x_2_lower = r*np.cos(theta)\n",
    "x_2_upper = (0.5 - (x_1 - 0.5)**2)**0.5 + 0.5\n",
    "\n",
    "z = np.zeros_like(x_1)\n",
    "\n",
    "#ax2.plot(x_1, x_2_lower,'r')\n",
    "ax.fill_between(x_1, z, x_2_lower, fc='white')\n",
    "circle = plt.Circle((0.5, 0.5), 0.5**0.5,\n",
    "                    color='r', alpha=0.25, zorder=0,\n",
    "                    label='Valid Region')\n",
    "ax.add_patch(circle)\n",
    "ax.set_xlim(0,np.pi)\n",
    "ax.set_ylim(0,np.pi)\n",
    "ax.set_aspect('equal')\n",
    "\n",
    "plt.show()"
   ]
  },
  {
   "cell_type": "code",
   "execution_count": 8,
   "metadata": {},
   "outputs": [
    {
     "data": {
      "text/plain": "          x1        x2               a        y1        y2         c1  \\\n0   1.846132  1.190409  dummy_constant  1.846132  1.190409   3.921886   \n1   3.124707  1.579328  dummy_constant  3.124707  1.579328  11.222259   \n2   2.474662  1.457884  dummy_constant  2.474662  1.457884   7.311018   \n3   2.411224  0.820249  dummy_constant  2.411224  0.820249   5.435909   \n4   2.359114  0.722843  dummy_constant  2.359114  0.722843   5.083448   \n5   0.031999  1.349332  dummy_constant  0.031999  1.349332   0.728832   \n6   0.832690  0.794055  dummy_constant  0.832690  0.794055   0.231025   \n7   1.668365  1.386585  dummy_constant  1.668365  1.386585   3.696158   \n8   2.057784  1.009562  dummy_constant  2.057784  1.009562   4.200885   \n9   0.517024  1.211661  dummy_constant  0.517024  1.211661   0.636875   \n10  0.441754  1.083049  dummy_constant  0.441754  1.083049   0.268517   \n11  0.000000  0.395852  dummy_constant  0.000000  0.395852  -0.943301   \n12  0.091630  1.153923  dummy_constant  0.091630  1.153923   0.310101   \n13  0.073776  0.880839  dummy_constant  0.073776  0.880839  -0.241849   \n14  0.121386  1.060678  dummy_constant  0.121386  1.060678   0.164740   \n15  1.061549  0.000000  dummy_constant  1.061549  0.000000   0.026885   \n16  1.036004  0.316474  dummy_constant  1.036004  0.316474   0.170343   \n17  1.052663  0.122290  dummy_constant  1.052663  0.122290   0.150657   \n18  0.036635  1.017202  dummy_constant  0.036635  1.017202  -0.047823   \n19  0.054813  1.028857  dummy_constant  0.054813  1.028857  -0.004327   \n20  1.010998  0.065672  dummy_constant  1.010998  0.065672  -0.024376   \n21  1.026598  0.054924  dummy_constant  1.026598  0.054924  -0.008687   \n22  0.283274  0.914777  dummy_constant  0.283274  0.914777  -0.092167   \n23  1.034208  0.052943  dummy_constant  1.034208  0.052943   0.004047   \n24  0.329789  0.971887  dummy_constant  0.329789  0.971887   0.003481   \n25  0.938036  0.320868  dummy_constant  0.938036  0.320868  -0.070335   \n26  0.050548  1.032171  dummy_constant  0.050548  1.032171  -0.002952   \n27  0.961347  0.369484  dummy_constant  0.961347  0.369484  -0.030916   \n28  0.051270  1.034641  dummy_constant  0.051270  1.034641   0.002882   \n29  0.000000  0.000000  dummy_constant  0.000000  0.000000  -1.100000   \n30  0.969947  0.384331  dummy_constant  0.969947  0.384331  -0.008456   \n31  0.921314  0.632785  dummy_constant  0.921314  0.632785   0.347153   \n32  0.719274  0.745588  dummy_constant  0.719274  0.745588  -0.022643   \n33  0.734877  0.750455  dummy_constant  0.734877  0.750455   0.004631   \n34  0.943524  0.417594  dummy_constant  0.943524  0.417594  -0.028110   \n35  0.946449  0.425324  dummy_constant  0.946449  0.425324  -0.012294   \n36  0.948255  0.430026  dummy_constant  0.948255  0.430026  -0.002227   \n37  0.949353  0.433123  dummy_constant  0.949353  0.433123   0.004417   \n38  0.582521  0.886142  dummy_constant  0.582521  0.886142   0.223857   \n39  0.842519  0.606612  dummy_constant  0.842519  0.606612   0.162565   \n\n          c2 some_array status      x1_t      x2_t      y1_t      y2_t  \\\n0   2.288737  [1, 2, 3]   done  0.587643  0.378919  1.318666  0.850292   \n1   8.054035  [1, 2, 3]   done  0.994626  0.502716  2.231933  1.128091   \n2   4.816831  [1, 2, 3]   done  0.787710  0.464059  1.767616  1.041346   \n3   3.755335  [1, 2, 3]   done  0.767517  0.261093  1.722303  0.585892   \n4   3.505966  [1, 2, 3]   done  0.750930  0.230088  1.685082  0.516317   \n5   0.940390  [1, 2, 3]   done  0.010186  0.429506  0.022857  0.963809   \n6   0.197150  [1, 2, 3]   done  0.265054  0.252756  0.594778  0.567182   \n7   2.151109  [1, 2, 3]   done  0.531057  0.441364  1.191689  0.990418   \n8   2.686345  [1, 2, 3]   done  0.655014  0.321354  1.469846  0.721115   \n9   0.506751  [1, 2, 3]   done  0.164574  0.385684  0.369303  0.865472   \n10  0.343339  [1, 2, 3]   done  0.140615  0.344745  0.315539  0.773606   \n11  0.260847  [1, 2, 3]   done  0.000000  0.126004  0.000000  0.282752   \n12  0.594381  [1, 2, 3]   done  0.029167  0.367305  0.065450  0.824231   \n13  0.326705  [1, 2, 3]   done  0.023484  0.280380  0.052697  0.629170   \n14  0.457708  [1, 2, 3]   done  0.038638  0.337625  0.086704  0.757627   \n15  0.565337  [1, 2, 3]   done  0.337902  0.000000  0.758249  0.000000   \n16  0.320982  [1, 2, 3]   done  0.329771  0.100737  0.740003  0.226053   \n17  0.448101  [1, 2, 3]   done  0.335073  0.038926  0.751902  0.087350   \n18  0.482205  [1, 2, 3]   done  0.011661  0.323786  0.026168  0.726573   \n19  0.477881  [1, 2, 3]   done  0.017448  0.327496  0.039152  0.734898   \n20  0.449760  [1, 2, 3]   done  0.321811  0.020904  0.722142  0.046909   \n21  0.475397  [1, 2, 3]   done  0.326776  0.017483  0.733284  0.039232   \n22  0.219010  [1, 2, 3]   done  0.090169  0.291183  0.202339  0.653412   \n23  0.485239  [1, 2, 3]   done  0.329199  0.016852  0.738720  0.037816   \n24  0.251649  [1, 2, 3]   done  0.104975  0.309361  0.235563  0.694205   \n25  0.223964  [1, 2, 3]   done  0.298587  0.102136  0.670026  0.229192   \n26  0.485214  [1, 2, 3]   done  0.016090  0.328551  0.036105  0.737265   \n27  0.229876  [1, 2, 3]   done  0.306007  0.117610  0.686677  0.263917   \n28  0.487200  [1, 2, 3]   done  0.016320  0.329337  0.036621  0.739029   \n29  0.500000  [1, 2, 3]   done  0.000000  0.000000  0.000000  0.000000   \n30  0.234230  [1, 2, 3]   done  0.308744  0.122337  0.692820  0.274522   \n31  0.195138  [1, 2, 3]   done  0.293264  0.201422  0.658082  0.451989   \n32  0.108394  [1, 2, 3]   done  0.228952  0.237328  0.513767  0.532563   \n33  0.117895  [1, 2, 3]   done  0.233919  0.238877  0.524912  0.536039   \n34  0.203505  [1, 2, 3]   done  0.300333  0.132924  0.673946  0.298281   \n35  0.204893  [1, 2, 3]   done  0.301264  0.135385  0.676035  0.303803   \n36  0.205829  [1, 2, 3]   done  0.301839  0.136882  0.677325  0.307161   \n37  0.206391  [1, 2, 3]   done  0.302189  0.137867  0.678109  0.309373   \n38  0.155915  [1, 2, 3]   done  0.185422  0.282068  0.416086  0.632959   \n39  0.128686  [1, 2, 3]   done  0.268182  0.193091  0.601799  0.433294   \n\n        c1_t      c2_t   c1_f   c2_f   feas  \n0  -1.164372  0.765124   True  False  False  \n1  -3.331787  3.231205   True  False  False  \n2  -2.170575  1.846505   True  False  False  \n3  -1.613872  1.392455   True  False  False  \n4  -1.509230  1.285788   True  False  False  \n5  -0.216384  0.188375   True  False  False  \n6  -0.068589 -0.129543   True   True   True  \n7  -1.097356  0.706255   True  False  False  \n8  -1.247204  0.935199   True  False  False  \n9  -0.189082  0.002888   True  False  False  \n10 -0.268517 -0.156661   True   True   True  \n11  0.943301 -0.239153  False   True  False  \n12 -0.310101  0.094381   True  False  False  \n13  0.241849 -0.173295  False   True  False  \n14 -0.164740 -0.042292   True   True   True  \n15 -0.026885  0.065337   True  False  False  \n16 -0.170343 -0.179018   True   True   True  \n17 -0.150657 -0.051899   True   True   True  \n18  0.047823 -0.017795  False   True  False  \n19  0.004327 -0.022119  False   True  False  \n20  0.024376 -0.050240  False   True  False  \n21  0.008687 -0.024603  False   True  False  \n22  0.092167 -0.280990  False   True  False  \n23 -0.004047 -0.014761   True   True   True  \n24 -0.003481 -0.248351   True   True   True  \n25  0.070335 -0.276036  False   True  False  \n26  0.002952 -0.014786  False   True  False  \n27  0.030916 -0.270124  False   True  False  \n28 -0.002882 -0.012800   True   True   True  \n29  1.100000 -0.000000  False   True  False  \n30  0.008456 -0.265770  False   True  False  \n31 -0.347153 -0.304862   True   True   True  \n32  0.022643 -0.391606  False   True  False  \n33 -0.004631 -0.382105   True   True   True  \n34  0.028110 -0.296495  False   True  False  \n35  0.012294 -0.295107  False   True  False  \n36  0.002227 -0.294171  False   True  False  \n37 -0.004417 -0.293609   True   True   True  \n38 -0.223857 -0.344085   True   True   True  \n39 -0.162565 -0.371314   True   True   True  ",
      "text/html": "<div>\n<style scoped>\n    .dataframe tbody tr th:only-of-type {\n        vertical-align: middle;\n    }\n\n    .dataframe tbody tr th {\n        vertical-align: top;\n    }\n\n    .dataframe thead th {\n        text-align: right;\n    }\n</style>\n<table border=\"1\" class=\"dataframe\">\n  <thead>\n    <tr style=\"text-align: right;\">\n      <th></th>\n      <th>x1</th>\n      <th>x2</th>\n      <th>a</th>\n      <th>y1</th>\n      <th>y2</th>\n      <th>c1</th>\n      <th>c2</th>\n      <th>some_array</th>\n      <th>status</th>\n      <th>x1_t</th>\n      <th>x2_t</th>\n      <th>y1_t</th>\n      <th>y2_t</th>\n      <th>c1_t</th>\n      <th>c2_t</th>\n      <th>c1_f</th>\n      <th>c2_f</th>\n      <th>feas</th>\n    </tr>\n  </thead>\n  <tbody>\n    <tr>\n      <th>0</th>\n      <td>1.846132</td>\n      <td>1.190409</td>\n      <td>dummy_constant</td>\n      <td>1.846132</td>\n      <td>1.190409</td>\n      <td>3.921886</td>\n      <td>2.288737</td>\n      <td>[1, 2, 3]</td>\n      <td>done</td>\n      <td>0.587643</td>\n      <td>0.378919</td>\n      <td>1.318666</td>\n      <td>0.850292</td>\n      <td>-1.164372</td>\n      <td>0.765124</td>\n      <td>True</td>\n      <td>False</td>\n      <td>False</td>\n    </tr>\n    <tr>\n      <th>1</th>\n      <td>3.124707</td>\n      <td>1.579328</td>\n      <td>dummy_constant</td>\n      <td>3.124707</td>\n      <td>1.579328</td>\n      <td>11.222259</td>\n      <td>8.054035</td>\n      <td>[1, 2, 3]</td>\n      <td>done</td>\n      <td>0.994626</td>\n      <td>0.502716</td>\n      <td>2.231933</td>\n      <td>1.128091</td>\n      <td>-3.331787</td>\n      <td>3.231205</td>\n      <td>True</td>\n      <td>False</td>\n      <td>False</td>\n    </tr>\n    <tr>\n      <th>2</th>\n      <td>2.474662</td>\n      <td>1.457884</td>\n      <td>dummy_constant</td>\n      <td>2.474662</td>\n      <td>1.457884</td>\n      <td>7.311018</td>\n      <td>4.816831</td>\n      <td>[1, 2, 3]</td>\n      <td>done</td>\n      <td>0.787710</td>\n      <td>0.464059</td>\n      <td>1.767616</td>\n      <td>1.041346</td>\n      <td>-2.170575</td>\n      <td>1.846505</td>\n      <td>True</td>\n      <td>False</td>\n      <td>False</td>\n    </tr>\n    <tr>\n      <th>3</th>\n      <td>2.411224</td>\n      <td>0.820249</td>\n      <td>dummy_constant</td>\n      <td>2.411224</td>\n      <td>0.820249</td>\n      <td>5.435909</td>\n      <td>3.755335</td>\n      <td>[1, 2, 3]</td>\n      <td>done</td>\n      <td>0.767517</td>\n      <td>0.261093</td>\n      <td>1.722303</td>\n      <td>0.585892</td>\n      <td>-1.613872</td>\n      <td>1.392455</td>\n      <td>True</td>\n      <td>False</td>\n      <td>False</td>\n    </tr>\n    <tr>\n      <th>4</th>\n      <td>2.359114</td>\n      <td>0.722843</td>\n      <td>dummy_constant</td>\n      <td>2.359114</td>\n      <td>0.722843</td>\n      <td>5.083448</td>\n      <td>3.505966</td>\n      <td>[1, 2, 3]</td>\n      <td>done</td>\n      <td>0.750930</td>\n      <td>0.230088</td>\n      <td>1.685082</td>\n      <td>0.516317</td>\n      <td>-1.509230</td>\n      <td>1.285788</td>\n      <td>True</td>\n      <td>False</td>\n      <td>False</td>\n    </tr>\n    <tr>\n      <th>5</th>\n      <td>0.031999</td>\n      <td>1.349332</td>\n      <td>dummy_constant</td>\n      <td>0.031999</td>\n      <td>1.349332</td>\n      <td>0.728832</td>\n      <td>0.940390</td>\n      <td>[1, 2, 3]</td>\n      <td>done</td>\n      <td>0.010186</td>\n      <td>0.429506</td>\n      <td>0.022857</td>\n      <td>0.963809</td>\n      <td>-0.216384</td>\n      <td>0.188375</td>\n      <td>True</td>\n      <td>False</td>\n      <td>False</td>\n    </tr>\n    <tr>\n      <th>6</th>\n      <td>0.832690</td>\n      <td>0.794055</td>\n      <td>dummy_constant</td>\n      <td>0.832690</td>\n      <td>0.794055</td>\n      <td>0.231025</td>\n      <td>0.197150</td>\n      <td>[1, 2, 3]</td>\n      <td>done</td>\n      <td>0.265054</td>\n      <td>0.252756</td>\n      <td>0.594778</td>\n      <td>0.567182</td>\n      <td>-0.068589</td>\n      <td>-0.129543</td>\n      <td>True</td>\n      <td>True</td>\n      <td>True</td>\n    </tr>\n    <tr>\n      <th>7</th>\n      <td>1.668365</td>\n      <td>1.386585</td>\n      <td>dummy_constant</td>\n      <td>1.668365</td>\n      <td>1.386585</td>\n      <td>3.696158</td>\n      <td>2.151109</td>\n      <td>[1, 2, 3]</td>\n      <td>done</td>\n      <td>0.531057</td>\n      <td>0.441364</td>\n      <td>1.191689</td>\n      <td>0.990418</td>\n      <td>-1.097356</td>\n      <td>0.706255</td>\n      <td>True</td>\n      <td>False</td>\n      <td>False</td>\n    </tr>\n    <tr>\n      <th>8</th>\n      <td>2.057784</td>\n      <td>1.009562</td>\n      <td>dummy_constant</td>\n      <td>2.057784</td>\n      <td>1.009562</td>\n      <td>4.200885</td>\n      <td>2.686345</td>\n      <td>[1, 2, 3]</td>\n      <td>done</td>\n      <td>0.655014</td>\n      <td>0.321354</td>\n      <td>1.469846</td>\n      <td>0.721115</td>\n      <td>-1.247204</td>\n      <td>0.935199</td>\n      <td>True</td>\n      <td>False</td>\n      <td>False</td>\n    </tr>\n    <tr>\n      <th>9</th>\n      <td>0.517024</td>\n      <td>1.211661</td>\n      <td>dummy_constant</td>\n      <td>0.517024</td>\n      <td>1.211661</td>\n      <td>0.636875</td>\n      <td>0.506751</td>\n      <td>[1, 2, 3]</td>\n      <td>done</td>\n      <td>0.164574</td>\n      <td>0.385684</td>\n      <td>0.369303</td>\n      <td>0.865472</td>\n      <td>-0.189082</td>\n      <td>0.002888</td>\n      <td>True</td>\n      <td>False</td>\n      <td>False</td>\n    </tr>\n    <tr>\n      <th>10</th>\n      <td>0.441754</td>\n      <td>1.083049</td>\n      <td>dummy_constant</td>\n      <td>0.441754</td>\n      <td>1.083049</td>\n      <td>0.268517</td>\n      <td>0.343339</td>\n      <td>[1, 2, 3]</td>\n      <td>done</td>\n      <td>0.140615</td>\n      <td>0.344745</td>\n      <td>0.315539</td>\n      <td>0.773606</td>\n      <td>-0.268517</td>\n      <td>-0.156661</td>\n      <td>True</td>\n      <td>True</td>\n      <td>True</td>\n    </tr>\n    <tr>\n      <th>11</th>\n      <td>0.000000</td>\n      <td>0.395852</td>\n      <td>dummy_constant</td>\n      <td>0.000000</td>\n      <td>0.395852</td>\n      <td>-0.943301</td>\n      <td>0.260847</td>\n      <td>[1, 2, 3]</td>\n      <td>done</td>\n      <td>0.000000</td>\n      <td>0.126004</td>\n      <td>0.000000</td>\n      <td>0.282752</td>\n      <td>0.943301</td>\n      <td>-0.239153</td>\n      <td>False</td>\n      <td>True</td>\n      <td>False</td>\n    </tr>\n    <tr>\n      <th>12</th>\n      <td>0.091630</td>\n      <td>1.153923</td>\n      <td>dummy_constant</td>\n      <td>0.091630</td>\n      <td>1.153923</td>\n      <td>0.310101</td>\n      <td>0.594381</td>\n      <td>[1, 2, 3]</td>\n      <td>done</td>\n      <td>0.029167</td>\n      <td>0.367305</td>\n      <td>0.065450</td>\n      <td>0.824231</td>\n      <td>-0.310101</td>\n      <td>0.094381</td>\n      <td>True</td>\n      <td>False</td>\n      <td>False</td>\n    </tr>\n    <tr>\n      <th>13</th>\n      <td>0.073776</td>\n      <td>0.880839</td>\n      <td>dummy_constant</td>\n      <td>0.073776</td>\n      <td>0.880839</td>\n      <td>-0.241849</td>\n      <td>0.326705</td>\n      <td>[1, 2, 3]</td>\n      <td>done</td>\n      <td>0.023484</td>\n      <td>0.280380</td>\n      <td>0.052697</td>\n      <td>0.629170</td>\n      <td>0.241849</td>\n      <td>-0.173295</td>\n      <td>False</td>\n      <td>True</td>\n      <td>False</td>\n    </tr>\n    <tr>\n      <th>14</th>\n      <td>0.121386</td>\n      <td>1.060678</td>\n      <td>dummy_constant</td>\n      <td>0.121386</td>\n      <td>1.060678</td>\n      <td>0.164740</td>\n      <td>0.457708</td>\n      <td>[1, 2, 3]</td>\n      <td>done</td>\n      <td>0.038638</td>\n      <td>0.337625</td>\n      <td>0.086704</td>\n      <td>0.757627</td>\n      <td>-0.164740</td>\n      <td>-0.042292</td>\n      <td>True</td>\n      <td>True</td>\n      <td>True</td>\n    </tr>\n    <tr>\n      <th>15</th>\n      <td>1.061549</td>\n      <td>0.000000</td>\n      <td>dummy_constant</td>\n      <td>1.061549</td>\n      <td>0.000000</td>\n      <td>0.026885</td>\n      <td>0.565337</td>\n      <td>[1, 2, 3]</td>\n      <td>done</td>\n      <td>0.337902</td>\n      <td>0.000000</td>\n      <td>0.758249</td>\n      <td>0.000000</td>\n      <td>-0.026885</td>\n      <td>0.065337</td>\n      <td>True</td>\n      <td>False</td>\n      <td>False</td>\n    </tr>\n    <tr>\n      <th>16</th>\n      <td>1.036004</td>\n      <td>0.316474</td>\n      <td>dummy_constant</td>\n      <td>1.036004</td>\n      <td>0.316474</td>\n      <td>0.170343</td>\n      <td>0.320982</td>\n      <td>[1, 2, 3]</td>\n      <td>done</td>\n      <td>0.329771</td>\n      <td>0.100737</td>\n      <td>0.740003</td>\n      <td>0.226053</td>\n      <td>-0.170343</td>\n      <td>-0.179018</td>\n      <td>True</td>\n      <td>True</td>\n      <td>True</td>\n    </tr>\n    <tr>\n      <th>17</th>\n      <td>1.052663</td>\n      <td>0.122290</td>\n      <td>dummy_constant</td>\n      <td>1.052663</td>\n      <td>0.122290</td>\n      <td>0.150657</td>\n      <td>0.448101</td>\n      <td>[1, 2, 3]</td>\n      <td>done</td>\n      <td>0.335073</td>\n      <td>0.038926</td>\n      <td>0.751902</td>\n      <td>0.087350</td>\n      <td>-0.150657</td>\n      <td>-0.051899</td>\n      <td>True</td>\n      <td>True</td>\n      <td>True</td>\n    </tr>\n    <tr>\n      <th>18</th>\n      <td>0.036635</td>\n      <td>1.017202</td>\n      <td>dummy_constant</td>\n      <td>0.036635</td>\n      <td>1.017202</td>\n      <td>-0.047823</td>\n      <td>0.482205</td>\n      <td>[1, 2, 3]</td>\n      <td>done</td>\n      <td>0.011661</td>\n      <td>0.323786</td>\n      <td>0.026168</td>\n      <td>0.726573</td>\n      <td>0.047823</td>\n      <td>-0.017795</td>\n      <td>False</td>\n      <td>True</td>\n      <td>False</td>\n    </tr>\n    <tr>\n      <th>19</th>\n      <td>0.054813</td>\n      <td>1.028857</td>\n      <td>dummy_constant</td>\n      <td>0.054813</td>\n      <td>1.028857</td>\n      <td>-0.004327</td>\n      <td>0.477881</td>\n      <td>[1, 2, 3]</td>\n      <td>done</td>\n      <td>0.017448</td>\n      <td>0.327496</td>\n      <td>0.039152</td>\n      <td>0.734898</td>\n      <td>0.004327</td>\n      <td>-0.022119</td>\n      <td>False</td>\n      <td>True</td>\n      <td>False</td>\n    </tr>\n    <tr>\n      <th>20</th>\n      <td>1.010998</td>\n      <td>0.065672</td>\n      <td>dummy_constant</td>\n      <td>1.010998</td>\n      <td>0.065672</td>\n      <td>-0.024376</td>\n      <td>0.449760</td>\n      <td>[1, 2, 3]</td>\n      <td>done</td>\n      <td>0.321811</td>\n      <td>0.020904</td>\n      <td>0.722142</td>\n      <td>0.046909</td>\n      <td>0.024376</td>\n      <td>-0.050240</td>\n      <td>False</td>\n      <td>True</td>\n      <td>False</td>\n    </tr>\n    <tr>\n      <th>21</th>\n      <td>1.026598</td>\n      <td>0.054924</td>\n      <td>dummy_constant</td>\n      <td>1.026598</td>\n      <td>0.054924</td>\n      <td>-0.008687</td>\n      <td>0.475397</td>\n      <td>[1, 2, 3]</td>\n      <td>done</td>\n      <td>0.326776</td>\n      <td>0.017483</td>\n      <td>0.733284</td>\n      <td>0.039232</td>\n      <td>0.008687</td>\n      <td>-0.024603</td>\n      <td>False</td>\n      <td>True</td>\n      <td>False</td>\n    </tr>\n    <tr>\n      <th>22</th>\n      <td>0.283274</td>\n      <td>0.914777</td>\n      <td>dummy_constant</td>\n      <td>0.283274</td>\n      <td>0.914777</td>\n      <td>-0.092167</td>\n      <td>0.219010</td>\n      <td>[1, 2, 3]</td>\n      <td>done</td>\n      <td>0.090169</td>\n      <td>0.291183</td>\n      <td>0.202339</td>\n      <td>0.653412</td>\n      <td>0.092167</td>\n      <td>-0.280990</td>\n      <td>False</td>\n      <td>True</td>\n      <td>False</td>\n    </tr>\n    <tr>\n      <th>23</th>\n      <td>1.034208</td>\n      <td>0.052943</td>\n      <td>dummy_constant</td>\n      <td>1.034208</td>\n      <td>0.052943</td>\n      <td>0.004047</td>\n      <td>0.485239</td>\n      <td>[1, 2, 3]</td>\n      <td>done</td>\n      <td>0.329199</td>\n      <td>0.016852</td>\n      <td>0.738720</td>\n      <td>0.037816</td>\n      <td>-0.004047</td>\n      <td>-0.014761</td>\n      <td>True</td>\n      <td>True</td>\n      <td>True</td>\n    </tr>\n    <tr>\n      <th>24</th>\n      <td>0.329789</td>\n      <td>0.971887</td>\n      <td>dummy_constant</td>\n      <td>0.329789</td>\n      <td>0.971887</td>\n      <td>0.003481</td>\n      <td>0.251649</td>\n      <td>[1, 2, 3]</td>\n      <td>done</td>\n      <td>0.104975</td>\n      <td>0.309361</td>\n      <td>0.235563</td>\n      <td>0.694205</td>\n      <td>-0.003481</td>\n      <td>-0.248351</td>\n      <td>True</td>\n      <td>True</td>\n      <td>True</td>\n    </tr>\n    <tr>\n      <th>25</th>\n      <td>0.938036</td>\n      <td>0.320868</td>\n      <td>dummy_constant</td>\n      <td>0.938036</td>\n      <td>0.320868</td>\n      <td>-0.070335</td>\n      <td>0.223964</td>\n      <td>[1, 2, 3]</td>\n      <td>done</td>\n      <td>0.298587</td>\n      <td>0.102136</td>\n      <td>0.670026</td>\n      <td>0.229192</td>\n      <td>0.070335</td>\n      <td>-0.276036</td>\n      <td>False</td>\n      <td>True</td>\n      <td>False</td>\n    </tr>\n    <tr>\n      <th>26</th>\n      <td>0.050548</td>\n      <td>1.032171</td>\n      <td>dummy_constant</td>\n      <td>0.050548</td>\n      <td>1.032171</td>\n      <td>-0.002952</td>\n      <td>0.485214</td>\n      <td>[1, 2, 3]</td>\n      <td>done</td>\n      <td>0.016090</td>\n      <td>0.328551</td>\n      <td>0.036105</td>\n      <td>0.737265</td>\n      <td>0.002952</td>\n      <td>-0.014786</td>\n      <td>False</td>\n      <td>True</td>\n      <td>False</td>\n    </tr>\n    <tr>\n      <th>27</th>\n      <td>0.961347</td>\n      <td>0.369484</td>\n      <td>dummy_constant</td>\n      <td>0.961347</td>\n      <td>0.369484</td>\n      <td>-0.030916</td>\n      <td>0.229876</td>\n      <td>[1, 2, 3]</td>\n      <td>done</td>\n      <td>0.306007</td>\n      <td>0.117610</td>\n      <td>0.686677</td>\n      <td>0.263917</td>\n      <td>0.030916</td>\n      <td>-0.270124</td>\n      <td>False</td>\n      <td>True</td>\n      <td>False</td>\n    </tr>\n    <tr>\n      <th>28</th>\n      <td>0.051270</td>\n      <td>1.034641</td>\n      <td>dummy_constant</td>\n      <td>0.051270</td>\n      <td>1.034641</td>\n      <td>0.002882</td>\n      <td>0.487200</td>\n      <td>[1, 2, 3]</td>\n      <td>done</td>\n      <td>0.016320</td>\n      <td>0.329337</td>\n      <td>0.036621</td>\n      <td>0.739029</td>\n      <td>-0.002882</td>\n      <td>-0.012800</td>\n      <td>True</td>\n      <td>True</td>\n      <td>True</td>\n    </tr>\n    <tr>\n      <th>29</th>\n      <td>0.000000</td>\n      <td>0.000000</td>\n      <td>dummy_constant</td>\n      <td>0.000000</td>\n      <td>0.000000</td>\n      <td>-1.100000</td>\n      <td>0.500000</td>\n      <td>[1, 2, 3]</td>\n      <td>done</td>\n      <td>0.000000</td>\n      <td>0.000000</td>\n      <td>0.000000</td>\n      <td>0.000000</td>\n      <td>1.100000</td>\n      <td>-0.000000</td>\n      <td>False</td>\n      <td>True</td>\n      <td>False</td>\n    </tr>\n    <tr>\n      <th>30</th>\n      <td>0.969947</td>\n      <td>0.384331</td>\n      <td>dummy_constant</td>\n      <td>0.969947</td>\n      <td>0.384331</td>\n      <td>-0.008456</td>\n      <td>0.234230</td>\n      <td>[1, 2, 3]</td>\n      <td>done</td>\n      <td>0.308744</td>\n      <td>0.122337</td>\n      <td>0.692820</td>\n      <td>0.274522</td>\n      <td>0.008456</td>\n      <td>-0.265770</td>\n      <td>False</td>\n      <td>True</td>\n      <td>False</td>\n    </tr>\n    <tr>\n      <th>31</th>\n      <td>0.921314</td>\n      <td>0.632785</td>\n      <td>dummy_constant</td>\n      <td>0.921314</td>\n      <td>0.632785</td>\n      <td>0.347153</td>\n      <td>0.195138</td>\n      <td>[1, 2, 3]</td>\n      <td>done</td>\n      <td>0.293264</td>\n      <td>0.201422</td>\n      <td>0.658082</td>\n      <td>0.451989</td>\n      <td>-0.347153</td>\n      <td>-0.304862</td>\n      <td>True</td>\n      <td>True</td>\n      <td>True</td>\n    </tr>\n    <tr>\n      <th>32</th>\n      <td>0.719274</td>\n      <td>0.745588</td>\n      <td>dummy_constant</td>\n      <td>0.719274</td>\n      <td>0.745588</td>\n      <td>-0.022643</td>\n      <td>0.108394</td>\n      <td>[1, 2, 3]</td>\n      <td>done</td>\n      <td>0.228952</td>\n      <td>0.237328</td>\n      <td>0.513767</td>\n      <td>0.532563</td>\n      <td>0.022643</td>\n      <td>-0.391606</td>\n      <td>False</td>\n      <td>True</td>\n      <td>False</td>\n    </tr>\n    <tr>\n      <th>33</th>\n      <td>0.734877</td>\n      <td>0.750455</td>\n      <td>dummy_constant</td>\n      <td>0.734877</td>\n      <td>0.750455</td>\n      <td>0.004631</td>\n      <td>0.117895</td>\n      <td>[1, 2, 3]</td>\n      <td>done</td>\n      <td>0.233919</td>\n      <td>0.238877</td>\n      <td>0.524912</td>\n      <td>0.536039</td>\n      <td>-0.004631</td>\n      <td>-0.382105</td>\n      <td>True</td>\n      <td>True</td>\n      <td>True</td>\n    </tr>\n    <tr>\n      <th>34</th>\n      <td>0.943524</td>\n      <td>0.417594</td>\n      <td>dummy_constant</td>\n      <td>0.943524</td>\n      <td>0.417594</td>\n      <td>-0.028110</td>\n      <td>0.203505</td>\n      <td>[1, 2, 3]</td>\n      <td>done</td>\n      <td>0.300333</td>\n      <td>0.132924</td>\n      <td>0.673946</td>\n      <td>0.298281</td>\n      <td>0.028110</td>\n      <td>-0.296495</td>\n      <td>False</td>\n      <td>True</td>\n      <td>False</td>\n    </tr>\n    <tr>\n      <th>35</th>\n      <td>0.946449</td>\n      <td>0.425324</td>\n      <td>dummy_constant</td>\n      <td>0.946449</td>\n      <td>0.425324</td>\n      <td>-0.012294</td>\n      <td>0.204893</td>\n      <td>[1, 2, 3]</td>\n      <td>done</td>\n      <td>0.301264</td>\n      <td>0.135385</td>\n      <td>0.676035</td>\n      <td>0.303803</td>\n      <td>0.012294</td>\n      <td>-0.295107</td>\n      <td>False</td>\n      <td>True</td>\n      <td>False</td>\n    </tr>\n    <tr>\n      <th>36</th>\n      <td>0.948255</td>\n      <td>0.430026</td>\n      <td>dummy_constant</td>\n      <td>0.948255</td>\n      <td>0.430026</td>\n      <td>-0.002227</td>\n      <td>0.205829</td>\n      <td>[1, 2, 3]</td>\n      <td>done</td>\n      <td>0.301839</td>\n      <td>0.136882</td>\n      <td>0.677325</td>\n      <td>0.307161</td>\n      <td>0.002227</td>\n      <td>-0.294171</td>\n      <td>False</td>\n      <td>True</td>\n      <td>False</td>\n    </tr>\n    <tr>\n      <th>37</th>\n      <td>0.949353</td>\n      <td>0.433123</td>\n      <td>dummy_constant</td>\n      <td>0.949353</td>\n      <td>0.433123</td>\n      <td>0.004417</td>\n      <td>0.206391</td>\n      <td>[1, 2, 3]</td>\n      <td>done</td>\n      <td>0.302189</td>\n      <td>0.137867</td>\n      <td>0.678109</td>\n      <td>0.309373</td>\n      <td>-0.004417</td>\n      <td>-0.293609</td>\n      <td>True</td>\n      <td>True</td>\n      <td>True</td>\n    </tr>\n    <tr>\n      <th>38</th>\n      <td>0.582521</td>\n      <td>0.886142</td>\n      <td>dummy_constant</td>\n      <td>0.582521</td>\n      <td>0.886142</td>\n      <td>0.223857</td>\n      <td>0.155915</td>\n      <td>[1, 2, 3]</td>\n      <td>done</td>\n      <td>0.185422</td>\n      <td>0.282068</td>\n      <td>0.416086</td>\n      <td>0.632959</td>\n      <td>-0.223857</td>\n      <td>-0.344085</td>\n      <td>True</td>\n      <td>True</td>\n      <td>True</td>\n    </tr>\n    <tr>\n      <th>39</th>\n      <td>0.842519</td>\n      <td>0.606612</td>\n      <td>dummy_constant</td>\n      <td>0.842519</td>\n      <td>0.606612</td>\n      <td>0.162565</td>\n      <td>0.128686</td>\n      <td>[1, 2, 3]</td>\n      <td>done</td>\n      <td>0.268182</td>\n      <td>0.193091</td>\n      <td>0.601799</td>\n      <td>0.433294</td>\n      <td>-0.162565</td>\n      <td>-0.371314</td>\n      <td>True</td>\n      <td>True</td>\n      <td>True</td>\n    </tr>\n  </tbody>\n</table>\n</div>"
     },
     "execution_count": 8,
     "metadata": {},
     "output_type": "execute_result"
    }
   ],
   "source": [
    "results"
   ]
  },
  {
   "cell_type": "code",
   "execution_count": 9,
   "outputs": [
    {
     "name": "stderr",
     "output_type": "stream",
     "text": [
      "C:\\Users\\RYANRO~1\\AppData\\Local\\Temp/ipykernel_6232/3387559987.py:19: MatplotlibDeprecationWarning: shading='flat' when X and Y have the same dimensions as C is deprecated since 3.3.  Either specify the corners of the quadrilaterals with X and Y, or pass shading='auto', 'nearest' or 'gouraud', or set rcParams['pcolor.shading'].  This will become an error two minor releases later.\n",
      "  c = ax.pcolor(*xx, m[idx].reshape(n,n))\n",
      "C:\\Users\\RYANRO~1\\AppData\\Local\\Temp/ipykernel_6232/3387559987.py:24: MatplotlibDeprecationWarning: shading='flat' when X and Y have the same dimensions as C is deprecated since 3.3.  Either specify the corners of the quadrilaterals with X and Y, or pass shading='auto', 'nearest' or 'gouraud', or set rcParams['pcolor.shading'].  This will become an error two minor releases later.\n",
      "  c = ax.pcolor(*xx, cdf.reshape(n,n))\n"
     ]
    },
    {
     "data": {
      "text/plain": "<matplotlib.colorbar.Colorbar at 0x28a326c9460>"
     },
     "execution_count": 9,
     "metadata": {},
     "output_type": "execute_result"
    },
    {
     "data": {
      "text/plain": "<Figure size 432x288 with 2 Axes>",
      "image/png": "[encoded data removed]"
     },
     "metadata": {
      "needs_background": "light"
     },
     "output_type": "display_data"
    },
    {
     "data": {
      "text/plain": "<Figure size 432x288 with 2 Axes>",
      "image/png": "[encoded data removed]"
     },
     "metadata": {
      "needs_background": "light"
     },
     "output_type": "display_data"
    }
   ],
   "source": [
    "model = X.generator.model\n",
    "\n",
    "n = 50\n",
    "x = np.linspace(0,1,n)\n",
    "xx = np.meshgrid(x, x)\n",
    "pts = np.vstack([ele.ravel() for ele in xx]).T\n",
    "pts = torch.tensor(pts)\n",
    "\n",
    "with torch.no_grad():\n",
    "    post = model(pts)\n",
    "    m = post.mean\n",
    "    var = post.variance\n",
    "\n",
    "# plot model mean and valid probability for first constraint c1\n",
    "idx = 2\n",
    "cdf = 0.5*(1 + torch.erf((0 - m[idx])/(2*torch.sqrt(var[idx]))))\n",
    "fig, ax = plt.subplots()\n",
    "ax.set_title('GP Mean for `c1`')\n",
    "c = ax.pcolor(*xx, m[idx].reshape(n,n))\n",
    "fig.colorbar(c)\n",
    "\n",
    "fig, ax = plt.subplots()\n",
    "ax.set_title('Validity probability for `c1`')\n",
    "c = ax.pcolor(*xx, cdf.reshape(n,n))\n",
    "fig.colorbar(c)"
   ],
   "metadata": {
    "collapsed": false,
    "pycharm": {
     "name": "#%%\n"
    }
   }
  },
  {
   "cell_type": "code",
   "execution_count": 10,
   "outputs": [
    {
     "name": "stderr",
     "output_type": "stream",
     "text": [
      "C:\\Users\\RYANRO~1\\AppData\\Local\\Temp/ipykernel_6232/3421164944.py:15: MatplotlibDeprecationWarning: shading='flat' when X and Y have the same dimensions as C is deprecated since 3.3.  Either specify the corners of the quadrilaterals with X and Y, or pass shading='auto', 'nearest' or 'gouraud', or set rcParams['pcolor.shading'].  This will become an error two minor releases later.\n",
      "  c = ax.pcolor(*xx, val.reshape(n,n))\n"
     ]
    },
    {
     "data": {
      "text/plain": "<matplotlib.colorbar.Colorbar at 0x28a34994f40>"
     },
     "execution_count": 10,
     "metadata": {},
     "output_type": "execute_result"
    },
    {
     "data": {
      "text/plain": "<Figure size 432x288 with 2 Axes>",
      "image/png": "[encoded data removed]"
     },
     "metadata": {
      "needs_background": "light"
     },
     "output_type": "display_data"
    }
   ],
   "source": [
    "# plot acquisition function\n",
    "acq = X.generator.acqisition_function(model, **X.generator.acqisition_function_options)\n",
    "\n",
    "n = 50\n",
    "x = np.linspace(0,1,n)\n",
    "xx = np.meshgrid(x, x)\n",
    "pts = np.vstack([ele.ravel() for ele in xx]).T\n",
    "pts = torch.tensor(pts)\n",
    "\n",
    "with torch.no_grad():\n",
    "    val = acq(pts.unsqueeze(1))\n",
    "\n",
    "fig, ax = plt.subplots()\n",
    "ax.set_title('Acquisition function')\n",
    "c = ax.pcolor(*xx, val.reshape(n,n))\n",
    "fig.colorbar(c)"
   ],
   "metadata": {
    "collapsed": false,
    "pycharm": {
     "name": "#%%\n"
    }
   }
  },
  {
   "cell_type": "code",
   "execution_count": 11,
   "outputs": [
    {
     "data": {
      "text/plain": "         x1        x2\n0  0.620444  0.801111",
      "text/html": "<div>\n<style scoped>\n    .dataframe tbody tr th:only-of-type {\n        vertical-align: middle;\n    }\n\n    .dataframe tbody tr th {\n        vertical-align: top;\n    }\n\n    .dataframe thead th {\n        text-align: right;\n    }\n</style>\n<table border=\"1\" class=\"dataframe\">\n  <thead>\n    <tr style=\"text-align: right;\">\n      <th></th>\n      <th>x1</th>\n      <th>x2</th>\n    </tr>\n  </thead>\n  <tbody>\n    <tr>\n      <th>0</th>\n      <td>0.620444</td>\n      <td>0.801111</td>\n    </tr>\n  </tbody>\n</table>\n</div>"
     },
     "execution_count": 11,
     "metadata": {},
     "output_type": "execute_result"
    }
   ],
   "source": [
    "#generate a point\n",
    "X.generator.generate(results)"
   ],
   "metadata": {
    "collapsed": false,
    "pycharm": {
     "name": "#%%\n"
    }
   }
  },
  {
   "cell_type": "code",
   "execution_count": 12,
   "outputs": [
    {
     "name": "stderr",
     "output_type": "stream",
     "text": [
      "'rm' is not recognized as an internal or external command,\n",
      "operable program or batch file.\n"
     ]
    }
   ],
   "source": [
    "# Cleanup\n",
    "!rm results.json"
   ],
   "metadata": {
    "collapsed": false,
    "pycharm": {
     "name": "#%%\n"
    }
   }
  }
 ],
 "metadata": {
  "kernelspec": {
   "name": "xopt",
   "language": "python",
   "display_name": "xopt"
  },
  "language_info": {
   "codemirror_mode": {
    "name": "ipython",
    "version": 3
   },
   "file_extension": ".py",
   "mimetype": "text/x-python",
   "name": "python",
   "nbconvert_exporter": "python",
   "pygments_lexer": "ipython3",
   "version": "3.9.7"
  }
 },
 "nbformat": 4,
 "nbformat_minor": 4
}