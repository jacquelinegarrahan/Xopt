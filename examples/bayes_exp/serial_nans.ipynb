{
 "cells": [
  {
   "cell_type": "code",
   "execution_count": 1,
   "id": "4a9be9bf-b3c5-468d-84f6-c7b8cf25806e",
   "metadata": {},
   "outputs": [
    {
     "ename": "ModuleNotFoundError",
     "evalue": "No module named 'xopt.bayesian'",
     "output_type": "error",
     "traceback": [
      "\u001B[1;31m---------------------------------------------------------------------------\u001B[0m",
      "\u001B[1;31mModuleNotFoundError\u001B[0m                       Traceback (most recent call last)",
      "\u001B[1;32mC:\\Users\\RYANRO~1\\AppData\\Local\\Temp/ipykernel_35396/710737775.py\u001B[0m in \u001B[0;36m<module>\u001B[1;34m\u001B[0m\n\u001B[0;32m      5\u001B[0m \u001B[1;32mimport\u001B[0m \u001B[0mbotorch\u001B[0m\u001B[1;33m\u001B[0m\u001B[1;33m\u001B[0m\u001B[0m\n\u001B[0;32m      6\u001B[0m \u001B[1;33m\u001B[0m\u001B[0m\n\u001B[1;32m----> 7\u001B[1;33m \u001B[1;32mfrom\u001B[0m \u001B[0mxopt\u001B[0m\u001B[1;33m.\u001B[0m\u001B[0mbayesian\u001B[0m\u001B[1;33m.\u001B[0m\u001B[0malgorithms\u001B[0m \u001B[1;32mimport\u001B[0m \u001B[0mbayesian_exploration\u001B[0m\u001B[1;33m\u001B[0m\u001B[1;33m\u001B[0m\u001B[0m\n\u001B[0m\u001B[0;32m      8\u001B[0m \u001B[1;33m\u001B[0m\u001B[0m\n\u001B[0;32m      9\u001B[0m \u001B[1;32mfrom\u001B[0m \u001B[0mbotorch\u001B[0m\u001B[1;33m.\u001B[0m\u001B[0mmodels\u001B[0m \u001B[1;32mimport\u001B[0m \u001B[0mSingleTaskGP\u001B[0m\u001B[1;33m,\u001B[0m \u001B[0mModelListGP\u001B[0m\u001B[1;33m\u001B[0m\u001B[1;33m\u001B[0m\u001B[0m\n",
      "\u001B[1;31mModuleNotFoundError\u001B[0m: No module named 'xopt.bayesian'"
     ]
    }
   ],
   "source": [
    "# main function\n",
    "import numpy as np\n",
    "import torch\n",
    "import matplotlib.pyplot as plt\n",
    "import botorch\n",
    "\n",
    "from xopt.bayesian.algorithms import bayesian_exploration\n",
    "\n",
    "from botorch.models import SingleTaskGP, ModelListGP\n",
    "from botorch.fit import fit_gpytorch_model\n",
    "from gpytorch.mlls.exact_marginal_log_likelihood import ExactMarginalLogLikelihood\n",
    "\n",
    "import os\n",
    "SMOKE_TEST = os.environ.get('SMOKE_TEST')\n",
    "\n",
    "# test function\n",
    "from xopt.tests.evaluators import TNK\n"
   ]
  },
  {
   "cell_type": "code",
   "execution_count": null,
   "id": "91ab5c05-8e2f-40f5-ae89-5b64e3f16a91",
   "metadata": {},
   "outputs": [],
   "source": [
    "# To see log messages\n",
    "from xopt import output_notebook\n",
    "output_notebook()"
   ]
  },
  {
   "cell_type": "code",
   "execution_count": null,
   "id": "37b14413-2736-4f26-a308-611a9c10b48b",
   "metadata": {},
   "outputs": [],
   "source": [
    "\"\"\"\n",
    "    Example where we must use a custom botorch model to make predictions. \n",
    "    We modify the test_TNK function with a wrapper to return Nan values for the y1 objective if one of the constraints are not satisfied.\n",
    "    To accomidate this we define a ModelListGP model as a custom model to remove Nan values from the training data.\n",
    "\n",
    "\"\"\"\n",
    "\n",
    "# define a new test function that returns nans for y1 if c1 is not valid\n",
    "def nan_test_TNK(x):\n",
    "    outputs = TNK.evaluate_TNK(x)\n",
    "    if outputs['c1'] < 0:\n",
    "        outputs['y1'] = np.nan\n",
    "        \n",
    "    return outputs\n",
    "\n",
    "\n",
    "# Get VOCS\n",
    "VOCS = TNK.VOCS\n",
    "VOCS['objectives'] = {'y1' : None}\n",
    "\n",
    "# add reference point\n",
    "ref = torch.tensor((1.4, 1.4))\n",
    "\n",
    "print(VOCS)\n",
    "# Get evaluate function\n",
    "EVALUATE = nan_test_TNK\n",
    "n_steps = 30\n",
    "generator_options = {}\n",
    "\n",
    "if SMOKE_TEST:\n",
    "    generator_options = {'batch_size': 1,\n",
    "                           'num_restarts': 2,\n",
    "                           'raw_samples': 2}\n",
    "    n_steps = 3\n",
    "\n",
    "\n",
    "# Run\n",
    "init_x = torch.tensor([[0.9, 0.9], [0.6, 0.6]])\n",
    "results = bayesian_exploration(VOCS, EVALUATE,\n",
    "                               n_initial_samples=5,\n",
    "                               initial_x=None,\n",
    "                               n_steps=n_steps,\n",
    "                               generator_options=generator_options)"
   ]
  },
  {
   "cell_type": "code",
   "execution_count": null,
   "id": "7d7b9312-17fe-438c-8120-c0fc458b6a3c",
   "metadata": {},
   "outputs": [],
   "source": [
    "fig, ax = plt.subplots()\n",
    "print(results.keys())\n",
    "variables = results['variables']\n",
    "print(results['objectives'])\n",
    "valid = results['variables'][results['feasibility'].flatten()]\n",
    "ax.plot(variables[:, 0], variables[:, 1], '-o')\n",
    "ax.plot(valid[:, 0], valid[:, 1], 'o')\n",
    "ax.set_xlabel('$x_1$')\n",
    "ax.set_ylabel('$x_2$')\n"
   ]
  }
 ],
 "metadata": {
  "kernelspec": {
   "name": "xopt",
   "language": "python",
   "display_name": "xopt"
  },
  "language_info": {
   "codemirror_mode": {
    "name": "ipython",
    "version": 3
   },
   "file_extension": ".py",
   "mimetype": "text/x-python",
   "name": "python",
   "nbconvert_exporter": "python",
   "pygments_lexer": "ipython3",
   "version": "3.9.7"
  }
 },
 "nbformat": 4,
 "nbformat_minor": 5
}