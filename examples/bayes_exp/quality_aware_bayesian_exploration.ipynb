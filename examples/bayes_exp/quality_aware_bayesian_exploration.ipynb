{
 "cells": [
  {
   "cell_type": "markdown",
   "metadata": {},
   "source": [
    "# Bayesian Exploration with Xopt"
   ]
  },
  {
   "cell_type": "markdown",
   "metadata": {},
   "source": [
    "## Quality aware test function\n",
    "\n",
    "Objectives:\n",
    "- y1: $y_1(x_1,x_2) = (x_1 - 0.5)^2$\n",
    "- q1: $q_1(x_1,x_2) = \\sin(x_1 + x_2)$"
   ]
  },
  {
   "cell_type": "code",
   "execution_count": 1,
   "metadata": {},
   "outputs": [],
   "source": [
    "# Import the class\n",
    "from xopt import Xopt\n",
    "\n",
    "import os\n",
    "SMOKE_TEST = os.environ.get('SMOKE_TEST')"
   ]
  },
  {
   "cell_type": "code",
   "execution_count": 2,
   "metadata": {},
   "outputs": [],
   "source": [
    "# To see log messages\n",
    "from xopt import output_notebook\n",
    "output_notebook()"
   ]
  },
  {
   "cell_type": "markdown",
   "metadata": {},
   "source": [
    "The `Xopt` object can be instantiated from a JSON or YAML file, or a dict, with the proper structure.\n",
    "\n",
    "Here we will make one"
   ]
  },
  {
   "cell_type": "code",
   "execution_count": 3,
   "metadata": {},
   "outputs": [],
   "source": [
    "import yaml\n",
    "# Make a proper input file. \n",
    "YAML=\"\"\"\n",
    "xopt: {output_path: null}\n",
    "\n",
    "algorithm:\n",
    "  name: quality_aware_exploration\n",
    "  options:  \n",
    "      n_initial_samples: 3\n",
    "      n_steps: 20\n",
    "      target_observation: y1\n",
    "      quality_observation: q1\n",
    "      nominal_quality_parameters:\n",
    "        x2: 0.5\n",
    "  \n",
    "evaluate:\n",
    "  name: test_TNK\n",
    "  function: xopt.tests.test_functions.quality_aware.evaluate\n",
    "  \n",
    "vocs:\n",
    "  name: TNK_test\n",
    "  variables:\n",
    "    x1: [0, 1.0]\n",
    "    x2: [0, 1.0]\n",
    "  objectives:\n",
    "    y1: None\n",
    "    q1: MAXIMIZE\n",
    "\n",
    "  constraints: {}\n",
    "  linked_variables: {}\n",
    "  constants: {}\n",
    "\n",
    "\"\"\"\n",
    "config = yaml.safe_load(YAML)\n",
    "\n",
    "if SMOKE_TEST:\n",
    "    config['algorithm']['options']['n_steps'] = 3\n",
    "    config['algorithm']['options']['generator_options']['num_restarts'] = 2\n",
    "    config['algorithm']['options']['generator_options']['raw_samples'] = 2"
   ]
  },
  {
   "cell_type": "code",
   "execution_count": 4,
   "metadata": {},
   "outputs": [
    {
     "name": "stdout",
     "output_type": "stream",
     "text": [
      "Loading config from dict.\n",
      "`name` keyword no longer allowed in vocs config, removing\n",
      "Loading config from dict.\n",
      "Loading config from dict.\n",
      "Loading config from dict.\n",
      "Loading config from dict.\n",
      "Warning: No path set for key xopt : output_path\n"
     ]
    },
    {
     "data": {
      "text/plain": "\n            Xopt \n________________________________           \nVersion: 0.5.0+18.g76f40f4.dirty\nConfigured: True\nConfig as YAML:\nxopt: {output_path: null}\nalgorithm:\n  name: quality_aware_exploration\n  options:\n    n_initial_samples: 3\n    n_steps: 20\n    target_observation: y1\n    quality_observation: q1\n    nominal_quality_parameters: {x2: 0.5}\n    output_path: .\n    restart_file: null\n    beta: 2.0\n  type: batched\n  function: null\nevaluate:\n  name: test_TNK\n  function: xopt.tests.test_functions.quality_aware.evaluate\n  executor: null\n  options: {extra_option: abc}\nvocs:\n  variables:\n    x1: [0, 1.0]\n    x2: [0, 1.0]\n  objectives: {y1: None, q1: MAXIMIZE}\n  constraints: {}\n  linked_variables: {}\n  constants: {}"
     },
     "execution_count": 4,
     "metadata": {},
     "output_type": "execute_result"
    }
   ],
   "source": [
    "X = Xopt(config)\n",
    "X"
   ]
  },
  {
   "cell_type": "markdown",
   "metadata": {},
   "source": [
    "# Run BayesOpt"
   ]
  },
  {
   "cell_type": "code",
   "execution_count": 5,
   "metadata": {},
   "outputs": [],
   "source": [
    "# Pick one of these\n",
    "from concurrent.futures import ThreadPoolExecutor as PoolExecutor\n",
    "#from concurrent.futures import ProcessPoolExecutor as PoolExecutor\n",
    "\n",
    "executor = PoolExecutor()\n",
    "# This will also work. \n",
    "#executor=None"
   ]
  },
  {
   "cell_type": "code",
   "execution_count": 6,
   "metadata": {},
   "outputs": [
    {
     "name": "stdout",
     "output_type": "stream",
     "text": [
      "Starting at time 2021-10-26T09:29:54-05:00\n",
      "Generating and submitting initial samples\n",
      "generating samples\n",
      "collecting results\n",
      "generating samples\n",
      "collecting results\n",
      "generating samples\n",
      "collecting results\n",
      "generating samples\n",
      "collecting results\n",
      "generating samples\n",
      "collecting results\n",
      "generating samples\n",
      "collecting results\n",
      "generating samples\n",
      "collecting results\n",
      "generating samples\n",
      "collecting results\n",
      "generating samples\n",
      "collecting results\n",
      "generating samples\n",
      "collecting results\n",
      "generating samples\n",
      "collecting results\n",
      "generating samples\n",
      "collecting results\n",
      "generating samples\n",
      "collecting results\n",
      "generating samples\n",
      "collecting results\n",
      "generating samples\n",
      "collecting results\n",
      "generating samples\n",
      "collecting results\n",
      "generating samples\n",
      "collecting results\n",
      "generating samples\n",
      "collecting results\n",
      "generating samples\n",
      "collecting results\n",
      "generating samples\n",
      "collecting results\n"
     ]
    }
   ],
   "source": [
    "# Change max generations\n",
    "results = X.run()"
   ]
  },
  {
   "cell_type": "markdown",
   "metadata": {},
   "source": [
    "# Plotting\n",
    "- plot input space samples -> yellow points satisfy constraints and purple points do not"
   ]
  },
  {
   "cell_type": "code",
   "execution_count": 7,
   "metadata": {},
   "outputs": [
    {
     "name": "stderr",
     "output_type": "stream",
     "text": [
      "C:\\Users\\RYANRO~1\\AppData\\Local\\Temp/ipykernel_31536/629052302.py:9: FutureWarning: arrays to stack must be passed as a \"sequence\" type such as list or tuple. Support for non-sequence iterables such as generators is deprecated as of NumPy 1.16 and will raise an error in the future.\n",
      "  pts = np.vstack((ele.ravel() for ele in xx)).T\n",
      "C:\\Users\\RYANRO~1\\AppData\\Local\\Temp/ipykernel_31536/629052302.py:16: MatplotlibDeprecationWarning: shading='flat' when X and Y have the same dimensions as C is deprecated since 3.3.  Either specify the corners of the quadrilaterals with X and Y, or pass shading='auto', 'nearest' or 'gouraud', or set rcParams['pcolor.shading'].  This will become an error two minor releases later.\n",
      "  ax[idx].pcolor(*xx, outputs[name].reshape(n,n), vmin=0, vmax=1)\n"
     ]
    },
    {
     "data": {
      "text/plain": "<Figure size 432x288 with 2 Axes>",
      "image/png": "[encoded data removed]"
     },
     "metadata": {
      "needs_background": "light"
     },
     "output_type": "display_data"
    }
   ],
   "source": [
    "import torch\n",
    "import numpy as np\n",
    "import matplotlib.pyplot as plt\n",
    "from xopt.tests.test_functions.quality_aware import VOCS, evaluate\n",
    "# plot objective functions\n",
    "n = 50\n",
    "x = np.linspace(0,1,n)\n",
    "xx = np.meshgrid(x,x)\n",
    "pts = np.vstack((ele.ravel() for ele in xx)).T\n",
    "\n",
    "inputs = {'x1': pts.T[0], 'x2': pts.T[1]}\n",
    "outputs = evaluate(inputs)\n",
    "fig, ax = plt.subplots(1,2,sharex='all',sharey='all')\n",
    "\n",
    "for idx, name in enumerate(outputs.keys()):\n",
    "    ax[idx].pcolor(*xx, outputs[name].reshape(n,n), vmin=0, vmax=1)\n",
    "    ax[idx].set_title(name)\n",
    "    ax[idx].set_aspect('equal')\n"
   ]
  },
  {
   "cell_type": "code",
   "execution_count": 8,
   "outputs": [
    {
     "name": "stderr",
     "output_type": "stream",
     "text": [
      "C:\\Users\\RYANRO~1\\AppData\\Local\\Temp/ipykernel_31536/2278687899.py:11: MatplotlibDeprecationWarning: shading='flat' when X and Y have the same dimensions as C is deprecated since 3.3.  Either specify the corners of the quadrilaterals with X and Y, or pass shading='auto', 'nearest' or 'gouraud', or set rcParams['pcolor.shading'].  This will become an error two minor releases later.\n",
      "  c = ax[idx].pcolor(*xx, mean[idx].reshape(n,n))\n",
      "C:\\Users\\RYANRO~1\\AppData\\Local\\Temp/ipykernel_31536/2278687899.py:11: MatplotlibDeprecationWarning: shading='flat' when X and Y have the same dimensions as C is deprecated since 3.3.  Either specify the corners of the quadrilaterals with X and Y, or pass shading='auto', 'nearest' or 'gouraud', or set rcParams['pcolor.shading'].  This will become an error two minor releases later.\n",
      "  c = ax[idx].pcolor(*xx, mean[idx].reshape(n,n))\n"
     ]
    },
    {
     "data": {
      "text/plain": "<Figure size 432x288 with 2 Axes>",
      "image/png": "[encoded data removed]"
     },
     "metadata": {
      "needs_background": "light"
     },
     "output_type": "display_data"
    }
   ],
   "source": [
    "# plot model prediction -> note that model values are inverted for y1 since we minimize\n",
    "model = X.algorithm.generator.create_model(X.algorithm.data)\n",
    "\n",
    "tpts = torch.tensor(pts).double()\n",
    "with torch.no_grad():\n",
    "    post = model(tpts)\n",
    "    mean = post.mean\n",
    "\n",
    "fig, ax = plt.subplots(1,2,sharex='all',sharey='all')\n",
    "for idx, name in enumerate(outputs.keys()):\n",
    "    c = ax[idx].pcolor(*xx, mean[idx].reshape(n,n))\n",
    "    ax[idx].plot(results['x1'], results['x2'], '.', c='black')\n",
    "    ax[idx].plot(results['x1'][:10], results['x2'][:10], '.', c='red')\n",
    "\n",
    "    ax[idx].set_title(name)\n",
    "    ax[idx].set_aspect('equal')"
   ],
   "metadata": {
    "collapsed": false,
    "pycharm": {
     "name": "#%%\n"
    }
   }
  },
  {
   "cell_type": "code",
   "execution_count": 9,
   "outputs": [
    {
     "data": {
      "text/plain": "tensor([[[0.4078, 0.4100]],\n\n        [[0.8919, 0.6880]]], dtype=torch.float64, grad_fn=<SoftplusBackward>)"
     },
     "execution_count": 9,
     "metadata": {},
     "output_type": "execute_result"
    }
   ],
   "source": [
    "model.covar_module.base_kernel.lengthscale"
   ],
   "metadata": {
    "collapsed": false,
    "pycharm": {
     "name": "#%%\n"
    }
   }
  },
  {
   "cell_type": "code",
   "execution_count": 9,
   "outputs": [],
   "source": [],
   "metadata": {
    "collapsed": false,
    "pycharm": {
     "name": "#%%\n"
    }
   }
  }
 ],
 "metadata": {
  "kernelspec": {
   "name": "xopt",
   "language": "python",
   "display_name": "xopt"
  },
  "language_info": {
   "codemirror_mode": {
    "name": "ipython",
    "version": 3
   },
   "file_extension": ".py",
   "mimetype": "text/x-python",
   "name": "python",
   "nbconvert_exporter": "python",
   "pygments_lexer": "ipython3",
   "version": "3.9.7"
  }
 },
 "nbformat": 4,
 "nbformat_minor": 4
}