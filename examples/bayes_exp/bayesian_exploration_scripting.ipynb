{
 "cells": [
  {
   "cell_type": "markdown",
   "id": "9e1b3d38-fe20-4a94-9901-9fe80e3fb1d8",
   "metadata": {},
   "source": [
    "# Bayesian exploration using script"
   ]
  },
  {
   "cell_type": "code",
   "execution_count": 1,
   "id": "4a9be9bf-b3c5-468d-84f6-c7b8cf25806e",
   "metadata": {},
   "outputs": [],
   "source": [
    "# main function\n",
    "import matplotlib.pyplot as plt\n",
    "%matplotlib inline\n",
    "\n",
    "import os\n",
    "SMOKE_TEST = os.environ.get('SMOKE_TEST')\n",
    "\n",
    "from xopt.algorithms.functional import run_algortihm\n",
    "from xopt.generators.bayesian.generator import BayesianExploration\n",
    "\n",
    "# test function\n",
    "from xopt.tests.test_functions import TNK"
   ]
  },
  {
   "cell_type": "code",
   "execution_count": 2,
   "id": "1d46c3b6-89a1-494e-b612-f94b836e0ad3",
   "metadata": {},
   "outputs": [],
   "source": [
    "# To see log messages\n",
    "from xopt import output_notebook\n",
    "output_notebook()"
   ]
  },
  {
   "cell_type": "code",
   "execution_count": 3,
   "id": "c408bff1-fd32-4b08-a6f2-779cce3fed7c",
   "metadata": {},
   "outputs": [
    {
     "name": "stdout",
     "output_type": "stream",
     "text": [
      "{'name': 'TNK_test', 'description': 'Constrainted test function TNK. See Table V in https://www.iitk.ac.in/kangal/Deb_NSGA-II.pdf', 'simulation': 'test_TNK', 'variables': {'x1': [0, 3.14159], 'x2': [0, 3.14159]}, 'objectives': {'y1': 'MINIMIZE', 'y2': 'MINIMIZE'}, 'constraints': {'c1': ['GREATER_THAN', 0], 'c2': ['LESS_THAN', 0.5]}, 'constants': {'a': 'dummy_constant'}}\n",
      "Generating and submitting initial samples\n",
      "generating samples\n",
      "collecting results\n",
      "generating samples\n",
      "collecting results\n",
      "generating samples\n",
      "collecting results\n",
      "generating samples\n",
      "collecting results\n",
      "generating samples\n",
      "collecting results\n",
      "generating samples\n",
      "collecting results\n",
      "generating samples\n",
      "collecting results\n",
      "generating samples\n",
      "collecting results\n",
      "generating samples\n",
      "collecting results\n",
      "generating samples\n",
      "collecting results\n",
      "generating samples\n",
      "collecting results\n",
      "generating samples\n",
      "collecting results\n",
      "generating samples\n",
      "collecting results\n",
      "generating samples\n",
      "collecting results\n",
      "generating samples\n",
      "collecting results\n",
      "generating samples\n",
      "collecting results\n",
      "generating samples\n",
      "collecting results\n",
      "generating samples\n",
      "collecting results\n",
      "generating samples\n",
      "collecting results\n",
      "generating samples\n",
      "collecting results\n",
      "generating samples\n",
      "collecting results\n",
      "generating samples\n",
      "collecting results\n",
      "generating samples\n",
      "collecting results\n",
      "generating samples\n",
      "collecting results\n",
      "generating samples\n",
      "collecting results\n",
      "generating samples\n",
      "collecting results\n",
      "generating samples\n",
      "collecting results\n",
      "generating samples\n",
      "collecting results\n",
      "generating samples\n",
      "collecting results\n",
      "generating samples\n",
      "collecting results\n"
     ]
    }
   ],
   "source": [
    "# Get VOCS\n",
    "vocs = TNK.VOCS\n",
    "print(vocs)\n",
    "\n",
    "# technically this is not necessary, but its good to be explict\n",
    "vocs['objectives'] = {'y1' : None}\n",
    "\n",
    "# Get evaluate function\n",
    "EVALUATE = TNK.evaluate_TNK\n",
    "\n",
    "n_steps = 30\n",
    "\n",
    "\n",
    "if SMOKE_TEST:\n",
    "    generator_options = {'batch_size': 1,\n",
    "                           'num_restarts': 2,\n",
    "                           'raw_samples': 2}\n",
    "    n_steps = 3\n",
    "\n",
    "# create generator object\n",
    "generator = BayesianExploration(vocs, n_steps)\n",
    "\n",
    "# Run - see comments for example options\n",
    "alg = run_algortihm(vocs, generator, function=EVALUATE,\n",
    "                    n_initial_samples=5)"
   ]
  },
  {
   "cell_type": "code",
   "execution_count": 4,
   "id": "7d7b9312-17fe-438c-8120-c0fc458b6a3c",
   "metadata": {},
   "outputs": [
    {
     "name": "stdout",
     "output_type": "stream",
     "text": [
      "Index(['x1', 'x2', 'a', 'y1', 'y2', 'c1', 'c2', 'some_array', 'status', 'x1_t',\n",
      "       'x2_t', 'y1_t', 'c1_t', 'c2_t', 'c1_f', 'c2_f', 'feasibility'],\n",
      "      dtype='object')\n",
      "          x1        x2\n",
      "0   0.689923  2.818579\n",
      "1   1.468700  1.647553\n",
      "2   0.245374  1.425126\n",
      "3   1.826021  2.461516\n",
      "4   2.952752  0.723516\n",
      "5   0.000000  0.599210\n",
      "6   0.868526  0.382821\n",
      "7   0.789513  1.226318\n",
      "8   1.140497  0.596205\n",
      "9   0.514333  1.036685\n",
      "10  0.922746  0.834307\n",
      "11  1.075814  0.259545\n",
      "12  0.267086  1.071238\n",
      "13  1.028776  0.110666\n",
      "14  0.095931  1.036788\n",
      "15  1.171484  0.489392\n",
      "16  0.643939  0.881040\n",
      "17  1.026912  0.911784\n",
      "18  1.035274  0.084570\n",
      "19  0.358644  0.978081\n",
      "20  0.088472  1.048224\n",
      "21  0.577010  1.171428\n",
      "22  1.177378  0.421430\n",
      "23  0.752236  0.759235\n",
      "24  1.037500  0.919982\n",
      "25  1.035950  0.071743\n",
      "26  0.313792  1.002644\n",
      "27  0.068759  1.039358\n",
      "28  1.182905  0.416066\n",
      "29  0.805710  1.112273\n",
      "30  0.948392  0.516985\n",
      "31  0.520749  1.184888\n",
      "32  0.622141  0.816497\n",
      "33  1.036797  0.067459\n",
      "34  1.120334  0.791336\n"
     ]
    },
    {
     "data": {
      "text/plain": "Text(0, 0.5, '$x_2$')"
     },
     "execution_count": 4,
     "metadata": {},
     "output_type": "execute_result"
    },
    {
     "data": {
      "text/plain": "<Figure size 432x288 with 1 Axes>",
      "image/png": "[encoded data removed]"
     },
     "metadata": {
      "needs_background": "light"
     },
     "output_type": "display_data"
    }
   ],
   "source": [
    "# plot exploration results and path - exploration should explore the feasible region of the TNK problem - See Table V in https://www.iitk.ac.in/kangal/Deb_NSGA-II.pdf\n",
    "fig, ax = plt.subplots()\n",
    "results = alg.data\n",
    "variables = results[vocs['variables']]\n",
    "valid = results[vocs['variables']][results['feasibility']]\n",
    "ax.plot(variables['x1'], variables['x2'], '-o')\n",
    "ax.plot(valid['x1'], valid['x2'], 'o')\n",
    "ax.set_xlabel('$x_1$')\n",
    "ax.set_ylabel('$x_2$')"
   ]
  },
  {
   "cell_type": "markdown",
   "id": "6f8e7e01-3e2b-4297-bec7-84440e185b71",
   "metadata": {},
   "source": [
    "### Bayesian exploration with proximal biasing\n",
    "- should result in a smoother path through input space"
   ]
  },
  {
   "cell_type": "code",
   "execution_count": 5,
   "id": "f89ac46e-5fc5-40fb-8f45-b524a312884b",
   "metadata": {},
   "outputs": [
    {
     "name": "stdout",
     "output_type": "stream",
     "text": [
      "Generating and submitting initial samples\n",
      "generating samples\n",
      "collecting results\n",
      "generating samples\n",
      "collecting results\n",
      "generating samples\n",
      "collecting results\n",
      "generating samples\n",
      "collecting results\n",
      "generating samples\n",
      "collecting results\n",
      "generating samples\n",
      "collecting results\n",
      "generating samples\n",
      "collecting results\n",
      "generating samples\n",
      "collecting results\n",
      "generating samples\n",
      "collecting results\n",
      "generating samples\n",
      "collecting results\n",
      "generating samples\n",
      "collecting results\n",
      "generating samples\n",
      "collecting results\n",
      "generating samples\n",
      "collecting results\n",
      "generating samples\n",
      "collecting results\n",
      "generating samples\n",
      "collecting results\n",
      "generating samples\n",
      "collecting results\n",
      "generating samples\n",
      "collecting results\n",
      "generating samples\n",
      "collecting results\n",
      "generating samples\n",
      "collecting results\n",
      "generating samples\n",
      "collecting results\n",
      "generating samples\n",
      "collecting results\n",
      "generating samples\n",
      "collecting results\n",
      "generating samples\n",
      "collecting results\n",
      "generating samples\n",
      "collecting results\n",
      "generating samples\n",
      "collecting results\n",
      "generating samples\n",
      "collecting results\n",
      "generating samples\n",
      "collecting results\n",
      "generating samples\n",
      "collecting results\n",
      "generating samples\n",
      "collecting results\n",
      "generating samples\n",
      "collecting results\n"
     ]
    }
   ],
   "source": [
    "# create generator object\n",
    "generator = BayesianExploration(vocs, n_steps, sigma=[0.1, 0.1])\n",
    "\n",
    "# Run - see comments for example options\n",
    "alg = run_algortihm(vocs, generator, function=EVALUATE,\n",
    "                    n_initial_samples=5)"
   ]
  },
  {
   "cell_type": "code",
   "execution_count": 7,
   "id": "388eff19-8ac4-4055-badf-de9544036836",
   "metadata": {},
   "outputs": [
    {
     "data": {
      "text/plain": "Text(0, 0.5, '$x_2$')"
     },
     "execution_count": 7,
     "metadata": {},
     "output_type": "execute_result"
    },
    {
     "data": {
      "text/plain": "<Figure size 432x288 with 1 Axes>",
      "image/png": "[encoded data removed]"
     },
     "metadata": {
      "needs_background": "light"
     },
     "output_type": "display_data"
    }
   ],
   "source": [
    "# plot exploration results and path - exploration should explore the feasible region of the TNK problem - See Table V in https://www.iitk.ac.in/kangal/Deb_NSGA-II.pdf\n",
    "fig, ax = plt.subplots()\n",
    "results = alg.data\n",
    "variables = results[vocs['variables']]\n",
    "valid = results[vocs['variables']][results['feasibility']]\n",
    "ax.plot(variables['x1'], variables['x2'], '-o')\n",
    "ax.plot(valid['x1'], valid['x2'], 'o')\n",
    "ax.set_xlabel('$x_1$')\n",
    "ax.set_ylabel('$x_2$')"
   ]
  },
  {
   "cell_type": "code",
   "execution_count": 6,
   "outputs": [],
   "source": [],
   "metadata": {
    "collapsed": false,
    "pycharm": {
     "name": "#%%\n"
    }
   }
  }
 ],
 "metadata": {
  "kernelspec": {
   "name": "xopt",
   "language": "python",
   "display_name": "xopt"
  },
  "language_info": {
   "codemirror_mode": {
    "name": "ipython",
    "version": 3
   },
   "file_extension": ".py",
   "mimetype": "text/x-python",
   "name": "python",
   "nbconvert_exporter": "python",
   "pygments_lexer": "ipython3",
   "version": "3.9.7"
  }
 },
 "nbformat": 4,
 "nbformat_minor": 5
}